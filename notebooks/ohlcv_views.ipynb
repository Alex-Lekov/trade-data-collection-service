{
 "cells": [
  {
   "cell_type": "markdown",
   "metadata": {},
   "source": [
    "# Просмотр OHLCV по материализованным витринам\n",
    "\n",
    "Минимальный набор утилит для запроса свечей из ClickHouse и визуализации данных. Перед запуском убедитесь, что ClickHouse доступен.\n"
   ]
  },
  {
   "cell_type": "code",
   "execution_count": 1,
   "id": "54c8e2c3",
   "metadata": {},
   "outputs": [],
   "source": [
    "import os\n",
    "import sys\n",
    "from pathlib import Path\n",
    "\n",
    "# Найти корень проекта с пакетом `app`\n",
    "for candidate in (Path.cwd(), *Path.cwd().parents):\n",
    "    if (candidate / 'app').is_dir():\n",
    "        if str(candidate) not in sys.path:\n",
    "            sys.path.append(str(candidate))\n",
    "        break\n",
    "else:\n",
    "    raise RuntimeError('Не удалось найти каталог с пакетом app')\n",
    "\n",
    "import pandas as pd\n",
    "import plotly.graph_objects as go\n",
    "import clickhouse_driver\n",
    "\n",
    "from app.clickhouse_schema import (\n",
    "    DATABASE_NAME,\n",
    "    CANDLES_TABLE,\n",
    "    CANDLES_TABLE_FULL,\n",
    "    BASE_INTERVAL,\n",
    "    ROLLUP_SPECS,\n",
    ")\n"
   ]
  },
  {
   "cell_type": "code",
   "execution_count": 2,
   "id": "7a4f1ec5",
   "metadata": {},
   "outputs": [],
   "source": [
    "DEFAULT_CLICKHOUSE_HOST = os.getenv('CLICKHOUSE_HOST', 'localhost')\n",
    "DEFAULT_CLICKHOUSE_PORT = int(os.getenv('CLICKHOUSE_PORT', '19001'))\n",
    "DEFAULT_CLICKHOUSE_USER = os.getenv('CLICKHOUSE_USER', 'default')\n",
    "DEFAULT_CLICKHOUSE_PASSWORD = os.getenv('CLICKHOUSE_PASSWORD', '')\n",
    "DEFAULT_CLICKHOUSE_DB = os.getenv('CLICKHOUSE_DATABASE', DATABASE_NAME)\n",
    "\n",
    "TABLES: dict[str, dict[str, object]] = {\n",
    "    CANDLES_TABLE: {\n",
    "        'full_name': CANDLES_TABLE_FULL,\n",
    "        'label': BASE_INTERVAL,\n",
    "        'time_column': 'start',\n",
    "        'is_rollup': False,\n",
    "        'needs_interval': True,\n",
    "    }\n",
    "}\n",
    "for spec in ROLLUP_SPECS:\n",
    "    TABLES[spec.table_name] = {\n",
    "        'full_name': spec.table_full,\n",
    "        'label': spec.label,\n",
    "        'time_column': 'candle_start',\n",
    "        'is_rollup': True,\n",
    "        'needs_interval': False,\n",
    "    }\n",
    "\n",
    "def build_client_kwargs(*, host: str, port: int, user: str, password: str, database: str, secure: bool = False) -> dict[str, object]:\n",
    "    client_kwargs: dict[str, object] = {\n",
    "        'host': host or 'localhost',\n",
    "        'port': int(port),\n",
    "        'database': database or DATABASE_NAME,\n",
    "        'user': user or 'default',\n",
    "    }\n",
    "    if password:\n",
    "        client_kwargs['password'] = password\n",
    "    if secure:\n",
    "        client_kwargs['secure'] = True\n",
    "        client_kwargs.setdefault('verify', False)\n",
    "    return client_kwargs\n",
    "\n",
    "def fetch_recent_ohlcv(*, table_name: str, exchange: str, symbol: str, interval: str | None, limit: int, client_kwargs: dict[str, object]) -> pd.DataFrame:\n",
    "    table = TABLES[table_name]\n",
    "    params: dict[str, object] = {\n",
    "        'exchange': exchange,\n",
    "        'symbol': symbol,\n",
    "        'limit': max(1, int(limit)),\n",
    "    }\n",
    "    time_column = table['time_column']\n",
    "    if table['is_rollup']:\n",
    "        query = f\"\"\"\n",
    "            SELECT\n",
    "                {time_column} AS ts,\n",
    "                argMinMerge(open)   AS open,\n",
    "                maxMerge(high)     AS high,\n",
    "                minMerge(low)      AS low,\n",
    "                argMaxMerge(close) AS close,\n",
    "                sumMerge(volume)   AS volume,\n",
    "                sumMerge(trades)   AS trades\n",
    "            FROM {table['full_name']}\n",
    "            WHERE exchange = %(exchange)s\n",
    "              AND symbol = %(symbol)s\n",
    "            GROUP BY exchange, symbol, {time_column}\n",
    "            ORDER BY ts DESC\n",
    "            LIMIT %(limit)s\n",
    "        \"\"\"\n",
    "    else:\n",
    "        if table['needs_interval'] and not interval:\n",
    "            raise ValueError('Для этой таблицы необходимо указать таймфрейм.')\n",
    "        params['interval'] = interval\n",
    "        query = f\"\"\"\n",
    "            SELECT\n",
    "                {time_column} AS ts,\n",
    "                open,\n",
    "                high,\n",
    "                low,\n",
    "                close,\n",
    "                volume,\n",
    "                trades\n",
    "            FROM {table['full_name']}\n",
    "            WHERE exchange = %(exchange)s\n",
    "              AND symbol = %(symbol)s\n",
    "              AND interval = %(interval)s\n",
    "            ORDER BY ts DESC\n",
    "            LIMIT %(limit)s\n",
    "        \"\"\"\n",
    "    with clickhouse_driver.Client(**client_kwargs) as client:\n",
    "        rows = client.execute(query, params)\n",
    "    df = pd.DataFrame(rows, columns=['ts', 'open', 'high', 'low', 'close', 'volume', 'trades'])\n",
    "    if df.empty:\n",
    "        return df\n",
    "    df['ts'] = pd.to_datetime(df['ts'], utc=True)\n",
    "    return df.sort_values('ts').reset_index(drop=True)\n",
    "\n",
    "def plot_candles(df: pd.DataFrame, title: str) -> go.Figure:\n",
    "    fig = go.Figure(go.Candlestick(\n",
    "        x=df['ts'],\n",
    "        open=df['open'],\n",
    "        high=df['high'],\n",
    "        low=df['low'],\n",
    "        close=df['close'],\n",
    "        name='OHLC',\n",
    "        increasing_line_color='#00C087',\n",
    "        decreasing_line_color='#FF4B4B',\n",
    "        increasing_fillcolor='#00C087',\n",
    "        decreasing_fillcolor='#FF4B4B',\n",
    "    ))\n",
    "    fig.update_layout(\n",
    "        title=title,\n",
    "        xaxis_title='Время (UTC)',\n",
    "        yaxis_title='Цена',\n",
    "        xaxis_rangeslider_visible=False,\n",
    "        template='plotly_dark',\n",
    "        paper_bgcolor='#181A20',\n",
    "        plot_bgcolor='#181A20',\n",
    "        hovermode='x unified',\n",
    "    )\n",
    "    fig.update_xaxes(gridcolor='#23272F', showline=True, linecolor='#23272F')\n",
    "    fig.update_yaxes(gridcolor='#23272F', showline=True, linecolor='#23272F')\n",
    "    return fig\n",
    "\n",
    "def show_recent_chart(*, table_name: str, exchange: str, symbol: str, interval: str | None, limit: int, client_kwargs: dict[str, object]) -> None:\n",
    "    df = fetch_recent_ohlcv(\n",
    "        table_name=table_name,\n",
    "        exchange=exchange,\n",
    "        symbol=symbol,\n",
    "        interval=interval,\n",
    "        limit=limit,\n",
    "        client_kwargs=client_kwargs,\n",
    "    )\n",
    "    if df.empty:\n",
    "        print('Нет данных для выбранных параметров')\n",
    "        return\n",
    "    table_label = TABLES[table_name]['label']\n",
    "    plot_candles(df, title=f'{symbol} ({table_label})').show()\n",
    "\n",
    "CLIENT_KWARGS = build_client_kwargs(\n",
    "    host=DEFAULT_CLICKHOUSE_HOST,\n",
    "    port=DEFAULT_CLICKHOUSE_PORT,\n",
    "    user=DEFAULT_CLICKHOUSE_USER,\n",
    "    password=DEFAULT_CLICKHOUSE_PASSWORD,\n",
    "    database=DEFAULT_CLICKHOUSE_DB,\n",
    ")\n"
   ]
  },
  {
   "cell_type": "code",
   "execution_count": 3,
   "id": "62878caa",
   "metadata": {},
   "outputs": [
    {
     "data": {
      "application/vnd.plotly.v1+json": {
       "config": {
        "plotlyServerURL": "https://plot.ly"
       },
       "data": [
        {
         "close": {
          "bdata": "6Nms+lxt5T/o2az6XG3lP3E9CtejcOU/yjLEsS5u5T+P5PIf0m/lPwaBlUOLbOU/YHZPHhZq5T9+HThnRGnlP0LPZtXnauU/nMQgsHJo5T8kKH6MuWvlP0LPZtXnauU/Qs9m1edq5T9xPQrXo3DlP3E9CtejcOU/2/l+arx05T9kXdxGA3jlP4EExY8xd+U/n6ut2F925T+fq63YX3blPxdIUPwYc+U/U5YhjnVx5T+si9toAG/lP8oyxLEubuU/BoGVQ4ts5T8xCKwcWmTlP34dOGdEaeU/1xLyQc9m5T8TYcPTK2XlP0+vlGWIY+U/1xLyQc9m5T9gdk8eFmrlP2B2Tx4WauU/PujZrPpc5T+2hHzQs1nlP0vIBz2bVeU/WKg1zTtO5T8Mk6mCUUnlP5T2Bl+YTOU/0ETY8PRK5T8dWmQ730/lP5T2Bl+YTOU/YqHWNO845T/0/dR46SblP9ZW7C+7J+U/2T15WKg15T9R2ht8YTLlP+oENBE2POU/6gQ0ETY85T8IrBxaZDvlP2Kh1jTvOOU/yXa+nxov5T+NKO0NvjDlP8l2vp8aL+U/QBNhw9Mr5T/Jdr6fGi/lPyJseHqlLOU/1lbsL7sn5T9N845TdCTlP7ivA+eMKOU/iUFg5dAi5T8wTKYKRiXlP03zjlN0JOU/QBNhw9Mr5T98YTJVMCrlP40o7Q2+MOU/MzMzMzMz5T/nHafoSC7lPwXFjzF3LeU/mggbnl4p5T8ibHh6pSzlP7ivA+eMKOU/Imx4eqUs5T/WVuwvuyflP2uad5yiI+U/W9O84xQd5T8B3gIJih/lP5oIG55eKeU/fGEyVTAq5T/nHafoSC7lP1HaG3xhMuU/XrpJDAIr5T98YTJVMCrlP/T91HjpJuU/MEymCkYl5T+n6Egu/yHlP8WPMXctIeU/9P3UeOkm5T+aCBueXinlPyJseHqlLOU/jSjtDb4w5T+NKO0NvjDlP/fkYaHWNOU/UdobfGEy5T+8lpAPejblP/fkYaHWNOU/RPrt68A55T+ASL99HTjlP40o7Q2+MOU/MzMzMzMz5T8=",
          "dtype": "f8"
         },
         "decreasing": {
          "fillcolor": "#FF4B4B",
          "line": {
           "color": "#FF4B4B"
          }
         },
         "high": {
          "bdata": "6Nms+lxt5T+P5PIf0m/lP9v5fmq8dOU/vVKWIY515T9TliGOdXHlP4/k8h/Sb+U/6Nms+lxt5T8kKH6MuWvlPyQofoy5a+U/Qs9m1edq5T8kKH6MuWvlP8oyxLEubuU/6Nms+lxt5T9TliGOdXHlPxdIUPwYc+U/gQTFjzF35T8oDwu1pnnlP2Rd3EYDeOU/7MA5I0p75T+BBMWPMXflP5+rrdhfduU/F0hQ/Bhz5T9TliGOdXHlP3E9CtejcOU/rIvbaABv5T/o2az6XG3lPyQofoy5a+U/YHZPHhZq5T9gdk8eFmrlP5zEILByaOU/1xLyQc9m5T8kKH6MuWvlP+jZrPpcbeU/Qs9m1edq5T+ppE5AE2HlP7aEfNCzWeU/LSEf9GxW5T87AU2EDU/lP5T2Bl+YTOU/lPYGX5hM5T8dWmQ730/lP8NkqmBUUuU/sp3vp8ZL5T9iodY07zjlP57vp8ZLN+U/6gQ0ETY85T+8lpAPejblP8xdS8gHPeU/rrZif9k95T+utmJ/2T3lP662Yn/ZPeU/CKwcWmQ75T9vgQTFjzHlP6vP1VbsL+U/yXa+nxov5T/Jdr6fGi/lPxWMSuoENOU/QBNhw9Mr5T/WVuwvuyflP7ivA+eMKOU/uK8D54wo5T8wTKYKRiXlP5oIG55eKeU/5x2n6Egu5T8FxY8xdy3lP40o7Q2+MOU/vJaQD3o25T+ASL99HTjlP+cdp+hILuU/jSjtDb4w5T/nHafoSC7lP+cdp+hILuU/BcWPMXct5T+NKO0NvjDlP7ivA+eMKOU/EqW9wRcm5T8B3gIJih/lP5oIG55eKeU/QBNhw9Mr5T/nHafoSC7lPzMzMzMzM+U/MzMzMzMz5T8ibHh6pSzlP3xhMlUwKuU/9P3UeOkm5T9eukkMAivlP4lBYOXQIuU/9P3UeOkm5T98YTJVMCrlPwXFjzF3LeU/jSjtDb4w5T9R2ht8YTLlP/fkYaHWNOU/9+RhodY05T/qBDQRNjzlP57vp8ZLN+U/RPrt68A55T8mUwWjkjrlP57vp8ZLN+U/MzMzMzMz5T8=",
          "dtype": "f8"
         },
         "increasing": {
          "fillcolor": "#00C087",
          "line": {
           "color": "#00C087"
          }
         },
         "low": {
          "bdata": "MQisHFpk5T8GgZVDi2zlP+jZrPpcbeU/6Nms+lxt5T8kKH6MuWvlP0LPZtXnauU/fh04Z0Rp5T+cxCCwcmjlP21Wfa62YuU/9bnaiv1l5T+6awn5oGflP34dOGdEaeU/1xLyQc9m5T8kKH6MuWvlP8oyxLEubuU/U5YhjnVx5T8XSFD8GHPlP/mgZ7Pqc+U/vVKWIY515T817zhFR3LlPzXvOEVHcuU/6Nms+lxt5T8kKH6MuWvlPyQofoy5a+U/JCh+jLlr5T+L/WX35GHlP0+vlGWIY+U/ApoIG55e5T9Pr5RliGPlP4v9ZffkYeU/x0s3iUFg5T/XEvJBz2blP5zEILByaOU/XI/C9Shc5T/y0k1iEFjlP8NkqmBUUuU/WKg1zTtO5T+h1jTvOEXlP2aIY13cRuU/gy9MpgpG5T9miGNd3EblP9BE2PD0SuU/PSzUmuYd5T+GWtO84xTlP03zjlN0JOU/9P3UeOkm5T9AE2HD0yvlP40o7Q2+MOU/YqHWNO845T9E+u3rwDnlP4BIv30dOOU/BcWPMXct5T9AE2HD0yvlP5oIG55eKeU/XrpJDAIr5T9eukkMAivlPyJseHqlLOU/p+hILv8h5T/jNhrAWyDlP+M2GsBbIOU/xY8xdy0h5T/jNhrAWyDlP4lBYOXQIuU/TfOOU3Qk5T98YTJVMCrlP03zjlN0JOU/yXa+nxov5T8FxY8xdy3lP3xhMlUwKuU/1lbsL7sn5T+aCBueXinlPzBMpgpGJeU/uK8D54wo5T8Spb3BFyblP6foSC7/IeU/liGOdXEb5T+0yHa+nxrlPwHeAgmKH+U/1lbsL7sn5T98YTJVMCrlPwXFjzF3LeU/uK8D54wo5T/0/dR46SblP6foSC7/IeU/TfOOU3Qk5T/jNhrAWyDlP3h6pSxDHOU/xY8xdy0h5T+JQWDl0CLlP9ZW7C+7J+U/Imx4eqUs5T8FxY8xdy3lP40o7Q2+MOU/b4EExY8x5T8zMzMzMzPlPzMzMzMzM+U/9+RhodY05T8zMzMzMzPlP8l2vp8aL+U/jSjtDb4w5T8=",
          "dtype": "f8"
         },
         "name": "OHLC",
         "open": {
          "bdata": "9bnaiv1l5T/o2az6XG3lP+jZrPpcbeU/U5YhjnVx5T/KMsSxLm7lP6yL22gAb+U/BoGVQ4ts5T9Cz2bV52rlP34dOGdEaeU/Qs9m1edq5T+6awn5oGflPyQofoy5a+U/YHZPHhZq5T8kKH6MuWvlP3E9CtejcOU/U5YhjnVx5T/b+X5qvHTlP2Rd3EYDeOU/ZF3cRgN45T+BBMWPMXflP5+rrdhfduU/F0hQ/Bhz5T9TliGOdXHlP6yL22gAb+U/rIvbaABv5T8GgZVDi2zlPzEIrBxaZOU/YHZPHhZq5T+6awn5oGflP/W52or9ZeU/MQisHFpk5T+6awn5oGflP2B2Tx4WauU/Qs9m1edq5T8gQfFjzF3lP7aEfNCzWeU/LSEf9GxW5T87AU2EDU/lPwyTqYJRSeU/lPYGX5hM5T/QRNjw9ErlPx1aZDvfT+U/sp3vp8ZL5T9iodY07zjlP/T91HjpJuU/9P3UeOkm5T/ZPXlYqDXlP2+BBMWPMeU/6gQ0ETY85T8IrBxaZDvlP+oENBE2POU/gEi/fR045T/Jdr6fGi/lP6vP1VbsL+U/5x2n6Egu5T9AE2HD0yvlP8l2vp8aL+U/QBNhw9Mr5T/WVuwvuyflPzBMpgpGJeU/uK8D54wo5T9rmnecoiPlPzBMpgpGJeU/TfOOU3Qk5T9AE2HD0yvlP5oIG55eKeU/jSjtDb4w5T9R2ht8YTLlPwXFjzF3LeU/BcWPMXct5T98YTJVMCrlP0ATYcPTK+U/mggbnl4p5T8ibHh6pSzlP9ZW7C+7J+U/a5p3nKIj5T89LNSa5h3lPwHeAgmKH+U/mggbnl4p5T98YTJVMCrlP+cdp+hILuU/UdobfGEy5T9AE2HD0yvlP5oIG55eKeU/9P3UeOkm5T8Spb3BFyblP8WPMXctIeU/xY8xdy0h5T/0/dR46SblP5oIG55eKeU/BcWPMXct5T9vgQTFjzHlP40o7Q2+MOU/9+RhodY05T8zMzMzMzPlP9k9eVioNeU/9+RhodY05T9iodY07zjlP57vp8ZLN+U/jSjtDb4w5T8=",
          "dtype": "f8"
         },
         "type": "candlestick",
         "x": [
          "2025-10-21T19:34:00",
          "2025-10-21T19:35:00",
          "2025-10-21T19:36:00",
          "2025-10-21T19:37:00",
          "2025-10-21T19:38:00",
          "2025-10-21T19:39:00",
          "2025-10-21T19:40:00",
          "2025-10-21T19:41:00",
          "2025-10-21T19:42:00",
          "2025-10-21T19:43:00",
          "2025-10-21T19:44:00",
          "2025-10-21T19:45:00",
          "2025-10-21T19:46:00",
          "2025-10-21T19:47:00",
          "2025-10-21T19:48:00",
          "2025-10-21T19:49:00",
          "2025-10-21T19:50:00",
          "2025-10-21T19:51:00",
          "2025-10-21T19:52:00",
          "2025-10-21T19:53:00",
          "2025-10-21T19:54:00",
          "2025-10-21T19:55:00",
          "2025-10-21T19:56:00",
          "2025-10-21T19:57:00",
          "2025-10-21T19:58:00",
          "2025-10-21T19:59:00",
          "2025-10-21T20:00:00",
          "2025-10-21T20:01:00",
          "2025-10-21T20:02:00",
          "2025-10-21T20:03:00",
          "2025-10-21T20:04:00",
          "2025-10-21T20:05:00",
          "2025-10-21T20:06:00",
          "2025-10-21T20:07:00",
          "2025-10-21T20:08:00",
          "2025-10-21T20:09:00",
          "2025-10-21T20:10:00",
          "2025-10-21T20:11:00",
          "2025-10-21T20:12:00",
          "2025-10-21T20:13:00",
          "2025-10-21T20:14:00",
          "2025-10-21T20:15:00",
          "2025-10-21T20:16:00",
          "2025-10-21T20:17:00",
          "2025-10-21T20:18:00",
          "2025-10-21T20:19:00",
          "2025-10-21T20:20:00",
          "2025-10-21T20:21:00",
          "2025-10-21T20:22:00",
          "2025-10-21T20:23:00",
          "2025-10-21T20:24:00",
          "2025-10-21T20:25:00",
          "2025-10-21T20:26:00",
          "2025-10-21T20:27:00",
          "2025-10-21T20:28:00",
          "2025-10-21T20:29:00",
          "2025-10-21T20:30:00",
          "2025-10-21T20:31:00",
          "2025-10-21T20:32:00",
          "2025-10-21T20:33:00",
          "2025-10-21T20:34:00",
          "2025-10-21T20:35:00",
          "2025-10-21T20:36:00",
          "2025-10-21T20:37:00",
          "2025-10-21T20:38:00",
          "2025-10-21T20:39:00",
          "2025-10-21T20:40:00",
          "2025-10-21T20:41:00",
          "2025-10-21T20:42:00",
          "2025-10-21T20:43:00",
          "2025-10-21T20:44:00",
          "2025-10-21T20:45:00",
          "2025-10-21T20:46:00",
          "2025-10-21T20:47:00",
          "2025-10-21T20:48:00",
          "2025-10-21T20:49:00",
          "2025-10-21T20:50:00",
          "2025-10-21T20:51:00",
          "2025-10-21T20:52:00",
          "2025-10-21T20:53:00",
          "2025-10-21T20:54:00",
          "2025-10-21T20:55:00",
          "2025-10-21T20:56:00",
          "2025-10-21T20:57:00",
          "2025-10-21T20:58:00",
          "2025-10-21T20:59:00",
          "2025-10-21T21:00:00",
          "2025-10-21T21:01:00",
          "2025-10-21T21:02:00",
          "2025-10-21T21:03:00",
          "2025-10-21T21:04:00",
          "2025-10-21T21:05:00",
          "2025-10-21T21:06:00",
          "2025-10-21T21:07:00",
          "2025-10-21T21:08:00",
          "2025-10-21T21:09:00",
          "2025-10-21T21:10:00",
          "2025-10-21T21:11:00",
          "2025-10-21T21:12:00",
          "2025-10-21T21:13:00"
         ]
        }
       ],
       "layout": {
        "hovermode": "x unified",
        "paper_bgcolor": "#181A20",
        "plot_bgcolor": "#181A20",
        "template": {
         "data": {
          "bar": [
           {
            "error_x": {
             "color": "#f2f5fa"
            },
            "error_y": {
             "color": "#f2f5fa"
            },
            "marker": {
             "line": {
              "color": "rgb(17,17,17)",
              "width": 0.5
             },
             "pattern": {
              "fillmode": "overlay",
              "size": 10,
              "solidity": 0.2
             }
            },
            "type": "bar"
           }
          ],
          "barpolar": [
           {
            "marker": {
             "line": {
              "color": "rgb(17,17,17)",
              "width": 0.5
             },
             "pattern": {
              "fillmode": "overlay",
              "size": 10,
              "solidity": 0.2
             }
            },
            "type": "barpolar"
           }
          ],
          "carpet": [
           {
            "aaxis": {
             "endlinecolor": "#A2B1C6",
             "gridcolor": "#506784",
             "linecolor": "#506784",
             "minorgridcolor": "#506784",
             "startlinecolor": "#A2B1C6"
            },
            "baxis": {
             "endlinecolor": "#A2B1C6",
             "gridcolor": "#506784",
             "linecolor": "#506784",
             "minorgridcolor": "#506784",
             "startlinecolor": "#A2B1C6"
            },
            "type": "carpet"
           }
          ],
          "choropleth": [
           {
            "colorbar": {
             "outlinewidth": 0,
             "ticks": ""
            },
            "type": "choropleth"
           }
          ],
          "contour": [
           {
            "colorbar": {
             "outlinewidth": 0,
             "ticks": ""
            },
            "colorscale": [
             [
              0,
              "#0d0887"
             ],
             [
              0.1111111111111111,
              "#46039f"
             ],
             [
              0.2222222222222222,
              "#7201a8"
             ],
             [
              0.3333333333333333,
              "#9c179e"
             ],
             [
              0.4444444444444444,
              "#bd3786"
             ],
             [
              0.5555555555555556,
              "#d8576b"
             ],
             [
              0.6666666666666666,
              "#ed7953"
             ],
             [
              0.7777777777777778,
              "#fb9f3a"
             ],
             [
              0.8888888888888888,
              "#fdca26"
             ],
             [
              1,
              "#f0f921"
             ]
            ],
            "type": "contour"
           }
          ],
          "contourcarpet": [
           {
            "colorbar": {
             "outlinewidth": 0,
             "ticks": ""
            },
            "type": "contourcarpet"
           }
          ],
          "heatmap": [
           {
            "colorbar": {
             "outlinewidth": 0,
             "ticks": ""
            },
            "colorscale": [
             [
              0,
              "#0d0887"
             ],
             [
              0.1111111111111111,
              "#46039f"
             ],
             [
              0.2222222222222222,
              "#7201a8"
             ],
             [
              0.3333333333333333,
              "#9c179e"
             ],
             [
              0.4444444444444444,
              "#bd3786"
             ],
             [
              0.5555555555555556,
              "#d8576b"
             ],
             [
              0.6666666666666666,
              "#ed7953"
             ],
             [
              0.7777777777777778,
              "#fb9f3a"
             ],
             [
              0.8888888888888888,
              "#fdca26"
             ],
             [
              1,
              "#f0f921"
             ]
            ],
            "type": "heatmap"
           }
          ],
          "histogram": [
           {
            "marker": {
             "pattern": {
              "fillmode": "overlay",
              "size": 10,
              "solidity": 0.2
             }
            },
            "type": "histogram"
           }
          ],
          "histogram2d": [
           {
            "colorbar": {
             "outlinewidth": 0,
             "ticks": ""
            },
            "colorscale": [
             [
              0,
              "#0d0887"
             ],
             [
              0.1111111111111111,
              "#46039f"
             ],
             [
              0.2222222222222222,
              "#7201a8"
             ],
             [
              0.3333333333333333,
              "#9c179e"
             ],
             [
              0.4444444444444444,
              "#bd3786"
             ],
             [
              0.5555555555555556,
              "#d8576b"
             ],
             [
              0.6666666666666666,
              "#ed7953"
             ],
             [
              0.7777777777777778,
              "#fb9f3a"
             ],
             [
              0.8888888888888888,
              "#fdca26"
             ],
             [
              1,
              "#f0f921"
             ]
            ],
            "type": "histogram2d"
           }
          ],
          "histogram2dcontour": [
           {
            "colorbar": {
             "outlinewidth": 0,
             "ticks": ""
            },
            "colorscale": [
             [
              0,
              "#0d0887"
             ],
             [
              0.1111111111111111,
              "#46039f"
             ],
             [
              0.2222222222222222,
              "#7201a8"
             ],
             [
              0.3333333333333333,
              "#9c179e"
             ],
             [
              0.4444444444444444,
              "#bd3786"
             ],
             [
              0.5555555555555556,
              "#d8576b"
             ],
             [
              0.6666666666666666,
              "#ed7953"
             ],
             [
              0.7777777777777778,
              "#fb9f3a"
             ],
             [
              0.8888888888888888,
              "#fdca26"
             ],
             [
              1,
              "#f0f921"
             ]
            ],
            "type": "histogram2dcontour"
           }
          ],
          "mesh3d": [
           {
            "colorbar": {
             "outlinewidth": 0,
             "ticks": ""
            },
            "type": "mesh3d"
           }
          ],
          "parcoords": [
           {
            "line": {
             "colorbar": {
              "outlinewidth": 0,
              "ticks": ""
             }
            },
            "type": "parcoords"
           }
          ],
          "pie": [
           {
            "automargin": true,
            "type": "pie"
           }
          ],
          "scatter": [
           {
            "marker": {
             "line": {
              "color": "#283442"
             }
            },
            "type": "scatter"
           }
          ],
          "scatter3d": [
           {
            "line": {
             "colorbar": {
              "outlinewidth": 0,
              "ticks": ""
             }
            },
            "marker": {
             "colorbar": {
              "outlinewidth": 0,
              "ticks": ""
             }
            },
            "type": "scatter3d"
           }
          ],
          "scattercarpet": [
           {
            "marker": {
             "colorbar": {
              "outlinewidth": 0,
              "ticks": ""
             }
            },
            "type": "scattercarpet"
           }
          ],
          "scattergeo": [
           {
            "marker": {
             "colorbar": {
              "outlinewidth": 0,
              "ticks": ""
             }
            },
            "type": "scattergeo"
           }
          ],
          "scattergl": [
           {
            "marker": {
             "line": {
              "color": "#283442"
             }
            },
            "type": "scattergl"
           }
          ],
          "scattermap": [
           {
            "marker": {
             "colorbar": {
              "outlinewidth": 0,
              "ticks": ""
             }
            },
            "type": "scattermap"
           }
          ],
          "scattermapbox": [
           {
            "marker": {
             "colorbar": {
              "outlinewidth": 0,
              "ticks": ""
             }
            },
            "type": "scattermapbox"
           }
          ],
          "scatterpolar": [
           {
            "marker": {
             "colorbar": {
              "outlinewidth": 0,
              "ticks": ""
             }
            },
            "type": "scatterpolar"
           }
          ],
          "scatterpolargl": [
           {
            "marker": {
             "colorbar": {
              "outlinewidth": 0,
              "ticks": ""
             }
            },
            "type": "scatterpolargl"
           }
          ],
          "scatterternary": [
           {
            "marker": {
             "colorbar": {
              "outlinewidth": 0,
              "ticks": ""
             }
            },
            "type": "scatterternary"
           }
          ],
          "surface": [
           {
            "colorbar": {
             "outlinewidth": 0,
             "ticks": ""
            },
            "colorscale": [
             [
              0,
              "#0d0887"
             ],
             [
              0.1111111111111111,
              "#46039f"
             ],
             [
              0.2222222222222222,
              "#7201a8"
             ],
             [
              0.3333333333333333,
              "#9c179e"
             ],
             [
              0.4444444444444444,
              "#bd3786"
             ],
             [
              0.5555555555555556,
              "#d8576b"
             ],
             [
              0.6666666666666666,
              "#ed7953"
             ],
             [
              0.7777777777777778,
              "#fb9f3a"
             ],
             [
              0.8888888888888888,
              "#fdca26"
             ],
             [
              1,
              "#f0f921"
             ]
            ],
            "type": "surface"
           }
          ],
          "table": [
           {
            "cells": {
             "fill": {
              "color": "#506784"
             },
             "line": {
              "color": "rgb(17,17,17)"
             }
            },
            "header": {
             "fill": {
              "color": "#2a3f5f"
             },
             "line": {
              "color": "rgb(17,17,17)"
             }
            },
            "type": "table"
           }
          ]
         },
         "layout": {
          "annotationdefaults": {
           "arrowcolor": "#f2f5fa",
           "arrowhead": 0,
           "arrowwidth": 1
          },
          "autotypenumbers": "strict",
          "coloraxis": {
           "colorbar": {
            "outlinewidth": 0,
            "ticks": ""
           }
          },
          "colorscale": {
           "diverging": [
            [
             0,
             "#8e0152"
            ],
            [
             0.1,
             "#c51b7d"
            ],
            [
             0.2,
             "#de77ae"
            ],
            [
             0.3,
             "#f1b6da"
            ],
            [
             0.4,
             "#fde0ef"
            ],
            [
             0.5,
             "#f7f7f7"
            ],
            [
             0.6,
             "#e6f5d0"
            ],
            [
             0.7,
             "#b8e186"
            ],
            [
             0.8,
             "#7fbc41"
            ],
            [
             0.9,
             "#4d9221"
            ],
            [
             1,
             "#276419"
            ]
           ],
           "sequential": [
            [
             0,
             "#0d0887"
            ],
            [
             0.1111111111111111,
             "#46039f"
            ],
            [
             0.2222222222222222,
             "#7201a8"
            ],
            [
             0.3333333333333333,
             "#9c179e"
            ],
            [
             0.4444444444444444,
             "#bd3786"
            ],
            [
             0.5555555555555556,
             "#d8576b"
            ],
            [
             0.6666666666666666,
             "#ed7953"
            ],
            [
             0.7777777777777778,
             "#fb9f3a"
            ],
            [
             0.8888888888888888,
             "#fdca26"
            ],
            [
             1,
             "#f0f921"
            ]
           ],
           "sequentialminus": [
            [
             0,
             "#0d0887"
            ],
            [
             0.1111111111111111,
             "#46039f"
            ],
            [
             0.2222222222222222,
             "#7201a8"
            ],
            [
             0.3333333333333333,
             "#9c179e"
            ],
            [
             0.4444444444444444,
             "#bd3786"
            ],
            [
             0.5555555555555556,
             "#d8576b"
            ],
            [
             0.6666666666666666,
             "#ed7953"
            ],
            [
             0.7777777777777778,
             "#fb9f3a"
            ],
            [
             0.8888888888888888,
             "#fdca26"
            ],
            [
             1,
             "#f0f921"
            ]
           ]
          },
          "colorway": [
           "#636efa",
           "#EF553B",
           "#00cc96",
           "#ab63fa",
           "#FFA15A",
           "#19d3f3",
           "#FF6692",
           "#B6E880",
           "#FF97FF",
           "#FECB52"
          ],
          "font": {
           "color": "#f2f5fa"
          },
          "geo": {
           "bgcolor": "rgb(17,17,17)",
           "lakecolor": "rgb(17,17,17)",
           "landcolor": "rgb(17,17,17)",
           "showlakes": true,
           "showland": true,
           "subunitcolor": "#506784"
          },
          "hoverlabel": {
           "align": "left"
          },
          "hovermode": "closest",
          "mapbox": {
           "style": "dark"
          },
          "paper_bgcolor": "rgb(17,17,17)",
          "plot_bgcolor": "rgb(17,17,17)",
          "polar": {
           "angularaxis": {
            "gridcolor": "#506784",
            "linecolor": "#506784",
            "ticks": ""
           },
           "bgcolor": "rgb(17,17,17)",
           "radialaxis": {
            "gridcolor": "#506784",
            "linecolor": "#506784",
            "ticks": ""
           }
          },
          "scene": {
           "xaxis": {
            "backgroundcolor": "rgb(17,17,17)",
            "gridcolor": "#506784",
            "gridwidth": 2,
            "linecolor": "#506784",
            "showbackground": true,
            "ticks": "",
            "zerolinecolor": "#C8D4E3"
           },
           "yaxis": {
            "backgroundcolor": "rgb(17,17,17)",
            "gridcolor": "#506784",
            "gridwidth": 2,
            "linecolor": "#506784",
            "showbackground": true,
            "ticks": "",
            "zerolinecolor": "#C8D4E3"
           },
           "zaxis": {
            "backgroundcolor": "rgb(17,17,17)",
            "gridcolor": "#506784",
            "gridwidth": 2,
            "linecolor": "#506784",
            "showbackground": true,
            "ticks": "",
            "zerolinecolor": "#C8D4E3"
           }
          },
          "shapedefaults": {
           "line": {
            "color": "#f2f5fa"
           }
          },
          "sliderdefaults": {
           "bgcolor": "#C8D4E3",
           "bordercolor": "rgb(17,17,17)",
           "borderwidth": 1,
           "tickwidth": 0
          },
          "ternary": {
           "aaxis": {
            "gridcolor": "#506784",
            "linecolor": "#506784",
            "ticks": ""
           },
           "baxis": {
            "gridcolor": "#506784",
            "linecolor": "#506784",
            "ticks": ""
           },
           "bgcolor": "rgb(17,17,17)",
           "caxis": {
            "gridcolor": "#506784",
            "linecolor": "#506784",
            "ticks": ""
           }
          },
          "title": {
           "x": 0.05
          },
          "updatemenudefaults": {
           "bgcolor": "#506784",
           "borderwidth": 0
          },
          "xaxis": {
           "automargin": true,
           "gridcolor": "#283442",
           "linecolor": "#506784",
           "ticks": "",
           "title": {
            "standoff": 15
           },
           "zerolinecolor": "#283442",
           "zerolinewidth": 2
          },
          "yaxis": {
           "automargin": true,
           "gridcolor": "#283442",
           "linecolor": "#506784",
           "ticks": "",
           "title": {
            "standoff": 15
           },
           "zerolinecolor": "#283442",
           "zerolinewidth": 2
          }
         }
        },
        "title": {
         "text": "ADA-USDT-PERP (1m)"
        },
        "xaxis": {
         "gridcolor": "#23272F",
         "linecolor": "#23272F",
         "rangeslider": {
          "visible": false
         },
         "showline": true,
         "title": {
          "text": "Время (UTC)"
         }
        },
        "yaxis": {
         "gridcolor": "#23272F",
         "linecolor": "#23272F",
         "showline": true,
         "title": {
          "text": "Цена"
         }
        }
       }
      }
     },
     "metadata": {},
     "output_type": "display_data"
    }
   ],
   "source": [
    "# Пример: последние 200 свечей из базовой таблицы\n",
    "show_recent_chart(\n",
    "    table_name=CANDLES_TABLE,\n",
    "    exchange='BINANCE_FUTURES',\n",
    "    symbol='ADA-USDT-PERP',\n",
    "    interval=BASE_INTERVAL,\n",
    "    limit=100,\n",
    "    client_kwargs=CLIENT_KWARGS,\n",
    ")\n"
   ]
  },
  {
   "cell_type": "code",
   "execution_count": 5,
   "id": "fc043fa7",
   "metadata": {},
   "outputs": [
    {
     "data": {
      "application/vnd.plotly.v1+json": {
       "config": {
        "plotlyServerURL": "https://plot.ly"
       },
       "data": [
        {
         "close": {
          "bdata": "XynLEMe65D+Nl24Sg8DkPwFNhA1Pr+Q/I9v5fmq85D9BguLHmLvkP8nlP6TfvuQ/FvvL7snD5D+1N/jCZKrkPwkbnl4py+Q/uB6F61G45D/gvg6cM6LkP/CFyVTBqOQ/097gC5Op5D8FNBE2PL3kP0w3iUFg5eQ/kzoBTYQN5T9eukkMAivlP4lBYOXQIuU/Qj7o2az65D/Sb18HzhnlPx+F61G4HuU/W9O84xQd5T8Zc9cS8kHlP3ZPHhZqTeU/xSCwcmiR5T90JJf/kH7lP6pgVFInoOU/JuSDns2q5T9y+Q/pt6/lP0Jg5dAi2+U/qDXNO07R5T/D9Shcj8LlP6Fns+pzteU/m1Wfq63Y5T8+eVioNc3lPxkEVg4tsuU/h6dXyjLE5T9cIEHxY8zlPzqSy39Iv+U/m1Wfq63Y5T8GEhQ/xtzlPz55WKg1zeU/E/JBz2bV5T96xyk6ksvlP/5D+u3rwOU/CyQofoy55T9LWYY41sXlP1FrmnecouU/U5YhjnVx5T9Wfa62Yn/lP3gLJCh+jOU/K/aX3ZOH5T/UK2UZ4ljlP4v9ZffkYeU/CmgibHh65T8XSFD8GHPlP5+rrdhfduU/hetRuB6F5T851sVtNIDlP1OWIY51ceU/YHZPHhZq5T+wcmiR7XzlP8oyxLEubuU/OwFNhA1P5T+yne+nxkvlPzEIrBxaZOU/8tJNYhBY5T9pb/CFyVTlP6W9wRcmU+U//7J78rBQ5T9Pr5RliGPlP5jdk4eFWuU/E2HD0ytl5T+6awn5oGflPwaBlUOLbOU/cT0K16Nw5T+fq63YX3blP9QrZRniWOU/fh04Z0Rp5T/o2az6XG3lPwaBlUOLbOU/JCh+jLlr5T/b+X5qvHTlPxdIUPwYc+U/MQisHFpk5T/XEvJBz2blP0vIBz2bVeU/HVpkO99P5T/ZPXlYqDXlP2Kh1jTvOOU/yXa+nxov5T+JQWDl0CLlP40o7Q2+MOU/Imx4eqUs5T9b07zjFB3lP1HaG3xhMuU/p+hILv8h5T+NKO0NvjDlP/fkYaHWNOU/zF1LyAc95T8=",
          "dtype": "f8"
         },
         "decreasing": {
          "fillcolor": "#FF4B4B",
          "line": {
           "color": "#FF4B4B"
          }
         },
         "high": {
          "bdata": "CRueXinL5D+8BRIUP8bkP0Rpb/CFyeQ/yeU/pN++5D9SSZ2AJsLkP2IQWDm0yOQ/2qz6XG3F5D/arPpcbcXkP/s6cM6I0uQ/3pOHhVrT5D/WxW00gLfkP05iEFg5tOQ/eekmMQis5D+Nl24Sg8DkP6kT0ETY8OQ/V+wvuycP5T/Jdr6fGi/lPxlz1xLyQeU/iUFg5dAi5T/FjzF3LSHlP5oIG55eKeU/mggbnl4p5T8Zc9cS8kHlPwKaCBueXuU/mpmZmZmZ5T9/2T15WKjlP4PAyqFFtuU/WDm0yHa+5T9lGeJYF7flP7AD54wo7eU/jnVxGw3g5T8noImw4enlP5huEoPAyuU/fa62Yn/Z5T+OdXEbDeDlP23n+6nx0uU/h6dXyjLE5T8xmSoYldTlPyDSb18HzuU/m1Wfq63Y5T+sHFpkO9/lP6wcWmQ73+U/UiegibDh5T+sHFpkO9/lP4qO5PIf0uU/pU5AE2HD5T/xY8xdS8jlPz55WKg1zeU/rkfhehSu5T+0WfW52orlPxE2PL1SluU/p3nHKTqS5T9aZDvfT43lP21Wfa62YuU/dCSX/5B+5T/9h/Tb14HlPwpoImx4euU/tFn1udqK5T/SAN4CCYrlPznWxW00gOU/Rrbz/dR45T9Wfa62Yn/lP3Qkl/+QfuU/yjLEsS5u5T8tIR/0bFblP/W52or9ZeU/Qs9m1edq5T+Y3ZOHhVrlPy0hH/RsVuU/EHo2qz5X5T/1udqK/WXlP9cS8kHPZuU/umsJ+aBn5T9gdk8eFmrlP6yL22gAb+U/Ne84RUdy5T9kXdxGA3jlP2Rd3EYDeOU/YHZPHhZq5T/o2az6XG3lP71SliGOdeU/6Nms+lxt5T+BBMWPMXflP+zAOSNKe+U/F0hQ/Bhz5T8kKH6MuWvlP+jZrPpcbeU/LSEf9GxW5T/DZKpgVFLlP662Yn/ZPeU/CKwcWmQ75T8VjErqBDTlP40o7Q2+MOU/gEi/fR045T+NKO0NvjDlPzMzMzMzM+U/MzMzMzMz5T+NKO0NvjDlP+oENBE2POU/zF1LyAc95T8=",
          "dtype": "f8"
         },
         "increasing": {
          "fillcolor": "#00C087",
          "line": {
           "color": "#00C087"
          }
         },
         "low": {
          "bdata": "1sVtNIC35D/WxW00gLfkP6CJsOHpleQ/whcmUwWj5D9sCfmgZ7PkP2wJ+aBns+Q/mnecoiO55D8s1JrmHafkP+C+DpwzouQ/097gC5Op5D9kO99PjZfkPxsN4C2QoOQ/ZDvfT42X5D/whclUwajkP0GC4seYu+Q/TDeJQWDl5D8ydy0hH/TkP8WPMXctIeU/YOXQItv55D9+jLlrCfnkPxueXinLEOU/SgwCK4cW5T+TOgFNhA3lP3Noke18P+U/WKg1zTtO5T/KMsSxLm7lP1Z9rrZif+U/qmBUUieg5T+qYFRSJ6DlP1RSJ6CJsOU/aQBvgQTF5T/+Q/rt68DlP1FrmnecouU/g8DKoUW25T+YbhKDwMrlP65H4XoUruU/GQRWDi2y5T86kst/SL/lP5Cg+DHmruU/duCcEaW95T8CK4cW2c7lP/5D+u3rwOU/XCBB8WPM5T8PC7WmecflPzqSy39Iv+U/zO7Jw0Kt5T+DwMqhRbblPwRWDi2yneU/ApoIG55e5T9tVn2utmLlPygPC7WmeeU/kst/SL995T83GsBbIEHlP6HWNO84ReU/ejarPldb5T/XEvJBz2blP9cS8kHPZuU/2/l+arx05T8XSFD8GHPlP3E9CtejcOU/MQisHFpk5T+cxCCwcmjlP0+vlGWIY+U/KjqSy39I5T9I4XoUrkflP0jhehSuR+U/S8gHPZtV5T//snvysFDlP1XBqKROQOU/7uvAOSNK5T87AU2EDU/lPxB6Nqs+V+U/mN2Th4Va5T8Cmggbnl7lP/W52or9ZeU/E2HD0ytl5T/o2az6XG3lP9QrZRniWOU/8tJNYhBY5T/l8h/Sb1/lP0LPZtXnauU/bVZ9rrZi5T/XEvJBz2blPzXvOEVHcuU/i/1l9+Rh5T8Cmggbnl7lP8NkqmBUUuU/odY07zhF5T+GWtO84xTlP0ATYcPTK+U/mggbnl4p5T/jNhrAWyDlP+M2GsBbIOU/1lbsL7sn5T+WIY51cRvlP7TIdr6fGuU/4zYawFsg5T94eqUsQxzlPwXFjzF3LeU/yXa+nxov5T8=",
          "dtype": "f8"
         },
         "name": "OHLC",
         "open": {
          "bdata": "YhBYObTI5D990LNZ9bnkP42XbhKDwOQ/AU2EDU+v5D8j2/l+arzkP18pyxDHuuQ/yeU/pN++5D8W+8vuycPkP7U3+MJkquQ/J8KGp1fK5D/WxW00gLfkP8IXJlMFo+Q/8IXJVMGo5D/T3uALk6nkP+eMKO0NvuQ/TDeJQWDl5D+x4emVsgzlP3xhMlUwKuU/iUFg5dAi5T9g5dAi2/nkP9JvXwfOGeU/H4XrUbge5T9b07zjFB3lPxlz1xLyQeU/WKg1zTtO5T+neccpOpLlP1Z9rrZif+U/qmBUUieg5T8m5IOezarlP1RSJ6CJsOU/JLn8h/Tb5T+oNc07TtHlP8P1KFyPwuU/g8DKoUW25T+bVZ+rrdjlPyDSb18HzuU/GQRWDi2y5T+Hp1fKMsTlP1wgQfFjzOU/OpLLf0i/5T+bVZ+rrdjlPwYSFD/G3OU/PnlYqDXN5T/1SlmGONblP1wgQfFjzOU/HOviNhrA5T/ufD81XrrlPy2yne+nxuU/jLlrCfmg5T9xPQrXo3DlP1Z9rrZif+U/WmQ730+N5T9JnYAmwoblP9QrZRniWOU/i/1l9+Rh5T/swDkjSnvlPxdIUPwYc+U/n6ut2F925T+jkjoBTYTlP1Z9rrZif+U/U5YhjnVx5T9+HThnRGnlP84ZUdobfOU/yjLEsS5u5T9YqDXNO07lP7Kd76fGS+U/MQisHFpk5T/y0k1iEFjlP2lv8IXJVOU/hxbZzvdT5T8dWmQ730/lPzEIrBxaZOU/mN2Th4Va5T8xCKwcWmTlP9cS8kHPZuU/BoGVQ4ts5T9xPQrXo3DlP5+rrdhfduU/1CtlGeJY5T+cxCCwcmjlP+jZrPpcbeU/BoGVQ4ts5T8kKH6MuWvlP9v5fmq8dOU/F0hQ/Bhz5T8xCKwcWmTlP7prCfmgZ+U/LSEf9GxW5T8dWmQ730/lP9k9eVioNeU/gEi/fR045T/Jdr6fGi/lP2uad5yiI+U/jSjtDb4w5T9AE2HD0yvlPz0s1JrmHeU/UdobfGEy5T/FjzF3LSHlP2+BBMWPMeU/9+RhodY05T8=",
          "dtype": "f8"
         },
         "type": "candlestick",
         "x": [
          "2025-10-21T12:55:00",
          "2025-10-21T13:00:00",
          "2025-10-21T13:05:00",
          "2025-10-21T13:10:00",
          "2025-10-21T13:15:00",
          "2025-10-21T13:20:00",
          "2025-10-21T13:25:00",
          "2025-10-21T13:30:00",
          "2025-10-21T13:35:00",
          "2025-10-21T13:40:00",
          "2025-10-21T13:45:00",
          "2025-10-21T13:50:00",
          "2025-10-21T13:55:00",
          "2025-10-21T14:00:00",
          "2025-10-21T14:05:00",
          "2025-10-21T14:10:00",
          "2025-10-21T14:15:00",
          "2025-10-21T14:20:00",
          "2025-10-21T14:25:00",
          "2025-10-21T14:30:00",
          "2025-10-21T14:35:00",
          "2025-10-21T14:40:00",
          "2025-10-21T14:45:00",
          "2025-10-21T14:50:00",
          "2025-10-21T14:55:00",
          "2025-10-21T15:00:00",
          "2025-10-21T15:05:00",
          "2025-10-21T15:10:00",
          "2025-10-21T15:15:00",
          "2025-10-21T15:20:00",
          "2025-10-21T15:25:00",
          "2025-10-21T15:30:00",
          "2025-10-21T15:35:00",
          "2025-10-21T15:40:00",
          "2025-10-21T15:45:00",
          "2025-10-21T15:50:00",
          "2025-10-21T15:55:00",
          "2025-10-21T16:00:00",
          "2025-10-21T16:05:00",
          "2025-10-21T16:10:00",
          "2025-10-21T16:15:00",
          "2025-10-21T16:20:00",
          "2025-10-21T16:25:00",
          "2025-10-21T16:30:00",
          "2025-10-21T16:35:00",
          "2025-10-21T16:40:00",
          "2025-10-21T16:45:00",
          "2025-10-21T16:50:00",
          "2025-10-21T16:55:00",
          "2025-10-21T17:00:00",
          "2025-10-21T17:05:00",
          "2025-10-21T17:10:00",
          "2025-10-21T17:15:00",
          "2025-10-21T17:20:00",
          "2025-10-21T17:25:00",
          "2025-10-21T17:30:00",
          "2025-10-21T17:35:00",
          "2025-10-21T17:40:00",
          "2025-10-21T17:45:00",
          "2025-10-21T17:50:00",
          "2025-10-21T17:55:00",
          "2025-10-21T18:00:00",
          "2025-10-21T18:05:00",
          "2025-10-21T18:10:00",
          "2025-10-21T18:15:00",
          "2025-10-21T18:20:00",
          "2025-10-21T18:25:00",
          "2025-10-21T18:30:00",
          "2025-10-21T18:35:00",
          "2025-10-21T18:40:00",
          "2025-10-21T18:45:00",
          "2025-10-21T18:50:00",
          "2025-10-21T18:55:00",
          "2025-10-21T19:00:00",
          "2025-10-21T19:05:00",
          "2025-10-21T19:10:00",
          "2025-10-21T19:15:00",
          "2025-10-21T19:20:00",
          "2025-10-21T19:25:00",
          "2025-10-21T19:30:00",
          "2025-10-21T19:35:00",
          "2025-10-21T19:40:00",
          "2025-10-21T19:45:00",
          "2025-10-21T19:50:00",
          "2025-10-21T19:55:00",
          "2025-10-21T20:00:00",
          "2025-10-21T20:05:00",
          "2025-10-21T20:10:00",
          "2025-10-21T20:15:00",
          "2025-10-21T20:20:00",
          "2025-10-21T20:25:00",
          "2025-10-21T20:30:00",
          "2025-10-21T20:35:00",
          "2025-10-21T20:40:00",
          "2025-10-21T20:45:00",
          "2025-10-21T20:50:00",
          "2025-10-21T20:55:00",
          "2025-10-21T21:00:00",
          "2025-10-21T21:05:00",
          "2025-10-21T21:10:00"
         ]
        }
       ],
       "layout": {
        "hovermode": "x unified",
        "paper_bgcolor": "#181A20",
        "plot_bgcolor": "#181A20",
        "template": {
         "data": {
          "bar": [
           {
            "error_x": {
             "color": "#f2f5fa"
            },
            "error_y": {
             "color": "#f2f5fa"
            },
            "marker": {
             "line": {
              "color": "rgb(17,17,17)",
              "width": 0.5
             },
             "pattern": {
              "fillmode": "overlay",
              "size": 10,
              "solidity": 0.2
             }
            },
            "type": "bar"
           }
          ],
          "barpolar": [
           {
            "marker": {
             "line": {
              "color": "rgb(17,17,17)",
              "width": 0.5
             },
             "pattern": {
              "fillmode": "overlay",
              "size": 10,
              "solidity": 0.2
             }
            },
            "type": "barpolar"
           }
          ],
          "carpet": [
           {
            "aaxis": {
             "endlinecolor": "#A2B1C6",
             "gridcolor": "#506784",
             "linecolor": "#506784",
             "minorgridcolor": "#506784",
             "startlinecolor": "#A2B1C6"
            },
            "baxis": {
             "endlinecolor": "#A2B1C6",
             "gridcolor": "#506784",
             "linecolor": "#506784",
             "minorgridcolor": "#506784",
             "startlinecolor": "#A2B1C6"
            },
            "type": "carpet"
           }
          ],
          "choropleth": [
           {
            "colorbar": {
             "outlinewidth": 0,
             "ticks": ""
            },
            "type": "choropleth"
           }
          ],
          "contour": [
           {
            "colorbar": {
             "outlinewidth": 0,
             "ticks": ""
            },
            "colorscale": [
             [
              0,
              "#0d0887"
             ],
             [
              0.1111111111111111,
              "#46039f"
             ],
             [
              0.2222222222222222,
              "#7201a8"
             ],
             [
              0.3333333333333333,
              "#9c179e"
             ],
             [
              0.4444444444444444,
              "#bd3786"
             ],
             [
              0.5555555555555556,
              "#d8576b"
             ],
             [
              0.6666666666666666,
              "#ed7953"
             ],
             [
              0.7777777777777778,
              "#fb9f3a"
             ],
             [
              0.8888888888888888,
              "#fdca26"
             ],
             [
              1,
              "#f0f921"
             ]
            ],
            "type": "contour"
           }
          ],
          "contourcarpet": [
           {
            "colorbar": {
             "outlinewidth": 0,
             "ticks": ""
            },
            "type": "contourcarpet"
           }
          ],
          "heatmap": [
           {
            "colorbar": {
             "outlinewidth": 0,
             "ticks": ""
            },
            "colorscale": [
             [
              0,
              "#0d0887"
             ],
             [
              0.1111111111111111,
              "#46039f"
             ],
             [
              0.2222222222222222,
              "#7201a8"
             ],
             [
              0.3333333333333333,
              "#9c179e"
             ],
             [
              0.4444444444444444,
              "#bd3786"
             ],
             [
              0.5555555555555556,
              "#d8576b"
             ],
             [
              0.6666666666666666,
              "#ed7953"
             ],
             [
              0.7777777777777778,
              "#fb9f3a"
             ],
             [
              0.8888888888888888,
              "#fdca26"
             ],
             [
              1,
              "#f0f921"
             ]
            ],
            "type": "heatmap"
           }
          ],
          "histogram": [
           {
            "marker": {
             "pattern": {
              "fillmode": "overlay",
              "size": 10,
              "solidity": 0.2
             }
            },
            "type": "histogram"
           }
          ],
          "histogram2d": [
           {
            "colorbar": {
             "outlinewidth": 0,
             "ticks": ""
            },
            "colorscale": [
             [
              0,
              "#0d0887"
             ],
             [
              0.1111111111111111,
              "#46039f"
             ],
             [
              0.2222222222222222,
              "#7201a8"
             ],
             [
              0.3333333333333333,
              "#9c179e"
             ],
             [
              0.4444444444444444,
              "#bd3786"
             ],
             [
              0.5555555555555556,
              "#d8576b"
             ],
             [
              0.6666666666666666,
              "#ed7953"
             ],
             [
              0.7777777777777778,
              "#fb9f3a"
             ],
             [
              0.8888888888888888,
              "#fdca26"
             ],
             [
              1,
              "#f0f921"
             ]
            ],
            "type": "histogram2d"
           }
          ],
          "histogram2dcontour": [
           {
            "colorbar": {
             "outlinewidth": 0,
             "ticks": ""
            },
            "colorscale": [
             [
              0,
              "#0d0887"
             ],
             [
              0.1111111111111111,
              "#46039f"
             ],
             [
              0.2222222222222222,
              "#7201a8"
             ],
             [
              0.3333333333333333,
              "#9c179e"
             ],
             [
              0.4444444444444444,
              "#bd3786"
             ],
             [
              0.5555555555555556,
              "#d8576b"
             ],
             [
              0.6666666666666666,
              "#ed7953"
             ],
             [
              0.7777777777777778,
              "#fb9f3a"
             ],
             [
              0.8888888888888888,
              "#fdca26"
             ],
             [
              1,
              "#f0f921"
             ]
            ],
            "type": "histogram2dcontour"
           }
          ],
          "mesh3d": [
           {
            "colorbar": {
             "outlinewidth": 0,
             "ticks": ""
            },
            "type": "mesh3d"
           }
          ],
          "parcoords": [
           {
            "line": {
             "colorbar": {
              "outlinewidth": 0,
              "ticks": ""
             }
            },
            "type": "parcoords"
           }
          ],
          "pie": [
           {
            "automargin": true,
            "type": "pie"
           }
          ],
          "scatter": [
           {
            "marker": {
             "line": {
              "color": "#283442"
             }
            },
            "type": "scatter"
           }
          ],
          "scatter3d": [
           {
            "line": {
             "colorbar": {
              "outlinewidth": 0,
              "ticks": ""
             }
            },
            "marker": {
             "colorbar": {
              "outlinewidth": 0,
              "ticks": ""
             }
            },
            "type": "scatter3d"
           }
          ],
          "scattercarpet": [
           {
            "marker": {
             "colorbar": {
              "outlinewidth": 0,
              "ticks": ""
             }
            },
            "type": "scattercarpet"
           }
          ],
          "scattergeo": [
           {
            "marker": {
             "colorbar": {
              "outlinewidth": 0,
              "ticks": ""
             }
            },
            "type": "scattergeo"
           }
          ],
          "scattergl": [
           {
            "marker": {
             "line": {
              "color": "#283442"
             }
            },
            "type": "scattergl"
           }
          ],
          "scattermap": [
           {
            "marker": {
             "colorbar": {
              "outlinewidth": 0,
              "ticks": ""
             }
            },
            "type": "scattermap"
           }
          ],
          "scattermapbox": [
           {
            "marker": {
             "colorbar": {
              "outlinewidth": 0,
              "ticks": ""
             }
            },
            "type": "scattermapbox"
           }
          ],
          "scatterpolar": [
           {
            "marker": {
             "colorbar": {
              "outlinewidth": 0,
              "ticks": ""
             }
            },
            "type": "scatterpolar"
           }
          ],
          "scatterpolargl": [
           {
            "marker": {
             "colorbar": {
              "outlinewidth": 0,
              "ticks": ""
             }
            },
            "type": "scatterpolargl"
           }
          ],
          "scatterternary": [
           {
            "marker": {
             "colorbar": {
              "outlinewidth": 0,
              "ticks": ""
             }
            },
            "type": "scatterternary"
           }
          ],
          "surface": [
           {
            "colorbar": {
             "outlinewidth": 0,
             "ticks": ""
            },
            "colorscale": [
             [
              0,
              "#0d0887"
             ],
             [
              0.1111111111111111,
              "#46039f"
             ],
             [
              0.2222222222222222,
              "#7201a8"
             ],
             [
              0.3333333333333333,
              "#9c179e"
             ],
             [
              0.4444444444444444,
              "#bd3786"
             ],
             [
              0.5555555555555556,
              "#d8576b"
             ],
             [
              0.6666666666666666,
              "#ed7953"
             ],
             [
              0.7777777777777778,
              "#fb9f3a"
             ],
             [
              0.8888888888888888,
              "#fdca26"
             ],
             [
              1,
              "#f0f921"
             ]
            ],
            "type": "surface"
           }
          ],
          "table": [
           {
            "cells": {
             "fill": {
              "color": "#506784"
             },
             "line": {
              "color": "rgb(17,17,17)"
             }
            },
            "header": {
             "fill": {
              "color": "#2a3f5f"
             },
             "line": {
              "color": "rgb(17,17,17)"
             }
            },
            "type": "table"
           }
          ]
         },
         "layout": {
          "annotationdefaults": {
           "arrowcolor": "#f2f5fa",
           "arrowhead": 0,
           "arrowwidth": 1
          },
          "autotypenumbers": "strict",
          "coloraxis": {
           "colorbar": {
            "outlinewidth": 0,
            "ticks": ""
           }
          },
          "colorscale": {
           "diverging": [
            [
             0,
             "#8e0152"
            ],
            [
             0.1,
             "#c51b7d"
            ],
            [
             0.2,
             "#de77ae"
            ],
            [
             0.3,
             "#f1b6da"
            ],
            [
             0.4,
             "#fde0ef"
            ],
            [
             0.5,
             "#f7f7f7"
            ],
            [
             0.6,
             "#e6f5d0"
            ],
            [
             0.7,
             "#b8e186"
            ],
            [
             0.8,
             "#7fbc41"
            ],
            [
             0.9,
             "#4d9221"
            ],
            [
             1,
             "#276419"
            ]
           ],
           "sequential": [
            [
             0,
             "#0d0887"
            ],
            [
             0.1111111111111111,
             "#46039f"
            ],
            [
             0.2222222222222222,
             "#7201a8"
            ],
            [
             0.3333333333333333,
             "#9c179e"
            ],
            [
             0.4444444444444444,
             "#bd3786"
            ],
            [
             0.5555555555555556,
             "#d8576b"
            ],
            [
             0.6666666666666666,
             "#ed7953"
            ],
            [
             0.7777777777777778,
             "#fb9f3a"
            ],
            [
             0.8888888888888888,
             "#fdca26"
            ],
            [
             1,
             "#f0f921"
            ]
           ],
           "sequentialminus": [
            [
             0,
             "#0d0887"
            ],
            [
             0.1111111111111111,
             "#46039f"
            ],
            [
             0.2222222222222222,
             "#7201a8"
            ],
            [
             0.3333333333333333,
             "#9c179e"
            ],
            [
             0.4444444444444444,
             "#bd3786"
            ],
            [
             0.5555555555555556,
             "#d8576b"
            ],
            [
             0.6666666666666666,
             "#ed7953"
            ],
            [
             0.7777777777777778,
             "#fb9f3a"
            ],
            [
             0.8888888888888888,
             "#fdca26"
            ],
            [
             1,
             "#f0f921"
            ]
           ]
          },
          "colorway": [
           "#636efa",
           "#EF553B",
           "#00cc96",
           "#ab63fa",
           "#FFA15A",
           "#19d3f3",
           "#FF6692",
           "#B6E880",
           "#FF97FF",
           "#FECB52"
          ],
          "font": {
           "color": "#f2f5fa"
          },
          "geo": {
           "bgcolor": "rgb(17,17,17)",
           "lakecolor": "rgb(17,17,17)",
           "landcolor": "rgb(17,17,17)",
           "showlakes": true,
           "showland": true,
           "subunitcolor": "#506784"
          },
          "hoverlabel": {
           "align": "left"
          },
          "hovermode": "closest",
          "mapbox": {
           "style": "dark"
          },
          "paper_bgcolor": "rgb(17,17,17)",
          "plot_bgcolor": "rgb(17,17,17)",
          "polar": {
           "angularaxis": {
            "gridcolor": "#506784",
            "linecolor": "#506784",
            "ticks": ""
           },
           "bgcolor": "rgb(17,17,17)",
           "radialaxis": {
            "gridcolor": "#506784",
            "linecolor": "#506784",
            "ticks": ""
           }
          },
          "scene": {
           "xaxis": {
            "backgroundcolor": "rgb(17,17,17)",
            "gridcolor": "#506784",
            "gridwidth": 2,
            "linecolor": "#506784",
            "showbackground": true,
            "ticks": "",
            "zerolinecolor": "#C8D4E3"
           },
           "yaxis": {
            "backgroundcolor": "rgb(17,17,17)",
            "gridcolor": "#506784",
            "gridwidth": 2,
            "linecolor": "#506784",
            "showbackground": true,
            "ticks": "",
            "zerolinecolor": "#C8D4E3"
           },
           "zaxis": {
            "backgroundcolor": "rgb(17,17,17)",
            "gridcolor": "#506784",
            "gridwidth": 2,
            "linecolor": "#506784",
            "showbackground": true,
            "ticks": "",
            "zerolinecolor": "#C8D4E3"
           }
          },
          "shapedefaults": {
           "line": {
            "color": "#f2f5fa"
           }
          },
          "sliderdefaults": {
           "bgcolor": "#C8D4E3",
           "bordercolor": "rgb(17,17,17)",
           "borderwidth": 1,
           "tickwidth": 0
          },
          "ternary": {
           "aaxis": {
            "gridcolor": "#506784",
            "linecolor": "#506784",
            "ticks": ""
           },
           "baxis": {
            "gridcolor": "#506784",
            "linecolor": "#506784",
            "ticks": ""
           },
           "bgcolor": "rgb(17,17,17)",
           "caxis": {
            "gridcolor": "#506784",
            "linecolor": "#506784",
            "ticks": ""
           }
          },
          "title": {
           "x": 0.05
          },
          "updatemenudefaults": {
           "bgcolor": "#506784",
           "borderwidth": 0
          },
          "xaxis": {
           "automargin": true,
           "gridcolor": "#283442",
           "linecolor": "#506784",
           "ticks": "",
           "title": {
            "standoff": 15
           },
           "zerolinecolor": "#283442",
           "zerolinewidth": 2
          },
          "yaxis": {
           "automargin": true,
           "gridcolor": "#283442",
           "linecolor": "#506784",
           "ticks": "",
           "title": {
            "standoff": 15
           },
           "zerolinecolor": "#283442",
           "zerolinewidth": 2
          }
         }
        },
        "title": {
         "text": "ADA-USDT-PERP (5m)"
        },
        "xaxis": {
         "gridcolor": "#23272F",
         "linecolor": "#23272F",
         "rangeslider": {
          "visible": false
         },
         "showline": true,
         "title": {
          "text": "Время (UTC)"
         }
        },
        "yaxis": {
         "gridcolor": "#23272F",
         "linecolor": "#23272F",
         "showline": true,
         "title": {
          "text": "Цена"
         }
        }
       }
      }
     },
     "metadata": {},
     "output_type": "display_data"
    }
   ],
   "source": [
    "# Пример: последние 100 свечей из материализованной витрины\n",
    "show_recent_chart(\n",
    "    table_name='candles_5m',\n",
    "    exchange='BINANCE_FUTURES',\n",
    "    symbol='ADA-USDT-PERP',\n",
    "    interval=None,\n",
    "    limit=100,\n",
    "    client_kwargs=CLIENT_KWARGS,\n",
    ")\n"
   ]
  },
  {
   "cell_type": "code",
   "execution_count": null,
   "id": "de837b9b",
   "metadata": {},
   "outputs": [],
   "source": []
  }
 ],
 "metadata": {
  "kernelspec": {
   "display_name": "wenv",
   "language": "python",
   "name": "python3"
  },
  "language_info": {
   "codemirror_mode": {
    "name": "ipython",
    "version": 3
   },
   "file_extension": ".py",
   "mimetype": "text/x-python",
   "name": "python",
   "nbconvert_exporter": "python",
   "pygments_lexer": "ipython3",
   "version": "3.12.11"
  }
 },
 "nbformat": 4,
 "nbformat_minor": 5
}
