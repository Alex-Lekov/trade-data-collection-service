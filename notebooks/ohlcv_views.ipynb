{
 "cells": [
  {
   "cell_type": "markdown",
   "metadata": {},
   "source": [
    "# Просмотр OHLCV по материализованным витринам\n",
    "\n",
    "Минимальный набор утилит для запроса свечей из ClickHouse и визуализации данных. Перед запуском убедитесь, что ClickHouse доступен.\n"
   ]
  },
  {
   "cell_type": "code",
   "execution_count": 1,
   "id": "54c8e2c3",
   "metadata": {},
   "outputs": [],
   "source": [
    "import os\n",
    "import sys\n",
    "from pathlib import Path\n",
    "\n",
    "# Найти корень проекта с пакетом `app`\n",
    "for candidate in (Path.cwd(), *Path.cwd().parents):\n",
    "    if (candidate / 'app').is_dir():\n",
    "        if str(candidate) not in sys.path:\n",
    "            sys.path.append(str(candidate))\n",
    "        break\n",
    "else:\n",
    "    raise RuntimeError('Не удалось найти каталог с пакетом app')\n",
    "\n",
    "import pandas as pd\n",
    "import plotly.graph_objects as go\n",
    "import clickhouse_driver\n",
    "\n",
    "from app.clickhouse_schema import (\n",
    "    DATABASE_NAME,\n",
    "    CANDLES_TABLE,\n",
    "    CANDLES_TABLE_FULL,\n",
    "    BASE_INTERVAL,\n",
    "    ROLLUP_SPECS,\n",
    ")\n"
   ]
  },
  {
   "cell_type": "code",
   "execution_count": 2,
   "id": "7a4f1ec5",
   "metadata": {},
   "outputs": [],
   "source": [
    "DEFAULT_CLICKHOUSE_HOST = os.getenv('CLICKHOUSE_HOST', 'localhost')\n",
    "DEFAULT_CLICKHOUSE_PORT = int(os.getenv('CLICKHOUSE_PORT', '19001'))\n",
    "DEFAULT_CLICKHOUSE_USER = os.getenv('CLICKHOUSE_USER', 'default')\n",
    "DEFAULT_CLICKHOUSE_PASSWORD = os.getenv('CLICKHOUSE_PASSWORD', '')\n",
    "DEFAULT_CLICKHOUSE_DB = os.getenv('CLICKHOUSE_DATABASE', DATABASE_NAME)\n",
    "\n",
    "TABLES: dict[str, dict[str, object]] = {\n",
    "    CANDLES_TABLE: {\n",
    "        'full_name': CANDLES_TABLE_FULL,\n",
    "        'label': BASE_INTERVAL,\n",
    "        'time_column': 'start',\n",
    "        'is_rollup': False,\n",
    "        'needs_interval': True,\n",
    "    }\n",
    "}\n",
    "for spec in ROLLUP_SPECS:\n",
    "    TABLES[spec.table_name] = {\n",
    "        'full_name': spec.table_full,\n",
    "        'label': spec.label,\n",
    "        'time_column': 'candle_start',\n",
    "        'is_rollup': True,\n",
    "        'needs_interval': False,\n",
    "    }\n",
    "\n",
    "def build_client_kwargs(*, host: str, port: int, user: str, password: str, database: str, secure: bool = False) -> dict[str, object]:\n",
    "    client_kwargs: dict[str, object] = {\n",
    "        'host': host or 'localhost',\n",
    "        'port': int(port),\n",
    "        'database': database or DATABASE_NAME,\n",
    "        'user': user or 'default',\n",
    "    }\n",
    "    if password:\n",
    "        client_kwargs['password'] = password\n",
    "    if secure:\n",
    "        client_kwargs['secure'] = True\n",
    "        client_kwargs.setdefault('verify', False)\n",
    "    return client_kwargs\n",
    "\n",
    "def fetch_recent_ohlcv(*, table_name: str, exchange: str, symbol: str, interval: str | None, limit: int, client_kwargs: dict[str, object]) -> pd.DataFrame:\n",
    "    table = TABLES[table_name]\n",
    "    params: dict[str, object] = {\n",
    "        'exchange': exchange,\n",
    "        'symbol': symbol,\n",
    "        'limit': max(1, int(limit)),\n",
    "    }\n",
    "    time_column = table['time_column']\n",
    "    if table['is_rollup']:\n",
    "        query = f\"\"\"\n",
    "            SELECT\n",
    "                {time_column} AS ts,\n",
    "                argMinMerge(open)   AS open,\n",
    "                maxMerge(high)     AS high,\n",
    "                minMerge(low)      AS low,\n",
    "                argMaxMerge(close) AS close,\n",
    "                sumMerge(volume)   AS volume,\n",
    "                sumMerge(trades)   AS trades\n",
    "            FROM {table['full_name']}\n",
    "            WHERE exchange = %(exchange)s\n",
    "              AND symbol = %(symbol)s\n",
    "            GROUP BY exchange, symbol, {time_column}\n",
    "            ORDER BY ts DESC\n",
    "            LIMIT %(limit)s\n",
    "        \"\"\"\n",
    "    else:\n",
    "        if table['needs_interval'] and not interval:\n",
    "            raise ValueError('Для этой таблицы необходимо указать таймфрейм.')\n",
    "        params['interval'] = interval\n",
    "        query = f\"\"\"\n",
    "            SELECT\n",
    "                {time_column} AS ts,\n",
    "                open,\n",
    "                high,\n",
    "                low,\n",
    "                close,\n",
    "                volume,\n",
    "                trades\n",
    "            FROM {table['full_name']}\n",
    "            WHERE exchange = %(exchange)s\n",
    "              AND symbol = %(symbol)s\n",
    "              AND interval = %(interval)s\n",
    "            ORDER BY ts DESC\n",
    "            LIMIT %(limit)s\n",
    "        \"\"\"\n",
    "    with clickhouse_driver.Client(**client_kwargs) as client:\n",
    "        rows = client.execute(query, params)\n",
    "    df = pd.DataFrame(rows, columns=['ts', 'open', 'high', 'low', 'close', 'volume', 'trades'])\n",
    "    if df.empty:\n",
    "        return df\n",
    "    df['ts'] = pd.to_datetime(df['ts'], utc=True)\n",
    "    return df.sort_values('ts').reset_index(drop=True)\n",
    "\n",
    "def plot_candles(df: pd.DataFrame, title: str) -> go.Figure:\n",
    "    fig = go.Figure(go.Candlestick(\n",
    "        x=df['ts'],\n",
    "        open=df['open'],\n",
    "        high=df['high'],\n",
    "        low=df['low'],\n",
    "        close=df['close'],\n",
    "        name='OHLC',\n",
    "        increasing_line_color='#00C087',\n",
    "        decreasing_line_color='#FF4B4B',\n",
    "        increasing_fillcolor='#00C087',\n",
    "        decreasing_fillcolor='#FF4B4B',\n",
    "    ))\n",
    "    fig.update_layout(\n",
    "        title=title,\n",
    "        xaxis_title='Время (UTC)',\n",
    "        yaxis_title='Цена',\n",
    "        xaxis_rangeslider_visible=False,\n",
    "        template='plotly_dark',\n",
    "        paper_bgcolor='#181A20',\n",
    "        plot_bgcolor='#181A20',\n",
    "        hovermode='x unified',\n",
    "    )\n",
    "    fig.update_xaxes(gridcolor='#23272F', showline=True, linecolor='#23272F')\n",
    "    fig.update_yaxes(gridcolor='#23272F', showline=True, linecolor='#23272F')\n",
    "    return fig\n",
    "\n",
    "def show_recent_chart(*, table_name: str, exchange: str, symbol: str, interval: str | None, limit: int, client_kwargs: dict[str, object]) -> None:\n",
    "    df = fetch_recent_ohlcv(\n",
    "        table_name=table_name,\n",
    "        exchange=exchange,\n",
    "        symbol=symbol,\n",
    "        interval=interval,\n",
    "        limit=limit,\n",
    "        client_kwargs=client_kwargs,\n",
    "    )\n",
    "    if df.empty:\n",
    "        print('Нет данных для выбранных параметров')\n",
    "        return\n",
    "    table_label = TABLES[table_name]['label']\n",
    "    plot_candles(df, title=f'{symbol} ({table_label})').show()\n",
    "\n",
    "CLIENT_KWARGS = build_client_kwargs(\n",
    "    host=DEFAULT_CLICKHOUSE_HOST,\n",
    "    port=DEFAULT_CLICKHOUSE_PORT,\n",
    "    user=DEFAULT_CLICKHOUSE_USER,\n",
    "    password=DEFAULT_CLICKHOUSE_PASSWORD,\n",
    "    database=DEFAULT_CLICKHOUSE_DB,\n",
    ")\n"
   ]
  },
  {
   "cell_type": "code",
   "execution_count": 3,
   "id": "62878caa",
   "metadata": {},
   "outputs": [
    {
     "data": {
      "application/vnd.plotly.v1+json": {
       "config": {
        "plotlyServerURL": "https://plot.ly"
       },
       "data": [
        {
         "close": {
          "bdata": "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",
          "dtype": "f8"
         },
         "decreasing": {
          "fillcolor": "#FF4B4B",
          "line": {
           "color": "#FF4B4B"
          }
         },
         "high": {
          "bdata": "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",
          "dtype": "f8"
         },
         "increasing": {
          "fillcolor": "#00C087",
          "line": {
           "color": "#00C087"
          }
         },
         "low": {
          "bdata": "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",
          "dtype": "f8"
         },
         "name": "OHLC",
         "open": {
          "bdata": "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",
          "dtype": "f8"
         },
         "type": "candlestick",
         "x": [
          "2025-10-21T19:15:00",
          "2025-10-21T19:16:00",
          "2025-10-21T19:17:00",
          "2025-10-21T19:18:00",
          "2025-10-21T19:19:00",
          "2025-10-21T19:20:00",
          "2025-10-21T19:21:00",
          "2025-10-21T19:22:00",
          "2025-10-21T19:23:00",
          "2025-10-21T19:24:00",
          "2025-10-21T19:25:00",
          "2025-10-21T19:26:00",
          "2025-10-21T19:27:00",
          "2025-10-21T19:28:00",
          "2025-10-21T19:29:00",
          "2025-10-21T19:30:00",
          "2025-10-21T19:31:00",
          "2025-10-21T19:32:00",
          "2025-10-21T19:33:00",
          "2025-10-21T19:34:00",
          "2025-10-21T19:35:00",
          "2025-10-21T19:36:00",
          "2025-10-21T19:37:00",
          "2025-10-21T19:38:00",
          "2025-10-21T19:39:00",
          "2025-10-21T19:40:00",
          "2025-10-21T19:41:00",
          "2025-10-21T19:42:00",
          "2025-10-21T19:43:00",
          "2025-10-21T19:44:00",
          "2025-10-21T19:45:00",
          "2025-10-21T19:46:00",
          "2025-10-21T19:47:00",
          "2025-10-21T19:48:00",
          "2025-10-21T19:49:00",
          "2025-10-21T19:50:00",
          "2025-10-21T19:51:00",
          "2025-10-21T19:52:00",
          "2025-10-21T19:53:00",
          "2025-10-21T19:54:00",
          "2025-10-21T19:55:00",
          "2025-10-21T19:56:00",
          "2025-10-21T19:57:00",
          "2025-10-21T19:58:00",
          "2025-10-21T19:59:00",
          "2025-10-21T20:00:00",
          "2025-10-21T20:01:00",
          "2025-10-21T20:02:00",
          "2025-10-21T20:03:00",
          "2025-10-21T20:04:00",
          "2025-10-21T20:05:00",
          "2025-10-21T20:06:00",
          "2025-10-21T20:07:00",
          "2025-10-21T20:08:00",
          "2025-10-21T20:09:00",
          "2025-10-21T20:10:00",
          "2025-10-21T20:11:00",
          "2025-10-21T20:12:00",
          "2025-10-21T20:13:00",
          "2025-10-21T20:14:00",
          "2025-10-21T20:15:00",
          "2025-10-21T20:16:00",
          "2025-10-21T20:17:00",
          "2025-10-21T20:18:00",
          "2025-10-21T20:19:00",
          "2025-10-21T20:20:00",
          "2025-10-21T20:21:00",
          "2025-10-21T20:22:00",
          "2025-10-21T20:23:00",
          "2025-10-21T20:24:00",
          "2025-10-21T20:25:00",
          "2025-10-21T20:26:00",
          "2025-10-21T20:27:00",
          "2025-10-21T20:28:00",
          "2025-10-21T20:29:00",
          "2025-10-21T20:30:00",
          "2025-10-21T20:31:00",
          "2025-10-21T20:32:00",
          "2025-10-21T20:33:00",
          "2025-10-21T20:34:00",
          "2025-10-21T20:35:00",
          "2025-10-21T20:36:00",
          "2025-10-21T20:37:00",
          "2025-10-21T20:38:00",
          "2025-10-21T20:39:00",
          "2025-10-21T20:40:00",
          "2025-10-21T20:41:00",
          "2025-10-21T20:42:00",
          "2025-10-21T20:43:00",
          "2025-10-21T20:44:00",
          "2025-10-21T20:45:00",
          "2025-10-21T20:46:00",
          "2025-10-21T20:47:00",
          "2025-10-21T20:48:00",
          "2025-10-21T20:49:00",
          "2025-10-21T20:50:00",
          "2025-10-21T20:51:00",
          "2025-10-21T20:52:00",
          "2025-10-21T20:53:00",
          "2025-10-21T20:54:00",
          "2025-10-21T20:55:00",
          "2025-10-21T20:56:00",
          "2025-10-21T20:57:00",
          "2025-10-21T20:58:00",
          "2025-10-21T20:59:00",
          "2025-10-21T21:00:00",
          "2025-10-21T21:01:00",
          "2025-10-21T21:02:00",
          "2025-10-21T21:03:00",
          "2025-10-21T21:04:00",
          "2025-10-21T21:05:00",
          "2025-10-21T21:06:00",
          "2025-10-21T21:07:00",
          "2025-10-21T21:08:00",
          "2025-10-21T21:09:00",
          "2025-10-21T21:10:00",
          "2025-10-21T21:11:00",
          "2025-10-21T21:12:00",
          "2025-10-21T21:13:00",
          "2025-10-21T21:14:00",
          "2025-10-21T21:15:00",
          "2025-10-21T21:16:00",
          "2025-10-21T21:17:00",
          "2025-10-21T21:18:00",
          "2025-10-21T21:19:00",
          "2025-10-21T21:20:00",
          "2025-10-21T21:21:00",
          "2025-10-21T21:22:00",
          "2025-10-21T21:23:00",
          "2025-10-21T21:24:00",
          "2025-10-21T21:25:00",
          "2025-10-21T21:26:00",
          "2025-10-21T21:27:00",
          "2025-10-21T21:28:00",
          "2025-10-21T21:29:00",
          "2025-10-21T21:30:00",
          "2025-10-21T21:31:00",
          "2025-10-21T21:32:00",
          "2025-10-21T21:33:00",
          "2025-10-21T21:34:00",
          "2025-10-21T21:35:00",
          "2025-10-21T21:36:00",
          "2025-10-21T21:37:00",
          "2025-10-21T21:38:00",
          "2025-10-21T21:39:00",
          "2025-10-21T21:40:00",
          "2025-10-21T21:41:00",
          "2025-10-21T21:42:00",
          "2025-10-21T21:43:00",
          "2025-10-21T21:44:00",
          "2025-10-21T21:45:00",
          "2025-10-21T21:46:00",
          "2025-10-21T21:47:00",
          "2025-10-21T21:48:00",
          "2025-10-21T21:49:00",
          "2025-10-21T21:50:00",
          "2025-10-21T21:51:00",
          "2025-10-21T21:52:00",
          "2025-10-21T21:53:00",
          "2025-10-21T21:54:00",
          "2025-10-21T21:55:00",
          "2025-10-21T21:56:00",
          "2025-10-21T21:57:00",
          "2025-10-21T21:58:00",
          "2025-10-21T21:59:00",
          "2025-10-21T22:00:00",
          "2025-10-21T22:01:00",
          "2025-10-21T22:02:00",
          "2025-10-21T22:03:00",
          "2025-10-21T22:04:00",
          "2025-10-21T22:05:00",
          "2025-10-21T22:06:00",
          "2025-10-21T22:07:00",
          "2025-10-21T22:08:00",
          "2025-10-21T22:09:00",
          "2025-10-21T22:10:00",
          "2025-10-21T22:11:00",
          "2025-10-21T22:12:00",
          "2025-10-21T22:13:00",
          "2025-10-21T22:14:00",
          "2025-10-21T22:15:00",
          "2025-10-21T22:16:00",
          "2025-10-21T22:17:00",
          "2025-10-21T22:18:00",
          "2025-10-21T22:19:00",
          "2025-10-21T22:20:00",
          "2025-10-21T22:21:00",
          "2025-10-21T22:22:00",
          "2025-10-21T22:23:00",
          "2025-10-21T22:24:00",
          "2025-10-21T22:25:00",
          "2025-10-21T22:26:00",
          "2025-10-21T22:27:00",
          "2025-10-21T22:28:00",
          "2025-10-21T22:29:00",
          "2025-10-21T22:30:00",
          "2025-10-21T22:31:00",
          "2025-10-21T22:32:00",
          "2025-10-21T22:33:00",
          "2025-10-21T22:34:00",
          "2025-10-21T22:35:00",
          "2025-10-21T22:36:00",
          "2025-10-21T22:37:00",
          "2025-10-21T22:38:00",
          "2025-10-21T22:39:00",
          "2025-10-21T22:40:00",
          "2025-10-21T22:41:00",
          "2025-10-21T22:42:00",
          "2025-10-21T22:43:00",
          "2025-10-21T22:44:00",
          "2025-10-21T22:45:00",
          "2025-10-21T22:46:00",
          "2025-10-21T22:47:00",
          "2025-10-21T22:48:00",
          "2025-10-21T22:49:00",
          "2025-10-21T22:50:00",
          "2025-10-21T22:51:00",
          "2025-10-21T22:52:00",
          "2025-10-21T22:53:00",
          "2025-10-21T22:54:00",
          "2025-10-21T22:55:00",
          "2025-10-21T22:56:00",
          "2025-10-21T22:57:00",
          "2025-10-21T22:58:00",
          "2025-10-21T22:59:00",
          "2025-10-21T23:00:00",
          "2025-10-21T23:01:00",
          "2025-10-21T23:02:00",
          "2025-10-21T23:03:00",
          "2025-10-21T23:04:00",
          "2025-10-21T23:05:00",
          "2025-10-21T23:06:00",
          "2025-10-21T23:07:00",
          "2025-10-21T23:08:00",
          "2025-10-21T23:09:00",
          "2025-10-21T23:10:00",
          "2025-10-21T23:11:00",
          "2025-10-21T23:12:00",
          "2025-10-21T23:13:00",
          "2025-10-21T23:14:00",
          "2025-10-21T23:15:00",
          "2025-10-21T23:16:00",
          "2025-10-21T23:17:00",
          "2025-10-21T23:18:00",
          "2025-10-21T23:19:00",
          "2025-10-21T23:20:00",
          "2025-10-21T23:21:00",
          "2025-10-21T23:22:00",
          "2025-10-21T23:23:00",
          "2025-10-21T23:24:00",
          "2025-10-21T23:25:00",
          "2025-10-21T23:26:00",
          "2025-10-21T23:27:00",
          "2025-10-21T23:28:00",
          "2025-10-21T23:29:00",
          "2025-10-21T23:30:00",
          "2025-10-21T23:31:00",
          "2025-10-21T23:32:00",
          "2025-10-21T23:33:00",
          "2025-10-21T23:34:00",
          "2025-10-21T23:35:00",
          "2025-10-21T23:36:00",
          "2025-10-21T23:37:00",
          "2025-10-21T23:38:00",
          "2025-10-21T23:39:00",
          "2025-10-21T23:40:00",
          "2025-10-21T23:41:00",
          "2025-10-21T23:42:00",
          "2025-10-21T23:43:00",
          "2025-10-21T23:44:00",
          "2025-10-21T23:45:00",
          "2025-10-21T23:46:00",
          "2025-10-21T23:47:00",
          "2025-10-21T23:48:00",
          "2025-10-21T23:49:00",
          "2025-10-21T23:50:00",
          "2025-10-21T23:51:00",
          "2025-10-21T23:52:00",
          "2025-10-21T23:53:00",
          "2025-10-21T23:54:00",
          "2025-10-21T23:55:00",
          "2025-10-21T23:56:00",
          "2025-10-21T23:57:00",
          "2025-10-21T23:58:00",
          "2025-10-21T23:59:00",
          "2025-10-22T00:00:00",
          "2025-10-22T00:01:00",
          "2025-10-22T00:02:00",
          "2025-10-22T00:03:00",
          "2025-10-22T00:04:00",
          "2025-10-22T00:05:00",
          "2025-10-22T00:06:00",
          "2025-10-22T00:07:00",
          "2025-10-22T00:08:00",
          "2025-10-22T00:09:00",
          "2025-10-22T00:10:00",
          "2025-10-22T00:11:00",
          "2025-10-22T00:12:00",
          "2025-10-22T00:13:00",
          "2025-10-22T00:14:00",
          "2025-10-22T00:15:00",
          "2025-10-22T00:16:00",
          "2025-10-22T00:17:00",
          "2025-10-22T00:18:00",
          "2025-10-22T00:19:00",
          "2025-10-22T00:20:00",
          "2025-10-22T00:21:00",
          "2025-10-22T00:22:00",
          "2025-10-22T00:23:00",
          "2025-10-22T00:24:00",
          "2025-10-22T00:25:00",
          "2025-10-22T00:26:00",
          "2025-10-22T00:27:00",
          "2025-10-22T00:28:00",
          "2025-10-22T00:29:00",
          "2025-10-22T00:29:00",
          "2025-10-22T00:30:00",
          "2025-10-22T00:30:00",
          "2025-10-22T00:31:00",
          "2025-10-22T00:31:00",
          "2025-10-22T00:32:00",
          "2025-10-22T00:32:00",
          "2025-10-22T00:33:00",
          "2025-10-22T00:33:00",
          "2025-10-22T00:34:00",
          "2025-10-22T00:35:00",
          "2025-10-22T00:36:00",
          "2025-10-22T00:37:00",
          "2025-10-22T00:38:00",
          "2025-10-22T00:39:00",
          "2025-10-22T00:40:00",
          "2025-10-22T00:41:00",
          "2025-10-22T00:42:00",
          "2025-10-22T00:43:00",
          "2025-10-22T00:44:00",
          "2025-10-22T00:44:00",
          "2025-10-22T00:45:00",
          "2025-10-22T00:45:00",
          "2025-10-22T00:46:00",
          "2025-10-22T00:46:00",
          "2025-10-22T00:47:00",
          "2025-10-22T00:47:00",
          "2025-10-22T00:48:00",
          "2025-10-22T00:48:00",
          "2025-10-22T00:49:00",
          "2025-10-22T00:50:00",
          "2025-10-22T00:51:00",
          "2025-10-22T00:52:00",
          "2025-10-22T00:53:00",
          "2025-10-22T00:54:00",
          "2025-10-22T00:55:00",
          "2025-10-22T00:56:00",
          "2025-10-22T00:57:00",
          "2025-10-22T00:58:00",
          "2025-10-22T00:59:00",
          "2025-10-22T01:00:00",
          "2025-10-22T01:01:00",
          "2025-10-22T01:02:00",
          "2025-10-22T01:03:00",
          "2025-10-22T01:04:00",
          "2025-10-22T01:05:00",
          "2025-10-22T01:06:00",
          "2025-10-22T01:07:00",
          "2025-10-22T01:08:00",
          "2025-10-22T01:09:00",
          "2025-10-22T01:10:00",
          "2025-10-22T01:11:00",
          "2025-10-22T01:12:00",
          "2025-10-22T01:13:00",
          "2025-10-22T01:14:00",
          "2025-10-22T01:15:00",
          "2025-10-22T01:16:00",
          "2025-10-22T01:17:00",
          "2025-10-22T01:18:00",
          "2025-10-22T01:19:00",
          "2025-10-22T01:20:00",
          "2025-10-22T01:21:00",
          "2025-10-22T01:22:00",
          "2025-10-22T01:23:00",
          "2025-10-22T01:24:00",
          "2025-10-22T01:25:00",
          "2025-10-22T01:26:00",
          "2025-10-22T01:27:00",
          "2025-10-22T01:28:00",
          "2025-10-22T01:29:00",
          "2025-10-22T01:30:00",
          "2025-10-22T01:31:00",
          "2025-10-22T01:32:00",
          "2025-10-22T01:33:00",
          "2025-10-22T01:34:00",
          "2025-10-22T01:35:00",
          "2025-10-22T01:36:00",
          "2025-10-22T01:37:00",
          "2025-10-22T01:38:00",
          "2025-10-22T01:39:00",
          "2025-10-22T01:40:00",
          "2025-10-22T01:41:00",
          "2025-10-22T01:42:00",
          "2025-10-22T01:43:00",
          "2025-10-22T01:44:00",
          "2025-10-22T01:45:00",
          "2025-10-22T01:46:00",
          "2025-10-22T01:47:00",
          "2025-10-22T01:48:00",
          "2025-10-22T01:49:00",
          "2025-10-22T01:50:00",
          "2025-10-22T01:51:00",
          "2025-10-22T01:52:00",
          "2025-10-22T01:53:00",
          "2025-10-22T01:54:00",
          "2025-10-22T01:55:00",
          "2025-10-22T01:56:00",
          "2025-10-22T01:57:00",
          "2025-10-22T01:58:00",
          "2025-10-22T01:59:00",
          "2025-10-22T02:00:00",
          "2025-10-22T02:01:00",
          "2025-10-22T02:02:00",
          "2025-10-22T02:03:00",
          "2025-10-22T02:04:00",
          "2025-10-22T02:05:00",
          "2025-10-22T02:06:00",
          "2025-10-22T02:07:00",
          "2025-10-22T02:08:00",
          "2025-10-22T02:09:00",
          "2025-10-22T02:10:00",
          "2025-10-22T02:11:00",
          "2025-10-22T02:12:00",
          "2025-10-22T02:13:00",
          "2025-10-22T02:14:00",
          "2025-10-22T02:15:00",
          "2025-10-22T02:16:00",
          "2025-10-22T02:17:00",
          "2025-10-22T02:18:00",
          "2025-10-22T02:19:00",
          "2025-10-22T02:20:00",
          "2025-10-22T02:21:00",
          "2025-10-22T02:22:00",
          "2025-10-22T02:23:00",
          "2025-10-22T02:24:00",
          "2025-10-22T02:25:00",
          "2025-10-22T02:26:00",
          "2025-10-22T02:27:00",
          "2025-10-22T02:28:00",
          "2025-10-22T02:29:00",
          "2025-10-22T02:30:00",
          "2025-10-22T02:31:00",
          "2025-10-22T02:32:00",
          "2025-10-22T02:33:00",
          "2025-10-22T02:34:00",
          "2025-10-22T02:35:00",
          "2025-10-22T02:36:00",
          "2025-10-22T02:37:00",
          "2025-10-22T02:38:00",
          "2025-10-22T02:39:00",
          "2025-10-22T02:40:00",
          "2025-10-22T02:41:00",
          "2025-10-22T02:42:00",
          "2025-10-22T02:43:00",
          "2025-10-22T02:44:00",
          "2025-10-22T02:45:00",
          "2025-10-22T02:46:00",
          "2025-10-22T02:47:00",
          "2025-10-22T02:48:00",
          "2025-10-22T02:49:00",
          "2025-10-22T02:50:00",
          "2025-10-22T02:51:00",
          "2025-10-22T02:52:00",
          "2025-10-22T02:53:00",
          "2025-10-22T02:54:00",
          "2025-10-22T02:55:00",
          "2025-10-22T02:56:00",
          "2025-10-22T02:57:00",
          "2025-10-22T02:58:00",
          "2025-10-22T02:59:00",
          "2025-10-22T03:00:00",
          "2025-10-22T03:01:00",
          "2025-10-22T03:02:00",
          "2025-10-22T03:03:00",
          "2025-10-22T03:04:00",
          "2025-10-22T03:05:00",
          "2025-10-22T03:06:00",
          "2025-10-22T03:07:00",
          "2025-10-22T03:08:00",
          "2025-10-22T03:09:00",
          "2025-10-22T03:10:00",
          "2025-10-22T03:11:00",
          "2025-10-22T03:12:00",
          "2025-10-22T03:13:00",
          "2025-10-22T03:14:00",
          "2025-10-22T03:15:00",
          "2025-10-22T03:16:00",
          "2025-10-22T03:17:00",
          "2025-10-22T03:18:00",
          "2025-10-22T03:19:00",
          "2025-10-22T03:20:00",
          "2025-10-22T03:21:00",
          "2025-10-22T03:22:00",
          "2025-10-22T03:23:00",
          "2025-10-22T03:24:00"
         ]
        }
       ],
       "layout": {
        "hovermode": "x unified",
        "paper_bgcolor": "#181A20",
        "plot_bgcolor": "#181A20",
        "template": {
         "data": {
          "bar": [
           {
            "error_x": {
             "color": "#f2f5fa"
            },
            "error_y": {
             "color": "#f2f5fa"
            },
            "marker": {
             "line": {
              "color": "rgb(17,17,17)",
              "width": 0.5
             },
             "pattern": {
              "fillmode": "overlay",
              "size": 10,
              "solidity": 0.2
             }
            },
            "type": "bar"
           }
          ],
          "barpolar": [
           {
            "marker": {
             "line": {
              "color": "rgb(17,17,17)",
              "width": 0.5
             },
             "pattern": {
              "fillmode": "overlay",
              "size": 10,
              "solidity": 0.2
             }
            },
            "type": "barpolar"
           }
          ],
          "carpet": [
           {
            "aaxis": {
             "endlinecolor": "#A2B1C6",
             "gridcolor": "#506784",
             "linecolor": "#506784",
             "minorgridcolor": "#506784",
             "startlinecolor": "#A2B1C6"
            },
            "baxis": {
             "endlinecolor": "#A2B1C6",
             "gridcolor": "#506784",
             "linecolor": "#506784",
             "minorgridcolor": "#506784",
             "startlinecolor": "#A2B1C6"
            },
            "type": "carpet"
           }
          ],
          "choropleth": [
           {
            "colorbar": {
             "outlinewidth": 0,
             "ticks": ""
            },
            "type": "choropleth"
           }
          ],
          "contour": [
           {
            "colorbar": {
             "outlinewidth": 0,
             "ticks": ""
            },
            "colorscale": [
             [
              0,
              "#0d0887"
             ],
             [
              0.1111111111111111,
              "#46039f"
             ],
             [
              0.2222222222222222,
              "#7201a8"
             ],
             [
              0.3333333333333333,
              "#9c179e"
             ],
             [
              0.4444444444444444,
              "#bd3786"
             ],
             [
              0.5555555555555556,
              "#d8576b"
             ],
             [
              0.6666666666666666,
              "#ed7953"
             ],
             [
              0.7777777777777778,
              "#fb9f3a"
             ],
             [
              0.8888888888888888,
              "#fdca26"
             ],
             [
              1,
              "#f0f921"
             ]
            ],
            "type": "contour"
           }
          ],
          "contourcarpet": [
           {
            "colorbar": {
             "outlinewidth": 0,
             "ticks": ""
            },
            "type": "contourcarpet"
           }
          ],
          "heatmap": [
           {
            "colorbar": {
             "outlinewidth": 0,
             "ticks": ""
            },
            "colorscale": [
             [
              0,
              "#0d0887"
             ],
             [
              0.1111111111111111,
              "#46039f"
             ],
             [
              0.2222222222222222,
              "#7201a8"
             ],
             [
              0.3333333333333333,
              "#9c179e"
             ],
             [
              0.4444444444444444,
              "#bd3786"
             ],
             [
              0.5555555555555556,
              "#d8576b"
             ],
             [
              0.6666666666666666,
              "#ed7953"
             ],
             [
              0.7777777777777778,
              "#fb9f3a"
             ],
             [
              0.8888888888888888,
              "#fdca26"
             ],
             [
              1,
              "#f0f921"
             ]
            ],
            "type": "heatmap"
           }
          ],
          "histogram": [
           {
            "marker": {
             "pattern": {
              "fillmode": "overlay",
              "size": 10,
              "solidity": 0.2
             }
            },
            "type": "histogram"
           }
          ],
          "histogram2d": [
           {
            "colorbar": {
             "outlinewidth": 0,
             "ticks": ""
            },
            "colorscale": [
             [
              0,
              "#0d0887"
             ],
             [
              0.1111111111111111,
              "#46039f"
             ],
             [
              0.2222222222222222,
              "#7201a8"
             ],
             [
              0.3333333333333333,
              "#9c179e"
             ],
             [
              0.4444444444444444,
              "#bd3786"
             ],
             [
              0.5555555555555556,
              "#d8576b"
             ],
             [
              0.6666666666666666,
              "#ed7953"
             ],
             [
              0.7777777777777778,
              "#fb9f3a"
             ],
             [
              0.8888888888888888,
              "#fdca26"
             ],
             [
              1,
              "#f0f921"
             ]
            ],
            "type": "histogram2d"
           }
          ],
          "histogram2dcontour": [
           {
            "colorbar": {
             "outlinewidth": 0,
             "ticks": ""
            },
            "colorscale": [
             [
              0,
              "#0d0887"
             ],
             [
              0.1111111111111111,
              "#46039f"
             ],
             [
              0.2222222222222222,
              "#7201a8"
             ],
             [
              0.3333333333333333,
              "#9c179e"
             ],
             [
              0.4444444444444444,
              "#bd3786"
             ],
             [
              0.5555555555555556,
              "#d8576b"
             ],
             [
              0.6666666666666666,
              "#ed7953"
             ],
             [
              0.7777777777777778,
              "#fb9f3a"
             ],
             [
              0.8888888888888888,
              "#fdca26"
             ],
             [
              1,
              "#f0f921"
             ]
            ],
            "type": "histogram2dcontour"
           }
          ],
          "mesh3d": [
           {
            "colorbar": {
             "outlinewidth": 0,
             "ticks": ""
            },
            "type": "mesh3d"
           }
          ],
          "parcoords": [
           {
            "line": {
             "colorbar": {
              "outlinewidth": 0,
              "ticks": ""
             }
            },
            "type": "parcoords"
           }
          ],
          "pie": [
           {
            "automargin": true,
            "type": "pie"
           }
          ],
          "scatter": [
           {
            "marker": {
             "line": {
              "color": "#283442"
             }
            },
            "type": "scatter"
           }
          ],
          "scatter3d": [
           {
            "line": {
             "colorbar": {
              "outlinewidth": 0,
              "ticks": ""
             }
            },
            "marker": {
             "colorbar": {
              "outlinewidth": 0,
              "ticks": ""
             }
            },
            "type": "scatter3d"
           }
          ],
          "scattercarpet": [
           {
            "marker": {
             "colorbar": {
              "outlinewidth": 0,
              "ticks": ""
             }
            },
            "type": "scattercarpet"
           }
          ],
          "scattergeo": [
           {
            "marker": {
             "colorbar": {
              "outlinewidth": 0,
              "ticks": ""
             }
            },
            "type": "scattergeo"
           }
          ],
          "scattergl": [
           {
            "marker": {
             "line": {
              "color": "#283442"
             }
            },
            "type": "scattergl"
           }
          ],
          "scattermap": [
           {
            "marker": {
             "colorbar": {
              "outlinewidth": 0,
              "ticks": ""
             }
            },
            "type": "scattermap"
           }
          ],
          "scattermapbox": [
           {
            "marker": {
             "colorbar": {
              "outlinewidth": 0,
              "ticks": ""
             }
            },
            "type": "scattermapbox"
           }
          ],
          "scatterpolar": [
           {
            "marker": {
             "colorbar": {
              "outlinewidth": 0,
              "ticks": ""
             }
            },
            "type": "scatterpolar"
           }
          ],
          "scatterpolargl": [
           {
            "marker": {
             "colorbar": {
              "outlinewidth": 0,
              "ticks": ""
             }
            },
            "type": "scatterpolargl"
           }
          ],
          "scatterternary": [
           {
            "marker": {
             "colorbar": {
              "outlinewidth": 0,
              "ticks": ""
             }
            },
            "type": "scatterternary"
           }
          ],
          "surface": [
           {
            "colorbar": {
             "outlinewidth": 0,
             "ticks": ""
            },
            "colorscale": [
             [
              0,
              "#0d0887"
             ],
             [
              0.1111111111111111,
              "#46039f"
             ],
             [
              0.2222222222222222,
              "#7201a8"
             ],
             [
              0.3333333333333333,
              "#9c179e"
             ],
             [
              0.4444444444444444,
              "#bd3786"
             ],
             [
              0.5555555555555556,
              "#d8576b"
             ],
             [
              0.6666666666666666,
              "#ed7953"
             ],
             [
              0.7777777777777778,
              "#fb9f3a"
             ],
             [
              0.8888888888888888,
              "#fdca26"
             ],
             [
              1,
              "#f0f921"
             ]
            ],
            "type": "surface"
           }
          ],
          "table": [
           {
            "cells": {
             "fill": {
              "color": "#506784"
             },
             "line": {
              "color": "rgb(17,17,17)"
             }
            },
            "header": {
             "fill": {
              "color": "#2a3f5f"
             },
             "line": {
              "color": "rgb(17,17,17)"
             }
            },
            "type": "table"
           }
          ]
         },
         "layout": {
          "annotationdefaults": {
           "arrowcolor": "#f2f5fa",
           "arrowhead": 0,
           "arrowwidth": 1
          },
          "autotypenumbers": "strict",
          "coloraxis": {
           "colorbar": {
            "outlinewidth": 0,
            "ticks": ""
           }
          },
          "colorscale": {
           "diverging": [
            [
             0,
             "#8e0152"
            ],
            [
             0.1,
             "#c51b7d"
            ],
            [
             0.2,
             "#de77ae"
            ],
            [
             0.3,
             "#f1b6da"
            ],
            [
             0.4,
             "#fde0ef"
            ],
            [
             0.5,
             "#f7f7f7"
            ],
            [
             0.6,
             "#e6f5d0"
            ],
            [
             0.7,
             "#b8e186"
            ],
            [
             0.8,
             "#7fbc41"
            ],
            [
             0.9,
             "#4d9221"
            ],
            [
             1,
             "#276419"
            ]
           ],
           "sequential": [
            [
             0,
             "#0d0887"
            ],
            [
             0.1111111111111111,
             "#46039f"
            ],
            [
             0.2222222222222222,
             "#7201a8"
            ],
            [
             0.3333333333333333,
             "#9c179e"
            ],
            [
             0.4444444444444444,
             "#bd3786"
            ],
            [
             0.5555555555555556,
             "#d8576b"
            ],
            [
             0.6666666666666666,
             "#ed7953"
            ],
            [
             0.7777777777777778,
             "#fb9f3a"
            ],
            [
             0.8888888888888888,
             "#fdca26"
            ],
            [
             1,
             "#f0f921"
            ]
           ],
           "sequentialminus": [
            [
             0,
             "#0d0887"
            ],
            [
             0.1111111111111111,
             "#46039f"
            ],
            [
             0.2222222222222222,
             "#7201a8"
            ],
            [
             0.3333333333333333,
             "#9c179e"
            ],
            [
             0.4444444444444444,
             "#bd3786"
            ],
            [
             0.5555555555555556,
             "#d8576b"
            ],
            [
             0.6666666666666666,
             "#ed7953"
            ],
            [
             0.7777777777777778,
             "#fb9f3a"
            ],
            [
             0.8888888888888888,
             "#fdca26"
            ],
            [
             1,
             "#f0f921"
            ]
           ]
          },
          "colorway": [
           "#636efa",
           "#EF553B",
           "#00cc96",
           "#ab63fa",
           "#FFA15A",
           "#19d3f3",
           "#FF6692",
           "#B6E880",
           "#FF97FF",
           "#FECB52"
          ],
          "font": {
           "color": "#f2f5fa"
          },
          "geo": {
           "bgcolor": "rgb(17,17,17)",
           "lakecolor": "rgb(17,17,17)",
           "landcolor": "rgb(17,17,17)",
           "showlakes": true,
           "showland": true,
           "subunitcolor": "#506784"
          },
          "hoverlabel": {
           "align": "left"
          },
          "hovermode": "closest",
          "mapbox": {
           "style": "dark"
          },
          "paper_bgcolor": "rgb(17,17,17)",
          "plot_bgcolor": "rgb(17,17,17)",
          "polar": {
           "angularaxis": {
            "gridcolor": "#506784",
            "linecolor": "#506784",
            "ticks": ""
           },
           "bgcolor": "rgb(17,17,17)",
           "radialaxis": {
            "gridcolor": "#506784",
            "linecolor": "#506784",
            "ticks": ""
           }
          },
          "scene": {
           "xaxis": {
            "backgroundcolor": "rgb(17,17,17)",
            "gridcolor": "#506784",
            "gridwidth": 2,
            "linecolor": "#506784",
            "showbackground": true,
            "ticks": "",
            "zerolinecolor": "#C8D4E3"
           },
           "yaxis": {
            "backgroundcolor": "rgb(17,17,17)",
            "gridcolor": "#506784",
            "gridwidth": 2,
            "linecolor": "#506784",
            "showbackground": true,
            "ticks": "",
            "zerolinecolor": "#C8D4E3"
           },
           "zaxis": {
            "backgroundcolor": "rgb(17,17,17)",
            "gridcolor": "#506784",
            "gridwidth": 2,
            "linecolor": "#506784",
            "showbackground": true,
            "ticks": "",
            "zerolinecolor": "#C8D4E3"
           }
          },
          "shapedefaults": {
           "line": {
            "color": "#f2f5fa"
           }
          },
          "sliderdefaults": {
           "bgcolor": "#C8D4E3",
           "bordercolor": "rgb(17,17,17)",
           "borderwidth": 1,
           "tickwidth": 0
          },
          "ternary": {
           "aaxis": {
            "gridcolor": "#506784",
            "linecolor": "#506784",
            "ticks": ""
           },
           "baxis": {
            "gridcolor": "#506784",
            "linecolor": "#506784",
            "ticks": ""
           },
           "bgcolor": "rgb(17,17,17)",
           "caxis": {
            "gridcolor": "#506784",
            "linecolor": "#506784",
            "ticks": ""
           }
          },
          "title": {
           "x": 0.05
          },
          "updatemenudefaults": {
           "bgcolor": "#506784",
           "borderwidth": 0
          },
          "xaxis": {
           "automargin": true,
           "gridcolor": "#283442",
           "linecolor": "#506784",
           "ticks": "",
           "title": {
            "standoff": 15
           },
           "zerolinecolor": "#283442",
           "zerolinewidth": 2
          },
          "yaxis": {
           "automargin": true,
           "gridcolor": "#283442",
           "linecolor": "#506784",
           "ticks": "",
           "title": {
            "standoff": 15
           },
           "zerolinecolor": "#283442",
           "zerolinewidth": 2
          }
         }
        },
        "title": {
         "text": "BNB-USDT-PERP (1m)"
        },
        "xaxis": {
         "gridcolor": "#23272F",
         "linecolor": "#23272F",
         "rangeslider": {
          "visible": false
         },
         "showline": true,
         "title": {
          "text": "Время (UTC)"
         }
        },
        "yaxis": {
         "gridcolor": "#23272F",
         "linecolor": "#23272F",
         "showline": true,
         "title": {
          "text": "Цена"
         }
        }
       }
      }
     },
     "metadata": {},
     "output_type": "display_data"
    }
   ],
   "source": [
    "# Пример: последние 200 свечей из базовой таблицы\n",
    "show_recent_chart(\n",
    "    table_name=CANDLES_TABLE,\n",
    "    exchange='BINANCE_FUTURES',\n",
    "    symbol='BNB-USDT-PERP',\n",
    "    interval=BASE_INTERVAL,\n",
    "    limit=500,\n",
    "    client_kwargs=CLIENT_KWARGS,\n",
    ")\n"
   ]
  },
  {
   "cell_type": "code",
   "execution_count": 4,
   "id": "fc043fa7",
   "metadata": {},
   "outputs": [
    {
     "data": {
      "application/vnd.plotly.v1+json": {
       "config": {
        "plotlyServerURL": "https://plot.ly"
       },
       "data": [
        {
         "close": {
          "bdata": "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",
          "dtype": "f8"
         },
         "decreasing": {
          "fillcolor": "#FF4B4B",
          "line": {
           "color": "#FF4B4B"
          }
         },
         "high": {
          "bdata": "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",
          "dtype": "f8"
         },
         "increasing": {
          "fillcolor": "#00C087",
          "line": {
           "color": "#00C087"
          }
         },
         "low": {
          "bdata": "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",
          "dtype": "f8"
         },
         "name": "OHLC",
         "open": {
          "bdata": "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",
          "dtype": "f8"
         },
         "type": "candlestick",
         "x": [
          "2025-10-19T23:00:00",
          "2025-10-19T23:15:00",
          "2025-10-19T23:30:00",
          "2025-10-19T23:45:00",
          "2025-10-20T00:00:00",
          "2025-10-20T00:15:00",
          "2025-10-20T00:30:00",
          "2025-10-20T00:45:00",
          "2025-10-20T01:00:00",
          "2025-10-20T01:15:00",
          "2025-10-20T01:30:00",
          "2025-10-20T01:45:00",
          "2025-10-20T02:00:00",
          "2025-10-20T02:15:00",
          "2025-10-20T02:30:00",
          "2025-10-20T02:45:00",
          "2025-10-20T03:00:00",
          "2025-10-20T03:15:00",
          "2025-10-20T03:30:00",
          "2025-10-20T03:45:00",
          "2025-10-20T04:00:00",
          "2025-10-20T04:15:00",
          "2025-10-20T04:30:00",
          "2025-10-20T04:45:00",
          "2025-10-20T05:00:00",
          "2025-10-20T05:15:00",
          "2025-10-20T05:30:00",
          "2025-10-20T05:45:00",
          "2025-10-20T06:00:00",
          "2025-10-20T06:15:00",
          "2025-10-20T06:30:00",
          "2025-10-20T06:45:00",
          "2025-10-20T07:00:00",
          "2025-10-20T07:15:00",
          "2025-10-20T07:30:00",
          "2025-10-20T07:45:00",
          "2025-10-20T08:00:00",
          "2025-10-20T08:15:00",
          "2025-10-20T08:30:00",
          "2025-10-20T08:45:00",
          "2025-10-20T09:00:00",
          "2025-10-20T09:15:00",
          "2025-10-20T09:30:00",
          "2025-10-20T09:45:00",
          "2025-10-20T10:00:00",
          "2025-10-20T10:15:00",
          "2025-10-20T10:30:00",
          "2025-10-20T10:45:00",
          "2025-10-20T11:00:00",
          "2025-10-20T11:15:00",
          "2025-10-20T11:30:00",
          "2025-10-20T11:45:00",
          "2025-10-20T12:00:00",
          "2025-10-20T12:15:00",
          "2025-10-20T12:30:00",
          "2025-10-20T12:45:00",
          "2025-10-20T13:00:00",
          "2025-10-20T13:15:00",
          "2025-10-20T13:30:00",
          "2025-10-20T13:45:00",
          "2025-10-20T14:00:00",
          "2025-10-20T14:15:00",
          "2025-10-20T14:30:00",
          "2025-10-20T14:45:00",
          "2025-10-20T15:00:00",
          "2025-10-20T15:15:00",
          "2025-10-20T15:30:00",
          "2025-10-20T15:45:00",
          "2025-10-20T16:00:00",
          "2025-10-20T16:15:00",
          "2025-10-20T16:30:00",
          "2025-10-20T16:45:00",
          "2025-10-20T17:00:00",
          "2025-10-20T17:15:00",
          "2025-10-20T17:30:00",
          "2025-10-20T17:45:00",
          "2025-10-20T18:00:00",
          "2025-10-20T18:15:00",
          "2025-10-20T18:30:00",
          "2025-10-20T18:45:00",
          "2025-10-20T19:00:00",
          "2025-10-20T19:15:00",
          "2025-10-20T19:30:00",
          "2025-10-20T19:45:00",
          "2025-10-20T20:00:00",
          "2025-10-20T20:15:00",
          "2025-10-20T20:30:00",
          "2025-10-20T20:45:00",
          "2025-10-20T21:00:00",
          "2025-10-20T21:15:00",
          "2025-10-20T21:30:00",
          "2025-10-20T21:45:00",
          "2025-10-20T22:00:00",
          "2025-10-20T22:15:00",
          "2025-10-20T22:30:00",
          "2025-10-20T22:45:00",
          "2025-10-20T23:00:00",
          "2025-10-20T23:15:00",
          "2025-10-20T23:30:00",
          "2025-10-20T23:45:00",
          "2025-10-21T00:00:00",
          "2025-10-21T00:15:00",
          "2025-10-21T00:30:00",
          "2025-10-21T00:45:00",
          "2025-10-21T01:00:00",
          "2025-10-21T01:15:00",
          "2025-10-21T01:30:00",
          "2025-10-21T01:45:00",
          "2025-10-21T02:00:00",
          "2025-10-21T02:15:00",
          "2025-10-21T02:30:00",
          "2025-10-21T02:45:00",
          "2025-10-21T03:00:00",
          "2025-10-21T03:15:00",
          "2025-10-21T03:30:00",
          "2025-10-21T03:45:00",
          "2025-10-21T04:00:00",
          "2025-10-21T04:15:00",
          "2025-10-21T04:30:00",
          "2025-10-21T04:45:00",
          "2025-10-21T05:00:00",
          "2025-10-21T05:15:00",
          "2025-10-21T05:30:00",
          "2025-10-21T05:45:00",
          "2025-10-21T06:00:00",
          "2025-10-21T06:15:00",
          "2025-10-21T06:30:00",
          "2025-10-21T06:45:00",
          "2025-10-21T07:00:00",
          "2025-10-21T07:15:00",
          "2025-10-21T07:30:00",
          "2025-10-21T07:45:00",
          "2025-10-21T08:00:00",
          "2025-10-21T08:15:00",
          "2025-10-21T08:30:00",
          "2025-10-21T08:45:00",
          "2025-10-21T09:00:00",
          "2025-10-21T09:15:00",
          "2025-10-21T09:30:00",
          "2025-10-21T09:45:00",
          "2025-10-21T10:00:00",
          "2025-10-21T10:15:00",
          "2025-10-21T10:30:00",
          "2025-10-21T10:45:00",
          "2025-10-21T11:00:00",
          "2025-10-21T11:15:00",
          "2025-10-21T11:30:00",
          "2025-10-21T11:45:00",
          "2025-10-21T12:00:00",
          "2025-10-21T12:15:00",
          "2025-10-21T12:30:00",
          "2025-10-21T12:45:00",
          "2025-10-21T13:00:00",
          "2025-10-21T13:15:00",
          "2025-10-21T13:30:00",
          "2025-10-21T13:45:00",
          "2025-10-21T14:00:00",
          "2025-10-21T14:15:00",
          "2025-10-21T14:30:00",
          "2025-10-21T14:45:00",
          "2025-10-21T15:00:00",
          "2025-10-21T15:15:00",
          "2025-10-21T15:30:00",
          "2025-10-21T15:45:00",
          "2025-10-21T16:00:00",
          "2025-10-21T16:15:00",
          "2025-10-21T16:30:00",
          "2025-10-21T16:45:00",
          "2025-10-21T17:00:00",
          "2025-10-21T17:15:00",
          "2025-10-21T17:30:00",
          "2025-10-21T17:45:00",
          "2025-10-21T18:00:00",
          "2025-10-21T18:15:00",
          "2025-10-21T18:30:00",
          "2025-10-21T18:45:00",
          "2025-10-21T19:00:00",
          "2025-10-21T19:15:00",
          "2025-10-21T19:30:00",
          "2025-10-21T19:45:00",
          "2025-10-21T20:00:00",
          "2025-10-21T20:15:00",
          "2025-10-21T20:30:00",
          "2025-10-21T20:45:00",
          "2025-10-21T21:00:00",
          "2025-10-21T21:15:00",
          "2025-10-21T21:30:00",
          "2025-10-22T00:15:00",
          "2025-10-22T00:30:00",
          "2025-10-22T00:45:00",
          "2025-10-22T01:00:00",
          "2025-10-22T01:15:00",
          "2025-10-22T01:30:00",
          "2025-10-22T01:45:00",
          "2025-10-22T02:00:00",
          "2025-10-22T02:15:00",
          "2025-10-22T02:30:00",
          "2025-10-22T02:45:00",
          "2025-10-22T03:00:00",
          "2025-10-22T03:15:00"
         ]
        }
       ],
       "layout": {
        "hovermode": "x unified",
        "paper_bgcolor": "#181A20",
        "plot_bgcolor": "#181A20",
        "template": {
         "data": {
          "bar": [
           {
            "error_x": {
             "color": "#f2f5fa"
            },
            "error_y": {
             "color": "#f2f5fa"
            },
            "marker": {
             "line": {
              "color": "rgb(17,17,17)",
              "width": 0.5
             },
             "pattern": {
              "fillmode": "overlay",
              "size": 10,
              "solidity": 0.2
             }
            },
            "type": "bar"
           }
          ],
          "barpolar": [
           {
            "marker": {
             "line": {
              "color": "rgb(17,17,17)",
              "width": 0.5
             },
             "pattern": {
              "fillmode": "overlay",
              "size": 10,
              "solidity": 0.2
             }
            },
            "type": "barpolar"
           }
          ],
          "carpet": [
           {
            "aaxis": {
             "endlinecolor": "#A2B1C6",
             "gridcolor": "#506784",
             "linecolor": "#506784",
             "minorgridcolor": "#506784",
             "startlinecolor": "#A2B1C6"
            },
            "baxis": {
             "endlinecolor": "#A2B1C6",
             "gridcolor": "#506784",
             "linecolor": "#506784",
             "minorgridcolor": "#506784",
             "startlinecolor": "#A2B1C6"
            },
            "type": "carpet"
           }
          ],
          "choropleth": [
           {
            "colorbar": {
             "outlinewidth": 0,
             "ticks": ""
            },
            "type": "choropleth"
           }
          ],
          "contour": [
           {
            "colorbar": {
             "outlinewidth": 0,
             "ticks": ""
            },
            "colorscale": [
             [
              0,
              "#0d0887"
             ],
             [
              0.1111111111111111,
              "#46039f"
             ],
             [
              0.2222222222222222,
              "#7201a8"
             ],
             [
              0.3333333333333333,
              "#9c179e"
             ],
             [
              0.4444444444444444,
              "#bd3786"
             ],
             [
              0.5555555555555556,
              "#d8576b"
             ],
             [
              0.6666666666666666,
              "#ed7953"
             ],
             [
              0.7777777777777778,
              "#fb9f3a"
             ],
             [
              0.8888888888888888,
              "#fdca26"
             ],
             [
              1,
              "#f0f921"
             ]
            ],
            "type": "contour"
           }
          ],
          "contourcarpet": [
           {
            "colorbar": {
             "outlinewidth": 0,
             "ticks": ""
            },
            "type": "contourcarpet"
           }
          ],
          "heatmap": [
           {
            "colorbar": {
             "outlinewidth": 0,
             "ticks": ""
            },
            "colorscale": [
             [
              0,
              "#0d0887"
             ],
             [
              0.1111111111111111,
              "#46039f"
             ],
             [
              0.2222222222222222,
              "#7201a8"
             ],
             [
              0.3333333333333333,
              "#9c179e"
             ],
             [
              0.4444444444444444,
              "#bd3786"
             ],
             [
              0.5555555555555556,
              "#d8576b"
             ],
             [
              0.6666666666666666,
              "#ed7953"
             ],
             [
              0.7777777777777778,
              "#fb9f3a"
             ],
             [
              0.8888888888888888,
              "#fdca26"
             ],
             [
              1,
              "#f0f921"
             ]
            ],
            "type": "heatmap"
           }
          ],
          "histogram": [
           {
            "marker": {
             "pattern": {
              "fillmode": "overlay",
              "size": 10,
              "solidity": 0.2
             }
            },
            "type": "histogram"
           }
          ],
          "histogram2d": [
           {
            "colorbar": {
             "outlinewidth": 0,
             "ticks": ""
            },
            "colorscale": [
             [
              0,
              "#0d0887"
             ],
             [
              0.1111111111111111,
              "#46039f"
             ],
             [
              0.2222222222222222,
              "#7201a8"
             ],
             [
              0.3333333333333333,
              "#9c179e"
             ],
             [
              0.4444444444444444,
              "#bd3786"
             ],
             [
              0.5555555555555556,
              "#d8576b"
             ],
             [
              0.6666666666666666,
              "#ed7953"
             ],
             [
              0.7777777777777778,
              "#fb9f3a"
             ],
             [
              0.8888888888888888,
              "#fdca26"
             ],
             [
              1,
              "#f0f921"
             ]
            ],
            "type": "histogram2d"
           }
          ],
          "histogram2dcontour": [
           {
            "colorbar": {
             "outlinewidth": 0,
             "ticks": ""
            },
            "colorscale": [
             [
              0,
              "#0d0887"
             ],
             [
              0.1111111111111111,
              "#46039f"
             ],
             [
              0.2222222222222222,
              "#7201a8"
             ],
             [
              0.3333333333333333,
              "#9c179e"
             ],
             [
              0.4444444444444444,
              "#bd3786"
             ],
             [
              0.5555555555555556,
              "#d8576b"
             ],
             [
              0.6666666666666666,
              "#ed7953"
             ],
             [
              0.7777777777777778,
              "#fb9f3a"
             ],
             [
              0.8888888888888888,
              "#fdca26"
             ],
             [
              1,
              "#f0f921"
             ]
            ],
            "type": "histogram2dcontour"
           }
          ],
          "mesh3d": [
           {
            "colorbar": {
             "outlinewidth": 0,
             "ticks": ""
            },
            "type": "mesh3d"
           }
          ],
          "parcoords": [
           {
            "line": {
             "colorbar": {
              "outlinewidth": 0,
              "ticks": ""
             }
            },
            "type": "parcoords"
           }
          ],
          "pie": [
           {
            "automargin": true,
            "type": "pie"
           }
          ],
          "scatter": [
           {
            "marker": {
             "line": {
              "color": "#283442"
             }
            },
            "type": "scatter"
           }
          ],
          "scatter3d": [
           {
            "line": {
             "colorbar": {
              "outlinewidth": 0,
              "ticks": ""
             }
            },
            "marker": {
             "colorbar": {
              "outlinewidth": 0,
              "ticks": ""
             }
            },
            "type": "scatter3d"
           }
          ],
          "scattercarpet": [
           {
            "marker": {
             "colorbar": {
              "outlinewidth": 0,
              "ticks": ""
             }
            },
            "type": "scattercarpet"
           }
          ],
          "scattergeo": [
           {
            "marker": {
             "colorbar": {
              "outlinewidth": 0,
              "ticks": ""
             }
            },
            "type": "scattergeo"
           }
          ],
          "scattergl": [
           {
            "marker": {
             "line": {
              "color": "#283442"
             }
            },
            "type": "scattergl"
           }
          ],
          "scattermap": [
           {
            "marker": {
             "colorbar": {
              "outlinewidth": 0,
              "ticks": ""
             }
            },
            "type": "scattermap"
           }
          ],
          "scattermapbox": [
           {
            "marker": {
             "colorbar": {
              "outlinewidth": 0,
              "ticks": ""
             }
            },
            "type": "scattermapbox"
           }
          ],
          "scatterpolar": [
           {
            "marker": {
             "colorbar": {
              "outlinewidth": 0,
              "ticks": ""
             }
            },
            "type": "scatterpolar"
           }
          ],
          "scatterpolargl": [
           {
            "marker": {
             "colorbar": {
              "outlinewidth": 0,
              "ticks": ""
             }
            },
            "type": "scatterpolargl"
           }
          ],
          "scatterternary": [
           {
            "marker": {
             "colorbar": {
              "outlinewidth": 0,
              "ticks": ""
             }
            },
            "type": "scatterternary"
           }
          ],
          "surface": [
           {
            "colorbar": {
             "outlinewidth": 0,
             "ticks": ""
            },
            "colorscale": [
             [
              0,
              "#0d0887"
             ],
             [
              0.1111111111111111,
              "#46039f"
             ],
             [
              0.2222222222222222,
              "#7201a8"
             ],
             [
              0.3333333333333333,
              "#9c179e"
             ],
             [
              0.4444444444444444,
              "#bd3786"
             ],
             [
              0.5555555555555556,
              "#d8576b"
             ],
             [
              0.6666666666666666,
              "#ed7953"
             ],
             [
              0.7777777777777778,
              "#fb9f3a"
             ],
             [
              0.8888888888888888,
              "#fdca26"
             ],
             [
              1,
              "#f0f921"
             ]
            ],
            "type": "surface"
           }
          ],
          "table": [
           {
            "cells": {
             "fill": {
              "color": "#506784"
             },
             "line": {
              "color": "rgb(17,17,17)"
             }
            },
            "header": {
             "fill": {
              "color": "#2a3f5f"
             },
             "line": {
              "color": "rgb(17,17,17)"
             }
            },
            "type": "table"
           }
          ]
         },
         "layout": {
          "annotationdefaults": {
           "arrowcolor": "#f2f5fa",
           "arrowhead": 0,
           "arrowwidth": 1
          },
          "autotypenumbers": "strict",
          "coloraxis": {
           "colorbar": {
            "outlinewidth": 0,
            "ticks": ""
           }
          },
          "colorscale": {
           "diverging": [
            [
             0,
             "#8e0152"
            ],
            [
             0.1,
             "#c51b7d"
            ],
            [
             0.2,
             "#de77ae"
            ],
            [
             0.3,
             "#f1b6da"
            ],
            [
             0.4,
             "#fde0ef"
            ],
            [
             0.5,
             "#f7f7f7"
            ],
            [
             0.6,
             "#e6f5d0"
            ],
            [
             0.7,
             "#b8e186"
            ],
            [
             0.8,
             "#7fbc41"
            ],
            [
             0.9,
             "#4d9221"
            ],
            [
             1,
             "#276419"
            ]
           ],
           "sequential": [
            [
             0,
             "#0d0887"
            ],
            [
             0.1111111111111111,
             "#46039f"
            ],
            [
             0.2222222222222222,
             "#7201a8"
            ],
            [
             0.3333333333333333,
             "#9c179e"
            ],
            [
             0.4444444444444444,
             "#bd3786"
            ],
            [
             0.5555555555555556,
             "#d8576b"
            ],
            [
             0.6666666666666666,
             "#ed7953"
            ],
            [
             0.7777777777777778,
             "#fb9f3a"
            ],
            [
             0.8888888888888888,
             "#fdca26"
            ],
            [
             1,
             "#f0f921"
            ]
           ],
           "sequentialminus": [
            [
             0,
             "#0d0887"
            ],
            [
             0.1111111111111111,
             "#46039f"
            ],
            [
             0.2222222222222222,
             "#7201a8"
            ],
            [
             0.3333333333333333,
             "#9c179e"
            ],
            [
             0.4444444444444444,
             "#bd3786"
            ],
            [
             0.5555555555555556,
             "#d8576b"
            ],
            [
             0.6666666666666666,
             "#ed7953"
            ],
            [
             0.7777777777777778,
             "#fb9f3a"
            ],
            [
             0.8888888888888888,
             "#fdca26"
            ],
            [
             1,
             "#f0f921"
            ]
           ]
          },
          "colorway": [
           "#636efa",
           "#EF553B",
           "#00cc96",
           "#ab63fa",
           "#FFA15A",
           "#19d3f3",
           "#FF6692",
           "#B6E880",
           "#FF97FF",
           "#FECB52"
          ],
          "font": {
           "color": "#f2f5fa"
          },
          "geo": {
           "bgcolor": "rgb(17,17,17)",
           "lakecolor": "rgb(17,17,17)",
           "landcolor": "rgb(17,17,17)",
           "showlakes": true,
           "showland": true,
           "subunitcolor": "#506784"
          },
          "hoverlabel": {
           "align": "left"
          },
          "hovermode": "closest",
          "mapbox": {
           "style": "dark"
          },
          "paper_bgcolor": "rgb(17,17,17)",
          "plot_bgcolor": "rgb(17,17,17)",
          "polar": {
           "angularaxis": {
            "gridcolor": "#506784",
            "linecolor": "#506784",
            "ticks": ""
           },
           "bgcolor": "rgb(17,17,17)",
           "radialaxis": {
            "gridcolor": "#506784",
            "linecolor": "#506784",
            "ticks": ""
           }
          },
          "scene": {
           "xaxis": {
            "backgroundcolor": "rgb(17,17,17)",
            "gridcolor": "#506784",
            "gridwidth": 2,
            "linecolor": "#506784",
            "showbackground": true,
            "ticks": "",
            "zerolinecolor": "#C8D4E3"
           },
           "yaxis": {
            "backgroundcolor": "rgb(17,17,17)",
            "gridcolor": "#506784",
            "gridwidth": 2,
            "linecolor": "#506784",
            "showbackground": true,
            "ticks": "",
            "zerolinecolor": "#C8D4E3"
           },
           "zaxis": {
            "backgroundcolor": "rgb(17,17,17)",
            "gridcolor": "#506784",
            "gridwidth": 2,
            "linecolor": "#506784",
            "showbackground": true,
            "ticks": "",
            "zerolinecolor": "#C8D4E3"
           }
          },
          "shapedefaults": {
           "line": {
            "color": "#f2f5fa"
           }
          },
          "sliderdefaults": {
           "bgcolor": "#C8D4E3",
           "bordercolor": "rgb(17,17,17)",
           "borderwidth": 1,
           "tickwidth": 0
          },
          "ternary": {
           "aaxis": {
            "gridcolor": "#506784",
            "linecolor": "#506784",
            "ticks": ""
           },
           "baxis": {
            "gridcolor": "#506784",
            "linecolor": "#506784",
            "ticks": ""
           },
           "bgcolor": "rgb(17,17,17)",
           "caxis": {
            "gridcolor": "#506784",
            "linecolor": "#506784",
            "ticks": ""
           }
          },
          "title": {
           "x": 0.05
          },
          "updatemenudefaults": {
           "bgcolor": "#506784",
           "borderwidth": 0
          },
          "xaxis": {
           "automargin": true,
           "gridcolor": "#283442",
           "linecolor": "#506784",
           "ticks": "",
           "title": {
            "standoff": 15
           },
           "zerolinecolor": "#283442",
           "zerolinewidth": 2
          },
          "yaxis": {
           "automargin": true,
           "gridcolor": "#283442",
           "linecolor": "#506784",
           "ticks": "",
           "title": {
            "standoff": 15
           },
           "zerolinecolor": "#283442",
           "zerolinewidth": 2
          }
         }
        },
        "title": {
         "text": "BNB-USDT-PERP (15m)"
        },
        "xaxis": {
         "gridcolor": "#23272F",
         "linecolor": "#23272F",
         "rangeslider": {
          "visible": false
         },
         "showline": true,
         "title": {
          "text": "Время (UTC)"
         }
        },
        "yaxis": {
         "gridcolor": "#23272F",
         "linecolor": "#23272F",
         "showline": true,
         "title": {
          "text": "Цена"
         }
        }
       }
      }
     },
     "metadata": {},
     "output_type": "display_data"
    }
   ],
   "source": [
    "# Пример: последние 100 свечей из материализованной витрины\n",
    "show_recent_chart(\n",
    "    table_name='candles_15m',\n",
    "    exchange='BINANCE_FUTURES',\n",
    "    symbol='BNB-USDT-PERP',\n",
    "    interval=None,\n",
    "    limit=200,\n",
    "    client_kwargs=CLIENT_KWARGS,\n",
    ")\n"
   ]
  },
  {
   "cell_type": "code",
   "execution_count": null,
   "id": "de837b9b",
   "metadata": {},
   "outputs": [],
   "source": []
  }
 ],
 "metadata": {
  "kernelspec": {
   "display_name": "wenv",
   "language": "python",
   "name": "python3"
  },
  "language_info": {
   "codemirror_mode": {
    "name": "ipython",
    "version": 3
   },
   "file_extension": ".py",
   "mimetype": "text/x-python",
   "name": "python",
   "nbconvert_exporter": "python",
   "pygments_lexer": "ipython3",
   "version": "3.12.11"
  }
 },
 "nbformat": 4,
 "nbformat_minor": 5
}
