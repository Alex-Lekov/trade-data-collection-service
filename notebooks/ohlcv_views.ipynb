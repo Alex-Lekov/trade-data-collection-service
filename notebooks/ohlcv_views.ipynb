{
 "cells": [
  {
   "cell_type": "markdown",
   "metadata": {},
   "source": [
    "# Просмотр OHLCV по материализованным витринам\n",
    "\n",
    "Минимальный набор утилит для запроса свечей из ClickHouse и визуализации данных. Перед запуском убедитесь, что ClickHouse доступен.\n"
   ]
  },
  {
   "cell_type": "code",
   "execution_count": 1,
   "id": "54c8e2c3",
   "metadata": {},
   "outputs": [],
   "source": [
    "import os\n",
    "import sys\n",
    "from pathlib import Path\n",
    "\n",
    "# Найти корень проекта с пакетом `app`\n",
    "for candidate in (Path.cwd(), *Path.cwd().parents):\n",
    "    if (candidate / 'app').is_dir():\n",
    "        if str(candidate) not in sys.path:\n",
    "            sys.path.append(str(candidate))\n",
    "        break\n",
    "else:\n",
    "    raise RuntimeError('Не удалось найти каталог с пакетом app')\n",
    "\n",
    "import pandas as pd\n",
    "import plotly.graph_objects as go\n",
    "import clickhouse_driver\n",
    "\n",
    "from app.clickhouse_schema import (\n",
    "    DATABASE_NAME,\n",
    "    CANDLES_TABLE,\n",
    "    CANDLES_TABLE_FULL,\n",
    "    BASE_INTERVAL,\n",
    "    ROLLUP_SPECS,\n",
    ")\n"
   ]
  },
  {
   "cell_type": "code",
   "execution_count": 2,
   "id": "7a4f1ec5",
   "metadata": {},
   "outputs": [],
   "source": [
    "DEFAULT_CLICKHOUSE_HOST = os.getenv('CLICKHOUSE_HOST', 'localhost')\n",
    "DEFAULT_CLICKHOUSE_PORT = int(os.getenv('CLICKHOUSE_PORT', '19001'))\n",
    "DEFAULT_CLICKHOUSE_USER = os.getenv('CLICKHOUSE_USER', 'default')\n",
    "DEFAULT_CLICKHOUSE_PASSWORD = os.getenv('CLICKHOUSE_PASSWORD', '')\n",
    "DEFAULT_CLICKHOUSE_DB = os.getenv('CLICKHOUSE_DATABASE', DATABASE_NAME)\n",
    "\n",
    "TABLES: dict[str, dict[str, object]] = {\n",
    "    CANDLES_TABLE: {\n",
    "        'full_name': CANDLES_TABLE_FULL,\n",
    "        'label': BASE_INTERVAL,\n",
    "        'time_column': 'start',\n",
    "        'is_rollup': False,\n",
    "        'needs_interval': True,\n",
    "    }\n",
    "}\n",
    "for spec in ROLLUP_SPECS:\n",
    "    TABLES[spec.table_name] = {\n",
    "        'full_name': spec.table_full,\n",
    "        'label': spec.label,\n",
    "        'time_column': 'candle_start',\n",
    "        'is_rollup': True,\n",
    "        'needs_interval': False,\n",
    "    }\n",
    "\n",
    "def build_client_kwargs(*, host: str, port: int, user: str, password: str, database: str, secure: bool = False) -> dict[str, object]:\n",
    "    client_kwargs: dict[str, object] = {\n",
    "        'host': host or 'localhost',\n",
    "        'port': int(port),\n",
    "        'database': database or DATABASE_NAME,\n",
    "        'user': user or 'default',\n",
    "    }\n",
    "    if password:\n",
    "        client_kwargs['password'] = password\n",
    "    if secure:\n",
    "        client_kwargs['secure'] = True\n",
    "        client_kwargs.setdefault('verify', False)\n",
    "    return client_kwargs\n",
    "\n",
    "def fetch_recent_ohlcv(*, table_name: str, exchange: str, symbol: str, interval: str | None, limit: int, client_kwargs: dict[str, object]) -> pd.DataFrame:\n",
    "    table = TABLES[table_name]\n",
    "    params: dict[str, object] = {\n",
    "        'exchange': exchange,\n",
    "        'symbol': symbol,\n",
    "        'limit': max(1, int(limit)),\n",
    "    }\n",
    "    time_column = table['time_column']\n",
    "    if table['is_rollup']:\n",
    "        query = f\"\"\"\n",
    "            SELECT\n",
    "                {time_column} AS ts,\n",
    "                argMinMerge(open)   AS open,\n",
    "                maxMerge(high)     AS high,\n",
    "                minMerge(low)      AS low,\n",
    "                argMaxMerge(close) AS close,\n",
    "                sumMerge(volume)   AS volume,\n",
    "                sumMerge(trades)   AS trades\n",
    "            FROM {table['full_name']}\n",
    "            WHERE exchange = %(exchange)s\n",
    "              AND symbol = %(symbol)s\n",
    "            GROUP BY exchange, symbol, {time_column}\n",
    "            ORDER BY ts DESC\n",
    "            LIMIT %(limit)s\n",
    "        \"\"\"\n",
    "    else:\n",
    "        if table['needs_interval'] and not interval:\n",
    "            raise ValueError('Для этой таблицы необходимо указать таймфрейм.')\n",
    "        params['interval'] = interval\n",
    "        query = f\"\"\"\n",
    "            SELECT\n",
    "                {time_column} AS ts,\n",
    "                open,\n",
    "                high,\n",
    "                low,\n",
    "                close,\n",
    "                volume,\n",
    "                trades\n",
    "            FROM {table['full_name']}\n",
    "            WHERE exchange = %(exchange)s\n",
    "              AND symbol = %(symbol)s\n",
    "              AND interval = %(interval)s\n",
    "            ORDER BY ts DESC\n",
    "            LIMIT %(limit)s\n",
    "        \"\"\"\n",
    "    with clickhouse_driver.Client(**client_kwargs) as client:\n",
    "        rows = client.execute(query, params)\n",
    "    df = pd.DataFrame(rows, columns=['ts', 'open', 'high', 'low', 'close', 'volume', 'trades'])\n",
    "    if df.empty:\n",
    "        return df\n",
    "    df['ts'] = pd.to_datetime(df['ts'], utc=True)\n",
    "    return df.sort_values('ts').reset_index(drop=True)\n",
    "\n",
    "def plot_candles(df: pd.DataFrame, title: str) -> go.Figure:\n",
    "    fig = go.Figure(go.Candlestick(\n",
    "        x=df['ts'],\n",
    "        open=df['open'],\n",
    "        high=df['high'],\n",
    "        low=df['low'],\n",
    "        close=df['close'],\n",
    "        name='OHLC',\n",
    "        increasing_line_color='#00C087',\n",
    "        decreasing_line_color='#FF4B4B',\n",
    "        increasing_fillcolor='#00C087',\n",
    "        decreasing_fillcolor='#FF4B4B',\n",
    "    ))\n",
    "    fig.update_layout(\n",
    "        title=title,\n",
    "        xaxis_title='Время (UTC)',\n",
    "        yaxis_title='Цена',\n",
    "        xaxis_rangeslider_visible=False,\n",
    "        template='plotly_dark',\n",
    "        paper_bgcolor='#181A20',\n",
    "        plot_bgcolor='#181A20',\n",
    "        hovermode='x unified',\n",
    "    )\n",
    "    fig.update_xaxes(gridcolor='#23272F', showline=True, linecolor='#23272F')\n",
    "    fig.update_yaxes(gridcolor='#23272F', showline=True, linecolor='#23272F')\n",
    "    return fig\n",
    "\n",
    "def show_recent_chart(*, table_name: str, exchange: str, symbol: str, interval: str | None, limit: int, client_kwargs: dict[str, object]) -> None:\n",
    "    df = fetch_recent_ohlcv(\n",
    "        table_name=table_name,\n",
    "        exchange=exchange,\n",
    "        symbol=symbol,\n",
    "        interval=interval,\n",
    "        limit=limit,\n",
    "        client_kwargs=client_kwargs,\n",
    "    )\n",
    "    if df.empty:\n",
    "        print('Нет данных для выбранных параметров')\n",
    "        return\n",
    "    table_label = TABLES[table_name]['label']\n",
    "    plot_candles(df, title=f'{symbol} ({table_label})').show()\n",
    "\n",
    "CLIENT_KWARGS = build_client_kwargs(\n",
    "    host=DEFAULT_CLICKHOUSE_HOST,\n",
    "    port=DEFAULT_CLICKHOUSE_PORT,\n",
    "    user=DEFAULT_CLICKHOUSE_USER,\n",
    "    password=DEFAULT_CLICKHOUSE_PASSWORD,\n",
    "    database=DEFAULT_CLICKHOUSE_DB,\n",
    ")\n"
   ]
  },
  {
   "cell_type": "code",
   "execution_count": 3,
   "id": "62878caa",
   "metadata": {},
   "outputs": [
    {
     "data": {
      "application/vnd.plotly.v1+json": {
       "config": {
        "plotlyServerURL": "https://plot.ly"
       },
       "data": [
        {
         "close": {
          "bdata": "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",
          "dtype": "f8"
         },
         "decreasing": {
          "fillcolor": "#FF4B4B",
          "line": {
           "color": "#FF4B4B"
          }
         },
         "high": {
          "bdata": "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",
          "dtype": "f8"
         },
         "increasing": {
          "fillcolor": "#00C087",
          "line": {
           "color": "#00C087"
          }
         },
         "low": {
          "bdata": "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",
          "dtype": "f8"
         },
         "name": "OHLC",
         "open": {
          "bdata": "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",
          "dtype": "f8"
         },
         "type": "candlestick",
         "x": [
          "2025-10-21T20:32:00",
          "2025-10-21T20:33:00",
          "2025-10-21T20:34:00",
          "2025-10-21T20:35:00",
          "2025-10-21T20:36:00",
          "2025-10-21T20:37:00",
          "2025-10-21T20:38:00",
          "2025-10-21T20:39:00",
          "2025-10-21T20:40:00",
          "2025-10-21T20:41:00",
          "2025-10-21T20:42:00",
          "2025-10-21T20:43:00",
          "2025-10-21T20:44:00",
          "2025-10-21T20:45:00",
          "2025-10-21T20:46:00",
          "2025-10-21T20:47:00",
          "2025-10-21T20:48:00",
          "2025-10-21T20:49:00",
          "2025-10-21T20:50:00",
          "2025-10-21T20:51:00",
          "2025-10-21T20:52:00",
          "2025-10-21T20:53:00",
          "2025-10-21T20:54:00",
          "2025-10-21T20:55:00",
          "2025-10-21T20:56:00",
          "2025-10-21T20:57:00",
          "2025-10-21T20:58:00",
          "2025-10-21T20:59:00",
          "2025-10-21T21:00:00",
          "2025-10-21T21:01:00",
          "2025-10-21T21:02:00",
          "2025-10-21T21:03:00",
          "2025-10-21T21:04:00",
          "2025-10-21T21:05:00",
          "2025-10-21T21:06:00",
          "2025-10-21T21:07:00",
          "2025-10-21T21:08:00",
          "2025-10-21T21:09:00",
          "2025-10-21T21:10:00",
          "2025-10-21T21:11:00",
          "2025-10-21T21:12:00",
          "2025-10-21T21:13:00",
          "2025-10-21T21:14:00",
          "2025-10-21T21:15:00",
          "2025-10-21T21:16:00",
          "2025-10-21T21:17:00",
          "2025-10-21T21:18:00",
          "2025-10-21T21:19:00",
          "2025-10-21T21:20:00",
          "2025-10-21T21:21:00",
          "2025-10-21T21:22:00",
          "2025-10-21T21:23:00",
          "2025-10-21T21:24:00",
          "2025-10-21T21:25:00",
          "2025-10-21T21:26:00",
          "2025-10-21T21:27:00",
          "2025-10-21T21:28:00",
          "2025-10-21T21:29:00",
          "2025-10-21T21:30:00",
          "2025-10-21T21:31:00",
          "2025-10-21T21:32:00",
          "2025-10-21T21:33:00",
          "2025-10-21T21:34:00",
          "2025-10-21T21:35:00",
          "2025-10-21T21:36:00",
          "2025-10-21T21:37:00",
          "2025-10-21T21:38:00",
          "2025-10-21T21:39:00",
          "2025-10-21T21:40:00",
          "2025-10-21T21:41:00",
          "2025-10-21T21:42:00",
          "2025-10-21T21:43:00",
          "2025-10-21T21:44:00",
          "2025-10-21T21:45:00",
          "2025-10-21T21:46:00",
          "2025-10-21T21:47:00",
          "2025-10-21T21:48:00",
          "2025-10-21T21:49:00",
          "2025-10-21T21:50:00",
          "2025-10-21T21:51:00",
          "2025-10-21T21:52:00",
          "2025-10-21T21:53:00",
          "2025-10-21T21:54:00",
          "2025-10-21T21:55:00",
          "2025-10-21T21:56:00",
          "2025-10-21T21:57:00",
          "2025-10-21T21:58:00",
          "2025-10-21T21:59:00",
          "2025-10-21T22:00:00",
          "2025-10-21T22:01:00",
          "2025-10-21T22:02:00",
          "2025-10-21T22:03:00",
          "2025-10-21T22:04:00",
          "2025-10-21T22:05:00",
          "2025-10-21T22:06:00",
          "2025-10-21T22:07:00",
          "2025-10-21T22:08:00",
          "2025-10-21T22:09:00",
          "2025-10-21T22:10:00",
          "2025-10-21T22:11:00",
          "2025-10-21T22:12:00",
          "2025-10-21T22:13:00",
          "2025-10-21T22:14:00",
          "2025-10-21T22:15:00",
          "2025-10-21T22:16:00",
          "2025-10-21T22:17:00",
          "2025-10-21T22:18:00",
          "2025-10-21T22:19:00",
          "2025-10-21T22:20:00",
          "2025-10-21T22:21:00",
          "2025-10-21T22:22:00",
          "2025-10-21T22:23:00",
          "2025-10-21T22:24:00",
          "2025-10-21T22:25:00",
          "2025-10-21T22:26:00",
          "2025-10-21T22:27:00",
          "2025-10-21T22:28:00",
          "2025-10-21T22:29:00",
          "2025-10-21T22:30:00",
          "2025-10-21T22:31:00",
          "2025-10-21T22:32:00",
          "2025-10-21T22:33:00",
          "2025-10-21T22:34:00",
          "2025-10-21T22:35:00",
          "2025-10-21T22:36:00",
          "2025-10-21T22:37:00",
          "2025-10-21T22:38:00",
          "2025-10-21T22:39:00",
          "2025-10-21T22:40:00",
          "2025-10-21T22:41:00",
          "2025-10-21T22:42:00",
          "2025-10-21T22:43:00",
          "2025-10-21T22:44:00",
          "2025-10-21T22:45:00",
          "2025-10-21T22:46:00",
          "2025-10-21T22:47:00",
          "2025-10-21T22:48:00",
          "2025-10-21T22:49:00",
          "2025-10-21T22:50:00",
          "2025-10-21T22:51:00",
          "2025-10-21T22:52:00",
          "2025-10-21T22:53:00",
          "2025-10-21T22:54:00",
          "2025-10-21T22:55:00",
          "2025-10-21T22:56:00",
          "2025-10-21T22:57:00",
          "2025-10-21T22:58:00",
          "2025-10-21T22:59:00",
          "2025-10-21T23:00:00",
          "2025-10-21T23:01:00",
          "2025-10-21T23:02:00",
          "2025-10-21T23:03:00",
          "2025-10-21T23:04:00",
          "2025-10-21T23:05:00",
          "2025-10-21T23:06:00",
          "2025-10-21T23:07:00",
          "2025-10-21T23:08:00",
          "2025-10-21T23:09:00",
          "2025-10-21T23:10:00",
          "2025-10-21T23:11:00",
          "2025-10-21T23:12:00",
          "2025-10-21T23:13:00",
          "2025-10-21T23:14:00",
          "2025-10-21T23:15:00",
          "2025-10-21T23:16:00",
          "2025-10-21T23:17:00",
          "2025-10-21T23:18:00",
          "2025-10-21T23:19:00",
          "2025-10-21T23:20:00",
          "2025-10-21T23:21:00",
          "2025-10-21T23:22:00",
          "2025-10-21T23:23:00",
          "2025-10-21T23:24:00",
          "2025-10-21T23:25:00",
          "2025-10-21T23:26:00",
          "2025-10-21T23:27:00",
          "2025-10-21T23:28:00",
          "2025-10-21T23:29:00",
          "2025-10-21T23:30:00",
          "2025-10-21T23:31:00",
          "2025-10-21T23:32:00",
          "2025-10-21T23:33:00",
          "2025-10-21T23:34:00",
          "2025-10-21T23:35:00",
          "2025-10-21T23:36:00",
          "2025-10-21T23:37:00",
          "2025-10-21T23:38:00",
          "2025-10-21T23:39:00",
          "2025-10-21T23:40:00",
          "2025-10-21T23:41:00",
          "2025-10-21T23:42:00",
          "2025-10-21T23:43:00",
          "2025-10-21T23:44:00",
          "2025-10-21T23:45:00",
          "2025-10-21T23:46:00",
          "2025-10-21T23:47:00",
          "2025-10-21T23:48:00",
          "2025-10-21T23:49:00",
          "2025-10-21T23:50:00",
          "2025-10-21T23:51:00",
          "2025-10-21T23:52:00",
          "2025-10-21T23:53:00",
          "2025-10-21T23:54:00",
          "2025-10-21T23:55:00",
          "2025-10-21T23:56:00",
          "2025-10-21T23:57:00",
          "2025-10-21T23:58:00",
          "2025-10-21T23:59:00",
          "2025-10-22T00:00:00",
          "2025-10-22T00:01:00",
          "2025-10-22T00:02:00",
          "2025-10-22T00:03:00",
          "2025-10-22T00:04:00",
          "2025-10-22T00:05:00",
          "2025-10-22T00:06:00",
          "2025-10-22T00:07:00",
          "2025-10-22T00:08:00",
          "2025-10-22T00:09:00",
          "2025-10-22T00:10:00",
          "2025-10-22T00:11:00",
          "2025-10-22T00:12:00",
          "2025-10-22T00:13:00",
          "2025-10-22T00:14:00",
          "2025-10-22T00:15:00",
          "2025-10-22T00:16:00",
          "2025-10-22T00:17:00",
          "2025-10-22T00:18:00",
          "2025-10-22T00:19:00",
          "2025-10-22T00:20:00",
          "2025-10-22T00:21:00",
          "2025-10-22T00:22:00",
          "2025-10-22T00:23:00",
          "2025-10-22T00:24:00",
          "2025-10-22T00:25:00",
          "2025-10-22T00:26:00",
          "2025-10-22T00:27:00",
          "2025-10-22T00:28:00",
          "2025-10-22T00:29:00",
          "2025-10-22T00:29:00",
          "2025-10-22T00:30:00",
          "2025-10-22T00:30:00",
          "2025-10-22T00:31:00",
          "2025-10-22T00:31:00",
          "2025-10-22T00:32:00",
          "2025-10-22T00:32:00",
          "2025-10-22T00:33:00",
          "2025-10-22T00:33:00",
          "2025-10-22T00:34:00",
          "2025-10-22T00:35:00",
          "2025-10-22T00:36:00",
          "2025-10-22T00:37:00",
          "2025-10-22T00:38:00",
          "2025-10-22T00:39:00",
          "2025-10-22T00:40:00",
          "2025-10-22T00:41:00",
          "2025-10-22T00:42:00",
          "2025-10-22T00:43:00",
          "2025-10-22T00:44:00",
          "2025-10-22T00:44:00",
          "2025-10-22T00:45:00",
          "2025-10-22T00:45:00",
          "2025-10-22T00:46:00",
          "2025-10-22T00:46:00",
          "2025-10-22T00:47:00",
          "2025-10-22T00:47:00",
          "2025-10-22T00:48:00",
          "2025-10-22T00:48:00",
          "2025-10-22T00:49:00",
          "2025-10-22T00:50:00",
          "2025-10-22T00:51:00",
          "2025-10-22T00:52:00",
          "2025-10-22T00:53:00",
          "2025-10-22T00:54:00",
          "2025-10-22T00:55:00",
          "2025-10-22T00:56:00",
          "2025-10-22T00:57:00",
          "2025-10-22T00:58:00",
          "2025-10-22T00:59:00",
          "2025-10-22T01:00:00",
          "2025-10-22T01:01:00",
          "2025-10-22T01:02:00",
          "2025-10-22T01:03:00",
          "2025-10-22T01:04:00",
          "2025-10-22T01:05:00",
          "2025-10-22T01:06:00",
          "2025-10-22T01:07:00",
          "2025-10-22T01:08:00",
          "2025-10-22T01:09:00",
          "2025-10-22T01:10:00",
          "2025-10-22T01:11:00",
          "2025-10-22T01:12:00",
          "2025-10-22T01:13:00",
          "2025-10-22T01:14:00",
          "2025-10-22T01:15:00",
          "2025-10-22T01:16:00",
          "2025-10-22T01:17:00",
          "2025-10-22T01:18:00",
          "2025-10-22T01:19:00",
          "2025-10-22T01:20:00",
          "2025-10-22T01:21:00",
          "2025-10-22T01:22:00",
          "2025-10-22T01:23:00",
          "2025-10-22T01:24:00",
          "2025-10-22T01:25:00",
          "2025-10-22T01:26:00",
          "2025-10-22T01:27:00",
          "2025-10-22T01:28:00",
          "2025-10-22T01:29:00",
          "2025-10-22T01:30:00",
          "2025-10-22T01:31:00",
          "2025-10-22T01:32:00",
          "2025-10-22T01:33:00",
          "2025-10-22T01:34:00",
          "2025-10-22T01:35:00",
          "2025-10-22T01:36:00",
          "2025-10-22T01:37:00",
          "2025-10-22T01:38:00",
          "2025-10-22T01:39:00",
          "2025-10-22T01:40:00",
          "2025-10-22T01:41:00",
          "2025-10-22T01:42:00",
          "2025-10-22T01:43:00",
          "2025-10-22T01:44:00",
          "2025-10-22T01:45:00",
          "2025-10-22T01:46:00",
          "2025-10-22T01:47:00",
          "2025-10-22T01:48:00",
          "2025-10-22T01:49:00",
          "2025-10-22T01:50:00",
          "2025-10-22T01:51:00",
          "2025-10-22T01:52:00",
          "2025-10-22T01:53:00",
          "2025-10-22T01:54:00",
          "2025-10-22T01:55:00",
          "2025-10-22T01:56:00",
          "2025-10-22T01:57:00",
          "2025-10-22T01:58:00",
          "2025-10-22T01:59:00",
          "2025-10-22T02:00:00",
          "2025-10-22T02:01:00",
          "2025-10-22T02:02:00",
          "2025-10-22T02:03:00",
          "2025-10-22T02:04:00",
          "2025-10-22T02:05:00",
          "2025-10-22T02:06:00",
          "2025-10-22T02:07:00",
          "2025-10-22T02:08:00",
          "2025-10-22T02:09:00",
          "2025-10-22T02:10:00",
          "2025-10-22T02:11:00",
          "2025-10-22T02:12:00",
          "2025-10-22T02:13:00",
          "2025-10-22T02:14:00",
          "2025-10-22T02:15:00",
          "2025-10-22T02:16:00",
          "2025-10-22T02:17:00",
          "2025-10-22T02:18:00",
          "2025-10-22T02:19:00",
          "2025-10-22T02:20:00",
          "2025-10-22T02:21:00",
          "2025-10-22T02:22:00",
          "2025-10-22T02:23:00",
          "2025-10-22T02:24:00",
          "2025-10-22T02:25:00",
          "2025-10-22T02:26:00",
          "2025-10-22T02:27:00",
          "2025-10-22T02:28:00",
          "2025-10-22T02:29:00",
          "2025-10-22T02:30:00",
          "2025-10-22T02:31:00",
          "2025-10-22T02:32:00",
          "2025-10-22T02:33:00",
          "2025-10-22T02:34:00",
          "2025-10-22T02:35:00",
          "2025-10-22T02:36:00",
          "2025-10-22T02:37:00",
          "2025-10-22T02:38:00",
          "2025-10-22T02:39:00",
          "2025-10-22T02:40:00",
          "2025-10-22T02:41:00",
          "2025-10-22T02:42:00",
          "2025-10-22T02:43:00",
          "2025-10-22T02:44:00",
          "2025-10-22T02:45:00",
          "2025-10-22T02:46:00",
          "2025-10-22T02:47:00",
          "2025-10-22T02:48:00",
          "2025-10-22T02:49:00",
          "2025-10-22T02:50:00",
          "2025-10-22T02:51:00",
          "2025-10-22T02:52:00",
          "2025-10-22T02:53:00",
          "2025-10-22T02:54:00",
          "2025-10-22T02:55:00",
          "2025-10-22T02:56:00",
          "2025-10-22T02:57:00",
          "2025-10-22T02:58:00",
          "2025-10-22T02:59:00",
          "2025-10-22T03:00:00",
          "2025-10-22T03:01:00",
          "2025-10-22T03:02:00",
          "2025-10-22T03:03:00",
          "2025-10-22T03:04:00",
          "2025-10-22T03:05:00",
          "2025-10-22T03:06:00",
          "2025-10-22T03:07:00",
          "2025-10-22T03:08:00",
          "2025-10-22T03:09:00",
          "2025-10-22T03:10:00",
          "2025-10-22T03:11:00",
          "2025-10-22T03:12:00",
          "2025-10-22T03:13:00",
          "2025-10-22T03:14:00",
          "2025-10-22T03:15:00",
          "2025-10-22T03:16:00",
          "2025-10-22T03:17:00",
          "2025-10-22T03:18:00",
          "2025-10-22T03:19:00",
          "2025-10-22T03:20:00",
          "2025-10-22T03:21:00",
          "2025-10-22T03:22:00",
          "2025-10-22T03:23:00",
          "2025-10-22T03:24:00",
          "2025-10-22T03:25:00",
          "2025-10-22T03:26:00",
          "2025-10-22T03:27:00",
          "2025-10-22T03:28:00",
          "2025-10-22T03:29:00",
          "2025-10-22T03:30:00",
          "2025-10-22T03:31:00",
          "2025-10-22T03:32:00",
          "2025-10-22T03:33:00",
          "2025-10-22T03:34:00",
          "2025-10-22T03:35:00",
          "2025-10-22T03:36:00",
          "2025-10-22T03:37:00",
          "2025-10-22T03:38:00",
          "2025-10-22T03:39:00",
          "2025-10-22T03:40:00",
          "2025-10-22T03:41:00",
          "2025-10-22T03:42:00",
          "2025-10-22T03:43:00",
          "2025-10-22T03:44:00",
          "2025-10-22T03:45:00",
          "2025-10-22T03:46:00",
          "2025-10-22T03:47:00",
          "2025-10-22T03:48:00",
          "2025-10-22T03:49:00",
          "2025-10-22T03:50:00",
          "2025-10-22T03:51:00",
          "2025-10-22T03:52:00",
          "2025-10-22T03:53:00",
          "2025-10-22T03:54:00",
          "2025-10-22T03:55:00",
          "2025-10-22T03:56:00",
          "2025-10-22T03:57:00",
          "2025-10-22T03:58:00",
          "2025-10-22T03:59:00",
          "2025-10-22T04:00:00",
          "2025-10-22T04:01:00",
          "2025-10-22T04:02:00",
          "2025-10-22T04:03:00",
          "2025-10-22T04:04:00",
          "2025-10-22T04:05:00",
          "2025-10-22T04:06:00",
          "2025-10-22T04:07:00",
          "2025-10-22T04:08:00",
          "2025-10-22T04:09:00",
          "2025-10-22T04:10:00",
          "2025-10-22T04:11:00",
          "2025-10-22T04:12:00",
          "2025-10-22T04:13:00",
          "2025-10-22T04:14:00",
          "2025-10-22T04:15:00",
          "2025-10-22T04:16:00",
          "2025-10-22T04:17:00",
          "2025-10-22T04:18:00",
          "2025-10-22T04:19:00",
          "2025-10-22T04:20:00",
          "2025-10-22T04:21:00",
          "2025-10-22T04:22:00",
          "2025-10-22T04:23:00",
          "2025-10-22T04:24:00",
          "2025-10-22T04:25:00",
          "2025-10-22T04:26:00",
          "2025-10-22T04:27:00",
          "2025-10-22T04:28:00",
          "2025-10-22T04:29:00",
          "2025-10-22T04:30:00",
          "2025-10-22T04:31:00",
          "2025-10-22T04:32:00",
          "2025-10-22T04:33:00",
          "2025-10-22T04:34:00",
          "2025-10-22T04:35:00",
          "2025-10-22T04:36:00",
          "2025-10-22T04:37:00",
          "2025-10-22T04:38:00",
          "2025-10-22T04:39:00",
          "2025-10-22T04:40:00",
          "2025-10-22T04:41:00"
         ]
        }
       ],
       "layout": {
        "hovermode": "x unified",
        "paper_bgcolor": "#181A20",
        "plot_bgcolor": "#181A20",
        "template": {
         "data": {
          "bar": [
           {
            "error_x": {
             "color": "#f2f5fa"
            },
            "error_y": {
             "color": "#f2f5fa"
            },
            "marker": {
             "line": {
              "color": "rgb(17,17,17)",
              "width": 0.5
             },
             "pattern": {
              "fillmode": "overlay",
              "size": 10,
              "solidity": 0.2
             }
            },
            "type": "bar"
           }
          ],
          "barpolar": [
           {
            "marker": {
             "line": {
              "color": "rgb(17,17,17)",
              "width": 0.5
             },
             "pattern": {
              "fillmode": "overlay",
              "size": 10,
              "solidity": 0.2
             }
            },
            "type": "barpolar"
           }
          ],
          "carpet": [
           {
            "aaxis": {
             "endlinecolor": "#A2B1C6",
             "gridcolor": "#506784",
             "linecolor": "#506784",
             "minorgridcolor": "#506784",
             "startlinecolor": "#A2B1C6"
            },
            "baxis": {
             "endlinecolor": "#A2B1C6",
             "gridcolor": "#506784",
             "linecolor": "#506784",
             "minorgridcolor": "#506784",
             "startlinecolor": "#A2B1C6"
            },
            "type": "carpet"
           }
          ],
          "choropleth": [
           {
            "colorbar": {
             "outlinewidth": 0,
             "ticks": ""
            },
            "type": "choropleth"
           }
          ],
          "contour": [
           {
            "colorbar": {
             "outlinewidth": 0,
             "ticks": ""
            },
            "colorscale": [
             [
              0,
              "#0d0887"
             ],
             [
              0.1111111111111111,
              "#46039f"
             ],
             [
              0.2222222222222222,
              "#7201a8"
             ],
             [
              0.3333333333333333,
              "#9c179e"
             ],
             [
              0.4444444444444444,
              "#bd3786"
             ],
             [
              0.5555555555555556,
              "#d8576b"
             ],
             [
              0.6666666666666666,
              "#ed7953"
             ],
             [
              0.7777777777777778,
              "#fb9f3a"
             ],
             [
              0.8888888888888888,
              "#fdca26"
             ],
             [
              1,
              "#f0f921"
             ]
            ],
            "type": "contour"
           }
          ],
          "contourcarpet": [
           {
            "colorbar": {
             "outlinewidth": 0,
             "ticks": ""
            },
            "type": "contourcarpet"
           }
          ],
          "heatmap": [
           {
            "colorbar": {
             "outlinewidth": 0,
             "ticks": ""
            },
            "colorscale": [
             [
              0,
              "#0d0887"
             ],
             [
              0.1111111111111111,
              "#46039f"
             ],
             [
              0.2222222222222222,
              "#7201a8"
             ],
             [
              0.3333333333333333,
              "#9c179e"
             ],
             [
              0.4444444444444444,
              "#bd3786"
             ],
             [
              0.5555555555555556,
              "#d8576b"
             ],
             [
              0.6666666666666666,
              "#ed7953"
             ],
             [
              0.7777777777777778,
              "#fb9f3a"
             ],
             [
              0.8888888888888888,
              "#fdca26"
             ],
             [
              1,
              "#f0f921"
             ]
            ],
            "type": "heatmap"
           }
          ],
          "histogram": [
           {
            "marker": {
             "pattern": {
              "fillmode": "overlay",
              "size": 10,
              "solidity": 0.2
             }
            },
            "type": "histogram"
           }
          ],
          "histogram2d": [
           {
            "colorbar": {
             "outlinewidth": 0,
             "ticks": ""
            },
            "colorscale": [
             [
              0,
              "#0d0887"
             ],
             [
              0.1111111111111111,
              "#46039f"
             ],
             [
              0.2222222222222222,
              "#7201a8"
             ],
             [
              0.3333333333333333,
              "#9c179e"
             ],
             [
              0.4444444444444444,
              "#bd3786"
             ],
             [
              0.5555555555555556,
              "#d8576b"
             ],
             [
              0.6666666666666666,
              "#ed7953"
             ],
             [
              0.7777777777777778,
              "#fb9f3a"
             ],
             [
              0.8888888888888888,
              "#fdca26"
             ],
             [
              1,
              "#f0f921"
             ]
            ],
            "type": "histogram2d"
           }
          ],
          "histogram2dcontour": [
           {
            "colorbar": {
             "outlinewidth": 0,
             "ticks": ""
            },
            "colorscale": [
             [
              0,
              "#0d0887"
             ],
             [
              0.1111111111111111,
              "#46039f"
             ],
             [
              0.2222222222222222,
              "#7201a8"
             ],
             [
              0.3333333333333333,
              "#9c179e"
             ],
             [
              0.4444444444444444,
              "#bd3786"
             ],
             [
              0.5555555555555556,
              "#d8576b"
             ],
             [
              0.6666666666666666,
              "#ed7953"
             ],
             [
              0.7777777777777778,
              "#fb9f3a"
             ],
             [
              0.8888888888888888,
              "#fdca26"
             ],
             [
              1,
              "#f0f921"
             ]
            ],
            "type": "histogram2dcontour"
           }
          ],
          "mesh3d": [
           {
            "colorbar": {
             "outlinewidth": 0,
             "ticks": ""
            },
            "type": "mesh3d"
           }
          ],
          "parcoords": [
           {
            "line": {
             "colorbar": {
              "outlinewidth": 0,
              "ticks": ""
             }
            },
            "type": "parcoords"
           }
          ],
          "pie": [
           {
            "automargin": true,
            "type": "pie"
           }
          ],
          "scatter": [
           {
            "marker": {
             "line": {
              "color": "#283442"
             }
            },
            "type": "scatter"
           }
          ],
          "scatter3d": [
           {
            "line": {
             "colorbar": {
              "outlinewidth": 0,
              "ticks": ""
             }
            },
            "marker": {
             "colorbar": {
              "outlinewidth": 0,
              "ticks": ""
             }
            },
            "type": "scatter3d"
           }
          ],
          "scattercarpet": [
           {
            "marker": {
             "colorbar": {
              "outlinewidth": 0,
              "ticks": ""
             }
            },
            "type": "scattercarpet"
           }
          ],
          "scattergeo": [
           {
            "marker": {
             "colorbar": {
              "outlinewidth": 0,
              "ticks": ""
             }
            },
            "type": "scattergeo"
           }
          ],
          "scattergl": [
           {
            "marker": {
             "line": {
              "color": "#283442"
             }
            },
            "type": "scattergl"
           }
          ],
          "scattermap": [
           {
            "marker": {
             "colorbar": {
              "outlinewidth": 0,
              "ticks": ""
             }
            },
            "type": "scattermap"
           }
          ],
          "scattermapbox": [
           {
            "marker": {
             "colorbar": {
              "outlinewidth": 0,
              "ticks": ""
             }
            },
            "type": "scattermapbox"
           }
          ],
          "scatterpolar": [
           {
            "marker": {
             "colorbar": {
              "outlinewidth": 0,
              "ticks": ""
             }
            },
            "type": "scatterpolar"
           }
          ],
          "scatterpolargl": [
           {
            "marker": {
             "colorbar": {
              "outlinewidth": 0,
              "ticks": ""
             }
            },
            "type": "scatterpolargl"
           }
          ],
          "scatterternary": [
           {
            "marker": {
             "colorbar": {
              "outlinewidth": 0,
              "ticks": ""
             }
            },
            "type": "scatterternary"
           }
          ],
          "surface": [
           {
            "colorbar": {
             "outlinewidth": 0,
             "ticks": ""
            },
            "colorscale": [
             [
              0,
              "#0d0887"
             ],
             [
              0.1111111111111111,
              "#46039f"
             ],
             [
              0.2222222222222222,
              "#7201a8"
             ],
             [
              0.3333333333333333,
              "#9c179e"
             ],
             [
              0.4444444444444444,
              "#bd3786"
             ],
             [
              0.5555555555555556,
              "#d8576b"
             ],
             [
              0.6666666666666666,
              "#ed7953"
             ],
             [
              0.7777777777777778,
              "#fb9f3a"
             ],
             [
              0.8888888888888888,
              "#fdca26"
             ],
             [
              1,
              "#f0f921"
             ]
            ],
            "type": "surface"
           }
          ],
          "table": [
           {
            "cells": {
             "fill": {
              "color": "#506784"
             },
             "line": {
              "color": "rgb(17,17,17)"
             }
            },
            "header": {
             "fill": {
              "color": "#2a3f5f"
             },
             "line": {
              "color": "rgb(17,17,17)"
             }
            },
            "type": "table"
           }
          ]
         },
         "layout": {
          "annotationdefaults": {
           "arrowcolor": "#f2f5fa",
           "arrowhead": 0,
           "arrowwidth": 1
          },
          "autotypenumbers": "strict",
          "coloraxis": {
           "colorbar": {
            "outlinewidth": 0,
            "ticks": ""
           }
          },
          "colorscale": {
           "diverging": [
            [
             0,
             "#8e0152"
            ],
            [
             0.1,
             "#c51b7d"
            ],
            [
             0.2,
             "#de77ae"
            ],
            [
             0.3,
             "#f1b6da"
            ],
            [
             0.4,
             "#fde0ef"
            ],
            [
             0.5,
             "#f7f7f7"
            ],
            [
             0.6,
             "#e6f5d0"
            ],
            [
             0.7,
             "#b8e186"
            ],
            [
             0.8,
             "#7fbc41"
            ],
            [
             0.9,
             "#4d9221"
            ],
            [
             1,
             "#276419"
            ]
           ],
           "sequential": [
            [
             0,
             "#0d0887"
            ],
            [
             0.1111111111111111,
             "#46039f"
            ],
            [
             0.2222222222222222,
             "#7201a8"
            ],
            [
             0.3333333333333333,
             "#9c179e"
            ],
            [
             0.4444444444444444,
             "#bd3786"
            ],
            [
             0.5555555555555556,
             "#d8576b"
            ],
            [
             0.6666666666666666,
             "#ed7953"
            ],
            [
             0.7777777777777778,
             "#fb9f3a"
            ],
            [
             0.8888888888888888,
             "#fdca26"
            ],
            [
             1,
             "#f0f921"
            ]
           ],
           "sequentialminus": [
            [
             0,
             "#0d0887"
            ],
            [
             0.1111111111111111,
             "#46039f"
            ],
            [
             0.2222222222222222,
             "#7201a8"
            ],
            [
             0.3333333333333333,
             "#9c179e"
            ],
            [
             0.4444444444444444,
             "#bd3786"
            ],
            [
             0.5555555555555556,
             "#d8576b"
            ],
            [
             0.6666666666666666,
             "#ed7953"
            ],
            [
             0.7777777777777778,
             "#fb9f3a"
            ],
            [
             0.8888888888888888,
             "#fdca26"
            ],
            [
             1,
             "#f0f921"
            ]
           ]
          },
          "colorway": [
           "#636efa",
           "#EF553B",
           "#00cc96",
           "#ab63fa",
           "#FFA15A",
           "#19d3f3",
           "#FF6692",
           "#B6E880",
           "#FF97FF",
           "#FECB52"
          ],
          "font": {
           "color": "#f2f5fa"
          },
          "geo": {
           "bgcolor": "rgb(17,17,17)",
           "lakecolor": "rgb(17,17,17)",
           "landcolor": "rgb(17,17,17)",
           "showlakes": true,
           "showland": true,
           "subunitcolor": "#506784"
          },
          "hoverlabel": {
           "align": "left"
          },
          "hovermode": "closest",
          "mapbox": {
           "style": "dark"
          },
          "paper_bgcolor": "rgb(17,17,17)",
          "plot_bgcolor": "rgb(17,17,17)",
          "polar": {
           "angularaxis": {
            "gridcolor": "#506784",
            "linecolor": "#506784",
            "ticks": ""
           },
           "bgcolor": "rgb(17,17,17)",
           "radialaxis": {
            "gridcolor": "#506784",
            "linecolor": "#506784",
            "ticks": ""
           }
          },
          "scene": {
           "xaxis": {
            "backgroundcolor": "rgb(17,17,17)",
            "gridcolor": "#506784",
            "gridwidth": 2,
            "linecolor": "#506784",
            "showbackground": true,
            "ticks": "",
            "zerolinecolor": "#C8D4E3"
           },
           "yaxis": {
            "backgroundcolor": "rgb(17,17,17)",
            "gridcolor": "#506784",
            "gridwidth": 2,
            "linecolor": "#506784",
            "showbackground": true,
            "ticks": "",
            "zerolinecolor": "#C8D4E3"
           },
           "zaxis": {
            "backgroundcolor": "rgb(17,17,17)",
            "gridcolor": "#506784",
            "gridwidth": 2,
            "linecolor": "#506784",
            "showbackground": true,
            "ticks": "",
            "zerolinecolor": "#C8D4E3"
           }
          },
          "shapedefaults": {
           "line": {
            "color": "#f2f5fa"
           }
          },
          "sliderdefaults": {
           "bgcolor": "#C8D4E3",
           "bordercolor": "rgb(17,17,17)",
           "borderwidth": 1,
           "tickwidth": 0
          },
          "ternary": {
           "aaxis": {
            "gridcolor": "#506784",
            "linecolor": "#506784",
            "ticks": ""
           },
           "baxis": {
            "gridcolor": "#506784",
            "linecolor": "#506784",
            "ticks": ""
           },
           "bgcolor": "rgb(17,17,17)",
           "caxis": {
            "gridcolor": "#506784",
            "linecolor": "#506784",
            "ticks": ""
           }
          },
          "title": {
           "x": 0.05
          },
          "updatemenudefaults": {
           "bgcolor": "#506784",
           "borderwidth": 0
          },
          "xaxis": {
           "automargin": true,
           "gridcolor": "#283442",
           "linecolor": "#506784",
           "ticks": "",
           "title": {
            "standoff": 15
           },
           "zerolinecolor": "#283442",
           "zerolinewidth": 2
          },
          "yaxis": {
           "automargin": true,
           "gridcolor": "#283442",
           "linecolor": "#506784",
           "ticks": "",
           "title": {
            "standoff": 15
           },
           "zerolinecolor": "#283442",
           "zerolinewidth": 2
          }
         }
        },
        "title": {
         "text": "BNB-USDT-PERP (1m)"
        },
        "xaxis": {
         "gridcolor": "#23272F",
         "linecolor": "#23272F",
         "rangeslider": {
          "visible": false
         },
         "showline": true,
         "title": {
          "text": "Время (UTC)"
         }
        },
        "yaxis": {
         "gridcolor": "#23272F",
         "linecolor": "#23272F",
         "showline": true,
         "title": {
          "text": "Цена"
         }
        }
       }
      }
     },
     "metadata": {},
     "output_type": "display_data"
    }
   ],
   "source": [
    "# Пример: последние 200 свечей из базовой таблицы\n",
    "show_recent_chart(\n",
    "    table_name=CANDLES_TABLE,\n",
    "    exchange='BINANCE_FUTURES',\n",
    "    symbol='BNB-USDT-PERP',\n",
    "    interval=BASE_INTERVAL,\n",
    "    limit=500,\n",
    "    client_kwargs=CLIENT_KWARGS,\n",
    ")\n"
   ]
  },
  {
   "cell_type": "code",
   "execution_count": 4,
   "id": "fc043fa7",
   "metadata": {},
   "outputs": [
    {
     "data": {
      "application/vnd.plotly.v1+json": {
       "config": {
        "plotlyServerURL": "https://plot.ly"
       },
       "data": [
        {
         "close": {
          "bdata": "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",
          "dtype": "f8"
         },
         "decreasing": {
          "fillcolor": "#FF4B4B",
          "line": {
           "color": "#FF4B4B"
          }
         },
         "high": {
          "bdata": "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",
          "dtype": "f8"
         },
         "increasing": {
          "fillcolor": "#00C087",
          "line": {
           "color": "#00C087"
          }
         },
         "low": {
          "bdata": "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",
          "dtype": "f8"
         },
         "name": "OHLC",
         "open": {
          "bdata": "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",
          "dtype": "f8"
         },
         "type": "candlestick",
         "x": [
          "2025-10-20T02:45:00",
          "2025-10-20T03:00:00",
          "2025-10-20T03:15:00",
          "2025-10-20T03:30:00",
          "2025-10-20T03:45:00",
          "2025-10-20T04:00:00",
          "2025-10-20T04:15:00",
          "2025-10-20T04:30:00",
          "2025-10-20T04:45:00",
          "2025-10-20T05:00:00",
          "2025-10-20T05:15:00",
          "2025-10-20T05:30:00",
          "2025-10-20T05:45:00",
          "2025-10-20T06:00:00",
          "2025-10-20T06:15:00",
          "2025-10-20T06:30:00",
          "2025-10-20T06:45:00",
          "2025-10-20T07:00:00",
          "2025-10-20T07:15:00",
          "2025-10-20T07:30:00",
          "2025-10-20T07:45:00",
          "2025-10-20T08:00:00",
          "2025-10-20T08:15:00",
          "2025-10-20T08:30:00",
          "2025-10-20T08:45:00",
          "2025-10-20T09:00:00",
          "2025-10-20T09:15:00",
          "2025-10-20T09:30:00",
          "2025-10-20T09:45:00",
          "2025-10-20T10:00:00",
          "2025-10-20T10:15:00",
          "2025-10-20T10:30:00",
          "2025-10-20T10:45:00",
          "2025-10-20T11:00:00",
          "2025-10-20T11:15:00",
          "2025-10-20T11:30:00",
          "2025-10-20T11:45:00",
          "2025-10-20T12:00:00",
          "2025-10-20T12:15:00",
          "2025-10-20T12:30:00",
          "2025-10-20T12:45:00",
          "2025-10-20T13:00:00",
          "2025-10-20T13:15:00",
          "2025-10-20T13:30:00",
          "2025-10-20T13:45:00",
          "2025-10-20T14:00:00",
          "2025-10-20T14:15:00",
          "2025-10-20T14:30:00",
          "2025-10-20T14:45:00",
          "2025-10-20T15:00:00",
          "2025-10-20T15:15:00",
          "2025-10-20T15:30:00",
          "2025-10-20T15:45:00",
          "2025-10-20T16:00:00",
          "2025-10-20T16:15:00",
          "2025-10-20T16:30:00",
          "2025-10-20T16:45:00",
          "2025-10-20T17:00:00",
          "2025-10-20T17:15:00",
          "2025-10-20T17:30:00",
          "2025-10-20T17:45:00",
          "2025-10-20T18:00:00",
          "2025-10-20T18:15:00",
          "2025-10-20T18:30:00",
          "2025-10-20T18:45:00",
          "2025-10-20T19:00:00",
          "2025-10-20T19:15:00",
          "2025-10-20T19:30:00",
          "2025-10-20T19:45:00",
          "2025-10-20T20:00:00",
          "2025-10-20T20:15:00",
          "2025-10-20T20:30:00",
          "2025-10-20T20:45:00",
          "2025-10-20T21:00:00",
          "2025-10-20T21:15:00",
          "2025-10-20T21:30:00",
          "2025-10-20T21:45:00",
          "2025-10-20T22:00:00",
          "2025-10-20T22:15:00",
          "2025-10-20T22:30:00",
          "2025-10-20T22:45:00",
          "2025-10-20T23:00:00",
          "2025-10-20T23:15:00",
          "2025-10-20T23:30:00",
          "2025-10-20T23:45:00",
          "2025-10-21T00:00:00",
          "2025-10-21T00:15:00",
          "2025-10-21T00:30:00",
          "2025-10-21T00:45:00",
          "2025-10-21T01:00:00",
          "2025-10-21T01:15:00",
          "2025-10-21T01:30:00",
          "2025-10-21T01:45:00",
          "2025-10-21T02:00:00",
          "2025-10-21T02:15:00",
          "2025-10-21T02:30:00",
          "2025-10-21T02:45:00",
          "2025-10-21T03:00:00",
          "2025-10-21T03:15:00",
          "2025-10-21T03:30:00",
          "2025-10-21T03:45:00",
          "2025-10-21T04:00:00",
          "2025-10-21T04:15:00",
          "2025-10-21T04:30:00",
          "2025-10-21T04:45:00",
          "2025-10-21T05:00:00",
          "2025-10-21T05:15:00",
          "2025-10-21T05:30:00",
          "2025-10-21T05:45:00",
          "2025-10-21T06:00:00",
          "2025-10-21T06:15:00",
          "2025-10-21T06:30:00",
          "2025-10-21T06:45:00",
          "2025-10-21T07:00:00",
          "2025-10-21T07:15:00",
          "2025-10-21T07:30:00",
          "2025-10-21T07:45:00",
          "2025-10-21T08:00:00",
          "2025-10-21T08:15:00",
          "2025-10-21T08:30:00",
          "2025-10-21T08:45:00",
          "2025-10-21T09:00:00",
          "2025-10-21T09:15:00",
          "2025-10-21T09:30:00",
          "2025-10-21T09:45:00",
          "2025-10-21T10:00:00",
          "2025-10-21T10:15:00",
          "2025-10-21T10:30:00",
          "2025-10-21T10:45:00",
          "2025-10-21T11:00:00",
          "2025-10-21T11:15:00",
          "2025-10-21T11:30:00",
          "2025-10-21T11:45:00",
          "2025-10-21T12:00:00",
          "2025-10-21T12:15:00",
          "2025-10-21T12:30:00",
          "2025-10-21T12:45:00",
          "2025-10-21T13:00:00",
          "2025-10-21T13:15:00",
          "2025-10-21T13:30:00",
          "2025-10-21T13:45:00",
          "2025-10-21T14:00:00",
          "2025-10-21T14:15:00",
          "2025-10-21T14:30:00",
          "2025-10-21T14:45:00",
          "2025-10-21T15:00:00",
          "2025-10-21T15:15:00",
          "2025-10-21T15:30:00",
          "2025-10-21T15:45:00",
          "2025-10-21T16:00:00",
          "2025-10-21T16:15:00",
          "2025-10-21T16:30:00",
          "2025-10-21T16:45:00",
          "2025-10-21T17:00:00",
          "2025-10-21T17:15:00",
          "2025-10-21T17:30:00",
          "2025-10-21T17:45:00",
          "2025-10-21T18:00:00",
          "2025-10-21T18:15:00",
          "2025-10-21T18:30:00",
          "2025-10-21T18:45:00",
          "2025-10-21T19:00:00",
          "2025-10-21T19:15:00",
          "2025-10-21T19:30:00",
          "2025-10-21T19:45:00",
          "2025-10-21T20:00:00",
          "2025-10-21T20:15:00",
          "2025-10-21T20:30:00",
          "2025-10-21T20:45:00",
          "2025-10-21T21:00:00",
          "2025-10-21T21:15:00",
          "2025-10-21T21:30:00",
          "2025-10-21T21:45:00",
          "2025-10-21T22:00:00",
          "2025-10-21T22:15:00",
          "2025-10-21T22:30:00",
          "2025-10-21T22:45:00",
          "2025-10-21T23:00:00",
          "2025-10-21T23:15:00",
          "2025-10-21T23:30:00",
          "2025-10-21T23:45:00",
          "2025-10-22T00:00:00",
          "2025-10-22T00:15:00",
          "2025-10-22T00:30:00",
          "2025-10-22T00:45:00",
          "2025-10-22T01:00:00",
          "2025-10-22T01:15:00",
          "2025-10-22T01:30:00",
          "2025-10-22T01:45:00",
          "2025-10-22T02:00:00",
          "2025-10-22T02:15:00",
          "2025-10-22T02:30:00",
          "2025-10-22T02:45:00",
          "2025-10-22T03:00:00",
          "2025-10-22T03:15:00",
          "2025-10-22T03:30:00",
          "2025-10-22T03:45:00",
          "2025-10-22T04:00:00",
          "2025-10-22T04:15:00",
          "2025-10-22T04:30:00"
         ]
        }
       ],
       "layout": {
        "hovermode": "x unified",
        "paper_bgcolor": "#181A20",
        "plot_bgcolor": "#181A20",
        "template": {
         "data": {
          "bar": [
           {
            "error_x": {
             "color": "#f2f5fa"
            },
            "error_y": {
             "color": "#f2f5fa"
            },
            "marker": {
             "line": {
              "color": "rgb(17,17,17)",
              "width": 0.5
             },
             "pattern": {
              "fillmode": "overlay",
              "size": 10,
              "solidity": 0.2
             }
            },
            "type": "bar"
           }
          ],
          "barpolar": [
           {
            "marker": {
             "line": {
              "color": "rgb(17,17,17)",
              "width": 0.5
             },
             "pattern": {
              "fillmode": "overlay",
              "size": 10,
              "solidity": 0.2
             }
            },
            "type": "barpolar"
           }
          ],
          "carpet": [
           {
            "aaxis": {
             "endlinecolor": "#A2B1C6",
             "gridcolor": "#506784",
             "linecolor": "#506784",
             "minorgridcolor": "#506784",
             "startlinecolor": "#A2B1C6"
            },
            "baxis": {
             "endlinecolor": "#A2B1C6",
             "gridcolor": "#506784",
             "linecolor": "#506784",
             "minorgridcolor": "#506784",
             "startlinecolor": "#A2B1C6"
            },
            "type": "carpet"
           }
          ],
          "choropleth": [
           {
            "colorbar": {
             "outlinewidth": 0,
             "ticks": ""
            },
            "type": "choropleth"
           }
          ],
          "contour": [
           {
            "colorbar": {
             "outlinewidth": 0,
             "ticks": ""
            },
            "colorscale": [
             [
              0,
              "#0d0887"
             ],
             [
              0.1111111111111111,
              "#46039f"
             ],
             [
              0.2222222222222222,
              "#7201a8"
             ],
             [
              0.3333333333333333,
              "#9c179e"
             ],
             [
              0.4444444444444444,
              "#bd3786"
             ],
             [
              0.5555555555555556,
              "#d8576b"
             ],
             [
              0.6666666666666666,
              "#ed7953"
             ],
             [
              0.7777777777777778,
              "#fb9f3a"
             ],
             [
              0.8888888888888888,
              "#fdca26"
             ],
             [
              1,
              "#f0f921"
             ]
            ],
            "type": "contour"
           }
          ],
          "contourcarpet": [
           {
            "colorbar": {
             "outlinewidth": 0,
             "ticks": ""
            },
            "type": "contourcarpet"
           }
          ],
          "heatmap": [
           {
            "colorbar": {
             "outlinewidth": 0,
             "ticks": ""
            },
            "colorscale": [
             [
              0,
              "#0d0887"
             ],
             [
              0.1111111111111111,
              "#46039f"
             ],
             [
              0.2222222222222222,
              "#7201a8"
             ],
             [
              0.3333333333333333,
              "#9c179e"
             ],
             [
              0.4444444444444444,
              "#bd3786"
             ],
             [
              0.5555555555555556,
              "#d8576b"
             ],
             [
              0.6666666666666666,
              "#ed7953"
             ],
             [
              0.7777777777777778,
              "#fb9f3a"
             ],
             [
              0.8888888888888888,
              "#fdca26"
             ],
             [
              1,
              "#f0f921"
             ]
            ],
            "type": "heatmap"
           }
          ],
          "histogram": [
           {
            "marker": {
             "pattern": {
              "fillmode": "overlay",
              "size": 10,
              "solidity": 0.2
             }
            },
            "type": "histogram"
           }
          ],
          "histogram2d": [
           {
            "colorbar": {
             "outlinewidth": 0,
             "ticks": ""
            },
            "colorscale": [
             [
              0,
              "#0d0887"
             ],
             [
              0.1111111111111111,
              "#46039f"
             ],
             [
              0.2222222222222222,
              "#7201a8"
             ],
             [
              0.3333333333333333,
              "#9c179e"
             ],
             [
              0.4444444444444444,
              "#bd3786"
             ],
             [
              0.5555555555555556,
              "#d8576b"
             ],
             [
              0.6666666666666666,
              "#ed7953"
             ],
             [
              0.7777777777777778,
              "#fb9f3a"
             ],
             [
              0.8888888888888888,
              "#fdca26"
             ],
             [
              1,
              "#f0f921"
             ]
            ],
            "type": "histogram2d"
           }
          ],
          "histogram2dcontour": [
           {
            "colorbar": {
             "outlinewidth": 0,
             "ticks": ""
            },
            "colorscale": [
             [
              0,
              "#0d0887"
             ],
             [
              0.1111111111111111,
              "#46039f"
             ],
             [
              0.2222222222222222,
              "#7201a8"
             ],
             [
              0.3333333333333333,
              "#9c179e"
             ],
             [
              0.4444444444444444,
              "#bd3786"
             ],
             [
              0.5555555555555556,
              "#d8576b"
             ],
             [
              0.6666666666666666,
              "#ed7953"
             ],
             [
              0.7777777777777778,
              "#fb9f3a"
             ],
             [
              0.8888888888888888,
              "#fdca26"
             ],
             [
              1,
              "#f0f921"
             ]
            ],
            "type": "histogram2dcontour"
           }
          ],
          "mesh3d": [
           {
            "colorbar": {
             "outlinewidth": 0,
             "ticks": ""
            },
            "type": "mesh3d"
           }
          ],
          "parcoords": [
           {
            "line": {
             "colorbar": {
              "outlinewidth": 0,
              "ticks": ""
             }
            },
            "type": "parcoords"
           }
          ],
          "pie": [
           {
            "automargin": true,
            "type": "pie"
           }
          ],
          "scatter": [
           {
            "marker": {
             "line": {
              "color": "#283442"
             }
            },
            "type": "scatter"
           }
          ],
          "scatter3d": [
           {
            "line": {
             "colorbar": {
              "outlinewidth": 0,
              "ticks": ""
             }
            },
            "marker": {
             "colorbar": {
              "outlinewidth": 0,
              "ticks": ""
             }
            },
            "type": "scatter3d"
           }
          ],
          "scattercarpet": [
           {
            "marker": {
             "colorbar": {
              "outlinewidth": 0,
              "ticks": ""
             }
            },
            "type": "scattercarpet"
           }
          ],
          "scattergeo": [
           {
            "marker": {
             "colorbar": {
              "outlinewidth": 0,
              "ticks": ""
             }
            },
            "type": "scattergeo"
           }
          ],
          "scattergl": [
           {
            "marker": {
             "line": {
              "color": "#283442"
             }
            },
            "type": "scattergl"
           }
          ],
          "scattermap": [
           {
            "marker": {
             "colorbar": {
              "outlinewidth": 0,
              "ticks": ""
             }
            },
            "type": "scattermap"
           }
          ],
          "scattermapbox": [
           {
            "marker": {
             "colorbar": {
              "outlinewidth": 0,
              "ticks": ""
             }
            },
            "type": "scattermapbox"
           }
          ],
          "scatterpolar": [
           {
            "marker": {
             "colorbar": {
              "outlinewidth": 0,
              "ticks": ""
             }
            },
            "type": "scatterpolar"
           }
          ],
          "scatterpolargl": [
           {
            "marker": {
             "colorbar": {
              "outlinewidth": 0,
              "ticks": ""
             }
            },
            "type": "scatterpolargl"
           }
          ],
          "scatterternary": [
           {
            "marker": {
             "colorbar": {
              "outlinewidth": 0,
              "ticks": ""
             }
            },
            "type": "scatterternary"
           }
          ],
          "surface": [
           {
            "colorbar": {
             "outlinewidth": 0,
             "ticks": ""
            },
            "colorscale": [
             [
              0,
              "#0d0887"
             ],
             [
              0.1111111111111111,
              "#46039f"
             ],
             [
              0.2222222222222222,
              "#7201a8"
             ],
             [
              0.3333333333333333,
              "#9c179e"
             ],
             [
              0.4444444444444444,
              "#bd3786"
             ],
             [
              0.5555555555555556,
              "#d8576b"
             ],
             [
              0.6666666666666666,
              "#ed7953"
             ],
             [
              0.7777777777777778,
              "#fb9f3a"
             ],
             [
              0.8888888888888888,
              "#fdca26"
             ],
             [
              1,
              "#f0f921"
             ]
            ],
            "type": "surface"
           }
          ],
          "table": [
           {
            "cells": {
             "fill": {
              "color": "#506784"
             },
             "line": {
              "color": "rgb(17,17,17)"
             }
            },
            "header": {
             "fill": {
              "color": "#2a3f5f"
             },
             "line": {
              "color": "rgb(17,17,17)"
             }
            },
            "type": "table"
           }
          ]
         },
         "layout": {
          "annotationdefaults": {
           "arrowcolor": "#f2f5fa",
           "arrowhead": 0,
           "arrowwidth": 1
          },
          "autotypenumbers": "strict",
          "coloraxis": {
           "colorbar": {
            "outlinewidth": 0,
            "ticks": ""
           }
          },
          "colorscale": {
           "diverging": [
            [
             0,
             "#8e0152"
            ],
            [
             0.1,
             "#c51b7d"
            ],
            [
             0.2,
             "#de77ae"
            ],
            [
             0.3,
             "#f1b6da"
            ],
            [
             0.4,
             "#fde0ef"
            ],
            [
             0.5,
             "#f7f7f7"
            ],
            [
             0.6,
             "#e6f5d0"
            ],
            [
             0.7,
             "#b8e186"
            ],
            [
             0.8,
             "#7fbc41"
            ],
            [
             0.9,
             "#4d9221"
            ],
            [
             1,
             "#276419"
            ]
           ],
           "sequential": [
            [
             0,
             "#0d0887"
            ],
            [
             0.1111111111111111,
             "#46039f"
            ],
            [
             0.2222222222222222,
             "#7201a8"
            ],
            [
             0.3333333333333333,
             "#9c179e"
            ],
            [
             0.4444444444444444,
             "#bd3786"
            ],
            [
             0.5555555555555556,
             "#d8576b"
            ],
            [
             0.6666666666666666,
             "#ed7953"
            ],
            [
             0.7777777777777778,
             "#fb9f3a"
            ],
            [
             0.8888888888888888,
             "#fdca26"
            ],
            [
             1,
             "#f0f921"
            ]
           ],
           "sequentialminus": [
            [
             0,
             "#0d0887"
            ],
            [
             0.1111111111111111,
             "#46039f"
            ],
            [
             0.2222222222222222,
             "#7201a8"
            ],
            [
             0.3333333333333333,
             "#9c179e"
            ],
            [
             0.4444444444444444,
             "#bd3786"
            ],
            [
             0.5555555555555556,
             "#d8576b"
            ],
            [
             0.6666666666666666,
             "#ed7953"
            ],
            [
             0.7777777777777778,
             "#fb9f3a"
            ],
            [
             0.8888888888888888,
             "#fdca26"
            ],
            [
             1,
             "#f0f921"
            ]
           ]
          },
          "colorway": [
           "#636efa",
           "#EF553B",
           "#00cc96",
           "#ab63fa",
           "#FFA15A",
           "#19d3f3",
           "#FF6692",
           "#B6E880",
           "#FF97FF",
           "#FECB52"
          ],
          "font": {
           "color": "#f2f5fa"
          },
          "geo": {
           "bgcolor": "rgb(17,17,17)",
           "lakecolor": "rgb(17,17,17)",
           "landcolor": "rgb(17,17,17)",
           "showlakes": true,
           "showland": true,
           "subunitcolor": "#506784"
          },
          "hoverlabel": {
           "align": "left"
          },
          "hovermode": "closest",
          "mapbox": {
           "style": "dark"
          },
          "paper_bgcolor": "rgb(17,17,17)",
          "plot_bgcolor": "rgb(17,17,17)",
          "polar": {
           "angularaxis": {
            "gridcolor": "#506784",
            "linecolor": "#506784",
            "ticks": ""
           },
           "bgcolor": "rgb(17,17,17)",
           "radialaxis": {
            "gridcolor": "#506784",
            "linecolor": "#506784",
            "ticks": ""
           }
          },
          "scene": {
           "xaxis": {
            "backgroundcolor": "rgb(17,17,17)",
            "gridcolor": "#506784",
            "gridwidth": 2,
            "linecolor": "#506784",
            "showbackground": true,
            "ticks": "",
            "zerolinecolor": "#C8D4E3"
           },
           "yaxis": {
            "backgroundcolor": "rgb(17,17,17)",
            "gridcolor": "#506784",
            "gridwidth": 2,
            "linecolor": "#506784",
            "showbackground": true,
            "ticks": "",
            "zerolinecolor": "#C8D4E3"
           },
           "zaxis": {
            "backgroundcolor": "rgb(17,17,17)",
            "gridcolor": "#506784",
            "gridwidth": 2,
            "linecolor": "#506784",
            "showbackground": true,
            "ticks": "",
            "zerolinecolor": "#C8D4E3"
           }
          },
          "shapedefaults": {
           "line": {
            "color": "#f2f5fa"
           }
          },
          "sliderdefaults": {
           "bgcolor": "#C8D4E3",
           "bordercolor": "rgb(17,17,17)",
           "borderwidth": 1,
           "tickwidth": 0
          },
          "ternary": {
           "aaxis": {
            "gridcolor": "#506784",
            "linecolor": "#506784",
            "ticks": ""
           },
           "baxis": {
            "gridcolor": "#506784",
            "linecolor": "#506784",
            "ticks": ""
           },
           "bgcolor": "rgb(17,17,17)",
           "caxis": {
            "gridcolor": "#506784",
            "linecolor": "#506784",
            "ticks": ""
           }
          },
          "title": {
           "x": 0.05
          },
          "updatemenudefaults": {
           "bgcolor": "#506784",
           "borderwidth": 0
          },
          "xaxis": {
           "automargin": true,
           "gridcolor": "#283442",
           "linecolor": "#506784",
           "ticks": "",
           "title": {
            "standoff": 15
           },
           "zerolinecolor": "#283442",
           "zerolinewidth": 2
          },
          "yaxis": {
           "automargin": true,
           "gridcolor": "#283442",
           "linecolor": "#506784",
           "ticks": "",
           "title": {
            "standoff": 15
           },
           "zerolinecolor": "#283442",
           "zerolinewidth": 2
          }
         }
        },
        "title": {
         "text": "BNB-USDT-PERP (15m)"
        },
        "xaxis": {
         "gridcolor": "#23272F",
         "linecolor": "#23272F",
         "rangeslider": {
          "visible": false
         },
         "showline": true,
         "title": {
          "text": "Время (UTC)"
         }
        },
        "yaxis": {
         "gridcolor": "#23272F",
         "linecolor": "#23272F",
         "showline": true,
         "title": {
          "text": "Цена"
         }
        }
       }
      }
     },
     "metadata": {},
     "output_type": "display_data"
    }
   ],
   "source": [
    "# Пример: последние 100 свечей из материализованной витрины\n",
    "show_recent_chart(\n",
    "    table_name='candles_15m',\n",
    "    exchange='BINANCE_FUTURES',\n",
    "    symbol='BNB-USDT-PERP',\n",
    "    interval=None,\n",
    "    limit=200,\n",
    "    client_kwargs=CLIENT_KWARGS,\n",
    ")\n"
   ]
  }
 ],
 "metadata": {
  "kernelspec": {
   "display_name": "wenv",
   "language": "python",
   "name": "python3"
  },
  "language_info": {
   "codemirror_mode": {
    "name": "ipython",
    "version": 3
   },
   "file_extension": ".py",
   "mimetype": "text/x-python",
   "name": "python",
   "nbconvert_exporter": "python",
   "pygments_lexer": "ipython3",
   "version": "3.12.11"
  }
 },
 "nbformat": 4,
 "nbformat_minor": 5
}
